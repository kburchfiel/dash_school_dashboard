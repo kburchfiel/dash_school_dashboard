{
 "cells": [
  {
   "attachments": {},
   "cell_type": "markdown",
   "metadata": {},
   "source": [
    "## Sandbox for testing out chart options"
   ]
  },
  {
   "cell_type": "code",
   "execution_count": 1,
   "metadata": {},
   "outputs": [],
   "source": [
    "import pandas as pd\n",
    "import plotly.express as px"
   ]
  },
  {
   "cell_type": "code",
   "execution_count": 2,
   "metadata": {},
   "outputs": [
    {
     "data": {
      "text/html": [
       "<div>\n",
       "<style scoped>\n",
       "    .dataframe tbody tr th:only-of-type {\n",
       "        vertical-align: middle;\n",
       "    }\n",
       "\n",
       "    .dataframe tbody tr th {\n",
       "        vertical-align: top;\n",
       "    }\n",
       "\n",
       "    .dataframe thead th {\n",
       "        text-align: right;\n",
       "    }\n",
       "</style>\n",
       "<table border=\"1\" class=\"dataframe\">\n",
       "  <thead>\n",
       "    <tr style=\"text-align: right;\">\n",
       "      <th></th>\n",
       "      <th>Student_ID</th>\n",
       "      <th>First_Name</th>\n",
       "      <th>Last_Name</th>\n",
       "      <th>Full_School_Name</th>\n",
       "      <th>School</th>\n",
       "      <th>Grade</th>\n",
       "      <th>Gender</th>\n",
       "      <th>Race</th>\n",
       "      <th>Ethnicity</th>\n",
       "      <th>Street</th>\n",
       "      <th>City</th>\n",
       "      <th>State</th>\n",
       "      <th>Zip</th>\n",
       "      <th>Lat</th>\n",
       "      <th>Lon</th>\n",
       "      <th>Address</th>\n",
       "      <th>geometry</th>\n",
       "      <th>Students</th>\n",
       "      <th>Grade_for_Sorting</th>\n",
       "    </tr>\n",
       "  </thead>\n",
       "  <tbody>\n",
       "    <tr>\n",
       "      <th>0</th>\n",
       "      <td>1182</td>\n",
       "      <td>Andrew</td>\n",
       "      <td>Anderson</td>\n",
       "      <td>Chestnut Academy</td>\n",
       "      <td>CA</td>\n",
       "      <td>1</td>\n",
       "      <td>Male</td>\n",
       "      <td>Asian</td>\n",
       "      <td>Non-Hispanic</td>\n",
       "      <td>22325 Mooreview Parkway</td>\n",
       "      <td>Ashburn</td>\n",
       "      <td>VA</td>\n",
       "      <td>20148</td>\n",
       "      <td>38.999300</td>\n",
       "      <td>-77.505500</td>\n",
       "      <td>22325 Mooreview Parkway, Ashburn, VA 20148</td>\n",
       "      <td>POINT (-77.5055 38.9993)</td>\n",
       "      <td>1</td>\n",
       "      <td>1</td>\n",
       "    </tr>\n",
       "    <tr>\n",
       "      <th>1</th>\n",
       "      <td>1965</td>\n",
       "      <td>Sean</td>\n",
       "      <td>Barnes</td>\n",
       "      <td>Chestnut Academy</td>\n",
       "      <td>CA</td>\n",
       "      <td>1</td>\n",
       "      <td>Male</td>\n",
       "      <td>White</td>\n",
       "      <td>Hispanic</td>\n",
       "      <td>1272 Mill Dam Rd</td>\n",
       "      <td>Virginia Beach</td>\n",
       "      <td>VA</td>\n",
       "      <td>23454</td>\n",
       "      <td>36.873700</td>\n",
       "      <td>-76.029300</td>\n",
       "      <td>1272 Mill Dam Rd, Virginia Beach, VA 23454</td>\n",
       "      <td>POINT (-76.0293 36.8737)</td>\n",
       "      <td>1</td>\n",
       "      <td>1</td>\n",
       "    </tr>\n",
       "    <tr>\n",
       "      <th>2</th>\n",
       "      <td>247</td>\n",
       "      <td>Randy</td>\n",
       "      <td>Barr</td>\n",
       "      <td>Chestnut Academy</td>\n",
       "      <td>CA</td>\n",
       "      <td>1</td>\n",
       "      <td>Male</td>\n",
       "      <td>White</td>\n",
       "      <td>Non-Hispanic</td>\n",
       "      <td>1237 Lacey Putney Way</td>\n",
       "      <td>Bedford</td>\n",
       "      <td>VA</td>\n",
       "      <td>24523</td>\n",
       "      <td>37.370107</td>\n",
       "      <td>-79.491756</td>\n",
       "      <td>1237 Lacey Putney Way, Bedford, VA 24523</td>\n",
       "      <td>POINT (-79.491756 37.370107)</td>\n",
       "      <td>1</td>\n",
       "      <td>1</td>\n",
       "    </tr>\n",
       "    <tr>\n",
       "      <th>3</th>\n",
       "      <td>3859</td>\n",
       "      <td>Ashley</td>\n",
       "      <td>Boone</td>\n",
       "      <td>Chestnut Academy</td>\n",
       "      <td>CA</td>\n",
       "      <td>1</td>\n",
       "      <td>Female</td>\n",
       "      <td>African American</td>\n",
       "      <td>Non-Hispanic</td>\n",
       "      <td>100 Pendleton Place</td>\n",
       "      <td>Lexington</td>\n",
       "      <td>VA</td>\n",
       "      <td>24450</td>\n",
       "      <td>37.782167</td>\n",
       "      <td>-79.452014</td>\n",
       "      <td>100 Pendleton Place, Lexington, VA 24450</td>\n",
       "      <td>POINT (-79.452014 37.782167)</td>\n",
       "      <td>1</td>\n",
       "      <td>1</td>\n",
       "    </tr>\n",
       "    <tr>\n",
       "      <th>4</th>\n",
       "      <td>2757</td>\n",
       "      <td>Rita</td>\n",
       "      <td>Brown</td>\n",
       "      <td>Chestnut Academy</td>\n",
       "      <td>CA</td>\n",
       "      <td>1</td>\n",
       "      <td>Female</td>\n",
       "      <td>Asian</td>\n",
       "      <td>Non-Hispanic</td>\n",
       "      <td>2 DOLD PL</td>\n",
       "      <td>LEXINGTON</td>\n",
       "      <td>VA</td>\n",
       "      <td>24450</td>\n",
       "      <td>37.788380</td>\n",
       "      <td>-79.447801</td>\n",
       "      <td>2 DOLD PL, LEXINGTON, VA 24450</td>\n",
       "      <td>POINT (-79.447801 37.78838)</td>\n",
       "      <td>1</td>\n",
       "      <td>1</td>\n",
       "    </tr>\n",
       "    <tr>\n",
       "      <th>...</th>\n",
       "      <td>...</td>\n",
       "      <td>...</td>\n",
       "      <td>...</td>\n",
       "      <td>...</td>\n",
       "      <td>...</td>\n",
       "      <td>...</td>\n",
       "      <td>...</td>\n",
       "      <td>...</td>\n",
       "      <td>...</td>\n",
       "      <td>...</td>\n",
       "      <td>...</td>\n",
       "      <td>...</td>\n",
       "      <td>...</td>\n",
       "      <td>...</td>\n",
       "      <td>...</td>\n",
       "      <td>...</td>\n",
       "      <td>...</td>\n",
       "      <td>...</td>\n",
       "      <td>...</td>\n",
       "    </tr>\n",
       "    <tr>\n",
       "      <th>3995</th>\n",
       "      <td>2334</td>\n",
       "      <td>Jessica</td>\n",
       "      <td>Watts</td>\n",
       "      <td>Sycamore Academy</td>\n",
       "      <td>SA</td>\n",
       "      <td>K</td>\n",
       "      <td>Female</td>\n",
       "      <td>African American</td>\n",
       "      <td>Hispanic</td>\n",
       "      <td>500 N ALLEN AVE</td>\n",
       "      <td>RICHMOND</td>\n",
       "      <td>VA</td>\n",
       "      <td>23220</td>\n",
       "      <td>37.554680</td>\n",
       "      <td>-77.459811</td>\n",
       "      <td>500 N ALLEN AVE, RICHMOND, VA 23220</td>\n",
       "      <td>POINT (-77.459811 37.55468)</td>\n",
       "      <td>1</td>\n",
       "      <td>0</td>\n",
       "    </tr>\n",
       "    <tr>\n",
       "      <th>3996</th>\n",
       "      <td>3566</td>\n",
       "      <td>Jean</td>\n",
       "      <td>Weaver</td>\n",
       "      <td>Sycamore Academy</td>\n",
       "      <td>SA</td>\n",
       "      <td>K</td>\n",
       "      <td>Female</td>\n",
       "      <td>African American</td>\n",
       "      <td>Non-Hispanic</td>\n",
       "      <td>540 E Court Street</td>\n",
       "      <td>Rocky Mount</td>\n",
       "      <td>VA</td>\n",
       "      <td>24151</td>\n",
       "      <td>36.995400</td>\n",
       "      <td>-79.879500</td>\n",
       "      <td>540 E Court Street, Rocky Mount, VA 24151</td>\n",
       "      <td>POINT (-79.8795 36.9954)</td>\n",
       "      <td>1</td>\n",
       "      <td>0</td>\n",
       "    </tr>\n",
       "    <tr>\n",
       "      <th>3997</th>\n",
       "      <td>2339</td>\n",
       "      <td>Misty</td>\n",
       "      <td>White</td>\n",
       "      <td>Sycamore Academy</td>\n",
       "      <td>SA</td>\n",
       "      <td>K</td>\n",
       "      <td>Female</td>\n",
       "      <td>Asian</td>\n",
       "      <td>Hispanic</td>\n",
       "      <td>21 MOHICAN DR</td>\n",
       "      <td>PORTSMOUTH</td>\n",
       "      <td>VA</td>\n",
       "      <td>23701</td>\n",
       "      <td>36.813370</td>\n",
       "      <td>-76.365091</td>\n",
       "      <td>21 MOHICAN DR, PORTSMOUTH, VA 23701</td>\n",
       "      <td>POINT (-76.365091 36.81337)</td>\n",
       "      <td>1</td>\n",
       "      <td>0</td>\n",
       "    </tr>\n",
       "    <tr>\n",
       "      <th>3998</th>\n",
       "      <td>439</td>\n",
       "      <td>Gary</td>\n",
       "      <td>Williams</td>\n",
       "      <td>Sycamore Academy</td>\n",
       "      <td>SA</td>\n",
       "      <td>K</td>\n",
       "      <td>Male</td>\n",
       "      <td>White</td>\n",
       "      <td>Non-Hispanic</td>\n",
       "      <td>900 Starlight Lane</td>\n",
       "      <td>North Chesterfield</td>\n",
       "      <td>VA</td>\n",
       "      <td>23235</td>\n",
       "      <td>37.488300</td>\n",
       "      <td>-77.543000</td>\n",
       "      <td>900 Starlight Lane, North Chesterfield, VA 23235</td>\n",
       "      <td>POINT (-77.543 37.4883)</td>\n",
       "      <td>1</td>\n",
       "      <td>0</td>\n",
       "    </tr>\n",
       "    <tr>\n",
       "      <th>3999</th>\n",
       "      <td>307</td>\n",
       "      <td>James</td>\n",
       "      <td>Young</td>\n",
       "      <td>Sycamore Academy</td>\n",
       "      <td>SA</td>\n",
       "      <td>K</td>\n",
       "      <td>Male</td>\n",
       "      <td>Asian</td>\n",
       "      <td>Non-Hispanic</td>\n",
       "      <td>40 Frank Harris Raod</td>\n",
       "      <td>Dillwyn</td>\n",
       "      <td>VA</td>\n",
       "      <td>23936</td>\n",
       "      <td>37.553800</td>\n",
       "      <td>-78.484400</td>\n",
       "      <td>40 Frank Harris Raod, Dillwyn, VA 23936</td>\n",
       "      <td>POINT (-78.4844 37.5538)</td>\n",
       "      <td>1</td>\n",
       "      <td>0</td>\n",
       "    </tr>\n",
       "  </tbody>\n",
       "</table>\n",
       "<p>4000 rows × 19 columns</p>\n",
       "</div>"
      ],
      "text/plain": [
       "      Student_ID First_Name Last_Name  Full_School_Name School Grade  Gender  \\\n",
       "0           1182     Andrew  Anderson  Chestnut Academy     CA     1    Male   \n",
       "1           1965       Sean    Barnes  Chestnut Academy     CA     1    Male   \n",
       "2            247      Randy      Barr  Chestnut Academy     CA     1    Male   \n",
       "3           3859     Ashley     Boone  Chestnut Academy     CA     1  Female   \n",
       "4           2757       Rita     Brown  Chestnut Academy     CA     1  Female   \n",
       "...          ...        ...       ...               ...    ...   ...     ...   \n",
       "3995        2334    Jessica     Watts  Sycamore Academy     SA     K  Female   \n",
       "3996        3566       Jean    Weaver  Sycamore Academy     SA     K  Female   \n",
       "3997        2339      Misty     White  Sycamore Academy     SA     K  Female   \n",
       "3998         439       Gary  Williams  Sycamore Academy     SA     K    Male   \n",
       "3999         307      James     Young  Sycamore Academy     SA     K    Male   \n",
       "\n",
       "                  Race     Ethnicity                   Street  \\\n",
       "0                Asian  Non-Hispanic  22325 Mooreview Parkway   \n",
       "1                White      Hispanic         1272 Mill Dam Rd   \n",
       "2                White  Non-Hispanic    1237 Lacey Putney Way   \n",
       "3     African American  Non-Hispanic      100 Pendleton Place   \n",
       "4                Asian  Non-Hispanic                2 DOLD PL   \n",
       "...                ...           ...                      ...   \n",
       "3995  African American      Hispanic          500 N ALLEN AVE   \n",
       "3996  African American  Non-Hispanic       540 E Court Street   \n",
       "3997             Asian      Hispanic            21 MOHICAN DR   \n",
       "3998             White  Non-Hispanic       900 Starlight Lane   \n",
       "3999             Asian  Non-Hispanic     40 Frank Harris Raod   \n",
       "\n",
       "                    City State    Zip        Lat        Lon  \\\n",
       "0                Ashburn    VA  20148  38.999300 -77.505500   \n",
       "1         Virginia Beach    VA  23454  36.873700 -76.029300   \n",
       "2                Bedford    VA  24523  37.370107 -79.491756   \n",
       "3              Lexington    VA  24450  37.782167 -79.452014   \n",
       "4              LEXINGTON    VA  24450  37.788380 -79.447801   \n",
       "...                  ...   ...    ...        ...        ...   \n",
       "3995            RICHMOND    VA  23220  37.554680 -77.459811   \n",
       "3996         Rocky Mount    VA  24151  36.995400 -79.879500   \n",
       "3997          PORTSMOUTH    VA  23701  36.813370 -76.365091   \n",
       "3998  North Chesterfield    VA  23235  37.488300 -77.543000   \n",
       "3999             Dillwyn    VA  23936  37.553800 -78.484400   \n",
       "\n",
       "                                               Address  \\\n",
       "0           22325 Mooreview Parkway, Ashburn, VA 20148   \n",
       "1           1272 Mill Dam Rd, Virginia Beach, VA 23454   \n",
       "2             1237 Lacey Putney Way, Bedford, VA 24523   \n",
       "3             100 Pendleton Place, Lexington, VA 24450   \n",
       "4                       2 DOLD PL, LEXINGTON, VA 24450   \n",
       "...                                                ...   \n",
       "3995               500 N ALLEN AVE, RICHMOND, VA 23220   \n",
       "3996         540 E Court Street, Rocky Mount, VA 24151   \n",
       "3997               21 MOHICAN DR, PORTSMOUTH, VA 23701   \n",
       "3998  900 Starlight Lane, North Chesterfield, VA 23235   \n",
       "3999           40 Frank Harris Raod, Dillwyn, VA 23936   \n",
       "\n",
       "                          geometry  Students  Grade_for_Sorting  \n",
       "0         POINT (-77.5055 38.9993)         1                  1  \n",
       "1         POINT (-76.0293 36.8737)         1                  1  \n",
       "2     POINT (-79.491756 37.370107)         1                  1  \n",
       "3     POINT (-79.452014 37.782167)         1                  1  \n",
       "4      POINT (-79.447801 37.78838)         1                  1  \n",
       "...                            ...       ...                ...  \n",
       "3995   POINT (-77.459811 37.55468)         1                  0  \n",
       "3996      POINT (-79.8795 36.9954)         1                  0  \n",
       "3997   POINT (-76.365091 36.81337)         1                  0  \n",
       "3998       POINT (-77.543 37.4883)         1                  0  \n",
       "3999      POINT (-78.4844 37.5538)         1                  0  \n",
       "\n",
       "[4000 rows x 19 columns]"
      ]
     },
     "execution_count": 2,
     "metadata": {},
     "output_type": "execute_result"
    }
   ],
   "source": [
    "df_students = pd.read_csv('table_students.csv')\n",
    "df_students"
   ]
  },
  {
   "cell_type": "code",
   "execution_count": 3,
   "metadata": {},
   "outputs": [
    {
     "data": {
      "text/plain": [
       "['Chestnut Academy', 'Dogwood Academy', 'Hickory Academy', 'Sycamore Academy']"
      ]
     },
     "execution_count": 3,
     "metadata": {},
     "output_type": "execute_result"
    }
   ],
   "source": [
    "list(df_students['Full_School_Name'].unique())"
   ]
  },
  {
   "cell_type": "code",
   "execution_count": 9,
   "metadata": {},
   "outputs": [],
   "source": [
    "def create_interactive_bar_chart_and_table(original_data_source, y_value,\n",
    "comparison_values, pivot_aggfunc, filter_list = None, \n",
    "color_value = None, color_discrete_map = None, barmode = 'group',\n",
    "drop_color_value_from_x_vals = True, reorder_bars_by = '',\n",
    "reordering_map = {}, debug = False):\n",
    "    '''\n",
    "    This function creates an interactive bar chart (created using \n",
    "    px.histogram() and a corresponding set of table data. Users can\n",
    "    update the chart by selecting comparison and filter values. \n",
    "    These charts and table data are based off a pivot table that is \n",
    "    created using the comparison values specified in the \n",
    "    comparison_values argument. \n",
    "\n",
    "    original_data_source: The source of the data that will be graphed.\n",
    "\n",
    "    y_value: The y value to use within the graph.\n",
    "\n",
    "    comparison_values: A list of values that will be used to pivot the\n",
    "    DataFrame. These values help determine the level of detail shown in the\n",
    "    final bar chart. Set this to an empty list ([]) \n",
    "    if no comparison values will be used. \n",
    "\n",
    "    pivot_aggfunc: the function ('mean', 'sum', 'count', etc.) to be passed\n",
    "    to the pivot_table() call.\n",
    "\n",
    "    filter_list: a list of tuples that govern how the DataFrame will be \n",
    "    filtered. The first component of each tuple is a column name; the second\n",
    "    component is a list of values to include.\n",
    "\n",
    "    color_value: The variable to use for a color-based comparison in the\n",
    "    final graph.\n",
    "\n",
    "    color_discrete_map: A custom color mapping to pass to the chart.\n",
    "\n",
    "    In order to represent all of the specified values in the bar chart, \n",
    "    the code creates a column describing all (or almost all) \n",
    "    of the pivot index variables\n",
    "    in the other columns, which then gets fed into the x axis parameter of \n",
    "    a histogram. However, if a color value is also specified, this item \n",
    "    does not get added into this column, since this\n",
    "    data will already get represented in the bar chart (by means of the color\n",
    "    legend). Removing this value helps\n",
    "    simplify the final chart output.\n",
    "\n",
    "    reorder_bars_by and reordering_map: Variables that you can\n",
    "    use to update the order of the bars in the resulting chart. For instance,\n",
    "    suppose you want to order the bars by a 'grade' column whose values\n",
    "    range from K (kindergarten) to 12. If these are stored as strings \n",
    "    (which they often will be due to the inclusion of 'K'),\n",
    "    the first 5 bars will be 1, 10, 11, 12, and 2, and the \n",
    "    last bar will be K. (That's because these bars are \n",
    "    being treated alphabetically). However, by setting\n",
    "    reorder_bars_by to 'grade' and reordering_map to {'K':0, '1':1, '2':2, \n",
    "    '3':3, '4':4, '5':5, '6':6, '7':7, '8':8, '9':9, '10':10, '11':11, \n",
    "    '12':12, 1:1, 2:2, 3:3, 4:4, 5:5, 6:6, 7:7, 8:8, 9:9, 10:10, 11:11, 12:12},\n",
    "    you can instruct the function to (1) create a new order for the grade\n",
    "    column and then (2) sort the DataFrame based on this new order. This \n",
    "    sort operation will in turn reorder the bars so that 'K' comes first\n",
    "    and '12' comes last.\n",
    "\n",
    "    Note: If you don't need to update the sort order of the values in the \n",
    "    column whose name was passed to reorder_bars_by, simply keep \n",
    "    reordering_map as {}.\n",
    "    '''\n",
    "\n",
    "    print(\"Filter list:\",filter_list)\n",
    "    data_source = original_data_source.copy() # Included to avoid modifying the\n",
    "    # original DataFrame (although this line may not be necessary)\n",
    "    \n",
    "    all_data_value = 'All'\n",
    "\n",
    "    # The following line goes through each tuple in filter_list and\n",
    "    # filters the DataFrame based on the values provided there.\n",
    "    # filter[0] corresponds to a column in the DataFrame, and filter[1]\n",
    "    # contains a list of which values to keep within that column.\n",
    "    data_source_filtered = data_source.copy()\n",
    "    if filter_list != None:\n",
    "        for filter in filter_list:\n",
    "           data_source_filtered.query(\n",
    "            f\"{filter[0]} in {filter[1]}\", inplace = True)\n",
    "    if debug == True:\n",
    "        print(\"data_source_filtered:\",data_source_filtered)\n",
    "\n",
    "    # The color value must also be present within the comparison_values\n",
    "    # table. If it is not, the following line sets color_value to None.\n",
    "    if color_value not in comparison_values:\n",
    "        color_value = None\n",
    "\n",
    "    # In order to show comparisons within the final graph, we need to create\n",
    "    # a table that contains those various comparisons. This function does so\n",
    "    # using the pivot_table() function within Pandas. The resulting pivot\n",
    "    # table will have one row for each comparison combination (as long as\n",
    "    # y value data were present for that combination.)\n",
    "\n",
    "    # If at least one comparison value was provided, the comparison_values\n",
    "    # variable will be used as the index for the pivot_table() function. \n",
    "    # Otherwise, a new column will be \n",
    "    # created (with the same value in every cell), and the pivot_table()\n",
    "    # function will use this column as its index instead. \n",
    "    if len(comparison_values) == 0:\n",
    "        data_source_filtered[all_data_value] = all_data_value \n",
    "        data_source_pivot = data_source_filtered.pivot_table(\n",
    "            index = all_data_value, values = y_value, \n",
    "            aggfunc = pivot_aggfunc).reset_index()\n",
    "    else:\n",
    "        data_source_pivot = data_source_filtered.pivot_table(\n",
    "            index = comparison_values, values = y_value, \n",
    "            aggfunc = pivot_aggfunc).reset_index()\n",
    "\n",
    "    # Next, we need to create x values that reflect the different column\n",
    "    # values in each row of the pivot table. These x values will then \n",
    "    # get passed to the graphing function.\n",
    "    # The following lines accomplish this by creating a new \n",
    "    # data_source_pivot column that contains strings made up of the \n",
    "    # values of each of the columns (other than the y value column) \n",
    "    # present in the bar chart. The chart will use these strings as \n",
    "    # x values when creating the grouped chart. \n",
    "\n",
    "    if len(comparison_values) == 0:\n",
    "        data_descriptor = all_data_value\n",
    "    else:\n",
    "        data_descriptor_values = comparison_values.copy()\n",
    "        if ((color_value != None) & (len(data_descriptor_values) > 1) \n",
    "            & (drop_color_value_from_x_vals == True)):\n",
    "            data_descriptor_values.remove(color_value) \n",
    "            # If a value will be assigned a\n",
    "            # color component in the graph, it doesn't need to be assigned a \n",
    "            # group component, since it will show up in the graph regardless. \n",
    "            # Removing it here helps simplify the graph.\n",
    "        print(data_descriptor_values)   \n",
    "        data_descriptor = data_source_pivot[\n",
    "            data_descriptor_values[0]].copy() # This line initializes \n",
    "            # data_descriptor as the first item within data_descriptor_values.\n",
    "            # copy() is needed in order to avoid modifying this column when\n",
    "        # the group column gets chosen.\n",
    "        # The following for loop iterates through each column name (except\n",
    "        # for the initial column, which has already been added\n",
    "        # to data_descriptor) in order to set data_descriptor with all the\n",
    "        # the values present in data_descriptor_values.\n",
    "        # The use of a for loop allows this code to adapt to different variable\n",
    "        # choices and different column counts.\n",
    "        for i in range(1, len(data_descriptor_values)):\n",
    "            data_descriptor += ' ' + data_source_pivot[\n",
    "                data_descriptor_values[i]] # This line adds the value of a \n",
    "                # given column to data_descriptor.\n",
    "\n",
    "    data_source_pivot['Group'] = data_descriptor # This group column will be \n",
    "    # used as the x value of the histogram.\n",
    "\n",
    "    # The following code reorders the rows in the pivot table\n",
    "    # in order to change the order of the bars in the ensuing chart.\n",
    "    # See the description of reorder_bars_by and reordering_map\n",
    "    # in the function docstring for more information.\n",
    "    if (reorder_bars_by != '') & (reorder_bars_by in data_source_pivot.columns):\n",
    "        # The above line first checks to ensure that the column passed to\n",
    "        # reorder_bars_by is actually in the pivot; otherwise, we'll run \n",
    "        # into an error by trying to sort by a nonexistent column.\n",
    "        if reordering_map == {}: # Since nothing has been passed to \n",
    "            # reordering_map, the function will simply sort the DataFrame\n",
    "            # by the values in the column referenced by reorder_bars_by.\n",
    "            data_source_pivot.sort_values('reorder_bars_by', inplace = True)\n",
    "        else: # In this case, the function will first create a separate column\n",
    "            # that will store a new order of the values in reorder_bars_by,\n",
    "            # then sort the DataFrame by that column instead. \n",
    "            data_source_pivot['column_for_sorting'] = data_source_pivot[reorder_bars_by].map(reordering_map)\n",
    "            data_source_pivot.sort_values('column_for_sorting', inplace = True)\n",
    "            print(data_source_pivot)\n",
    "            data_source_pivot.drop('column_for_sorting', axis = 1, inplace = True)\n",
    "\n",
    "\n",
    "    # There is no need to perform bar grouping if only one pivot variable \n",
    "    # exists, so the following if/else statement sets barmode to \n",
    "    # 'relative' in that case. Otherwise, barmode is set to 'group' \n",
    "    # in order to simplify the x axis variables.\n",
    "    if len(comparison_values) == 1:\n",
    "        selected_barmode = 'relative'\n",
    "    \n",
    "    else:\n",
    "        selected_barmode = barmode\n",
    "\n",
    "    output_histogram = px.histogram(data_source_pivot, x = 'Group', \n",
    "    y = y_value, color = color_value, \n",
    "    barmode = selected_barmode, color_discrete_map=color_discrete_map)\n",
    "\n",
    "    table_data = data_source_pivot.to_dict('records')\n",
    "\n",
    "    return output_histogram, table_data, data_source_pivot"
   ]
  },
  {
   "cell_type": "code",
   "execution_count": 12,
   "metadata": {},
   "outputs": [
    {
     "name": "stdout",
     "output_type": "stream",
     "text": [
      "Filter list: [('School', ['DA', 'HA'])]\n",
      "['School']\n",
      "   School Grade  Students Group  column_for_sorting\n",
      "12     DA     K        93    DA                   0\n",
      "25     HA     K        74    HA                   0\n",
      "13     HA     1        84    HA                   1\n",
      "0      DA     1        56    DA                   1\n",
      "4      DA     2        75    DA                   2\n",
      "17     HA     2        93    HA                   2\n",
      "5      DA     3        79    DA                   3\n",
      "18     HA     3        71    HA                   3\n",
      "6      DA     4        74    DA                   4\n",
      "19     HA     4        78    HA                   4\n",
      "7      DA     5        89    DA                   5\n",
      "20     HA     5        78    HA                   5\n",
      "8      DA     6        70    DA                   6\n",
      "21     HA     6        79    HA                   6\n",
      "9      DA     7        68    DA                   7\n",
      "22     HA     7        93    HA                   7\n",
      "10     DA     8        75    DA                   8\n",
      "23     HA     8        87    HA                   8\n",
      "11     DA     9        63    DA                   9\n",
      "24     HA     9        84    HA                   9\n",
      "14     HA    10        82    HA                  10\n",
      "1      DA    10        90    DA                  10\n",
      "15     HA    11        65    HA                  11\n",
      "2      DA    11        70    DA                  11\n",
      "3      DA    12        75    DA                  12\n",
      "16     HA    12        70    HA                  12\n"
     ]
    },
    {
     "data": {
      "application/vnd.plotly.v1+json": {
       "config": {
        "plotlyServerURL": "https://plot.ly"
       },
       "data": [
        {
         "alignmentgroup": "True",
         "bingroup": "x",
         "histfunc": "sum",
         "hovertemplate": "Grade=K<br>Group=%{x}<br>sum of Students=%{y}<extra></extra>",
         "legendgroup": "K",
         "marker": {
          "color": "#636efa",
          "pattern": {
           "shape": ""
          }
         },
         "name": "K",
         "offsetgroup": "K",
         "orientation": "v",
         "showlegend": true,
         "type": "histogram",
         "x": [
          "DA",
          "HA"
         ],
         "xaxis": "x",
         "y": [
          93,
          74
         ],
         "yaxis": "y"
        },
        {
         "alignmentgroup": "True",
         "bingroup": "x",
         "histfunc": "sum",
         "hovertemplate": "Grade=1<br>Group=%{x}<br>sum of Students=%{y}<extra></extra>",
         "legendgroup": "1",
         "marker": {
          "color": "#EF553B",
          "pattern": {
           "shape": ""
          }
         },
         "name": "1",
         "offsetgroup": "1",
         "orientation": "v",
         "showlegend": true,
         "type": "histogram",
         "x": [
          "HA",
          "DA"
         ],
         "xaxis": "x",
         "y": [
          84,
          56
         ],
         "yaxis": "y"
        },
        {
         "alignmentgroup": "True",
         "bingroup": "x",
         "histfunc": "sum",
         "hovertemplate": "Grade=2<br>Group=%{x}<br>sum of Students=%{y}<extra></extra>",
         "legendgroup": "2",
         "marker": {
          "color": "#00cc96",
          "pattern": {
           "shape": ""
          }
         },
         "name": "2",
         "offsetgroup": "2",
         "orientation": "v",
         "showlegend": true,
         "type": "histogram",
         "x": [
          "DA",
          "HA"
         ],
         "xaxis": "x",
         "y": [
          75,
          93
         ],
         "yaxis": "y"
        },
        {
         "alignmentgroup": "True",
         "bingroup": "x",
         "histfunc": "sum",
         "hovertemplate": "Grade=3<br>Group=%{x}<br>sum of Students=%{y}<extra></extra>",
         "legendgroup": "3",
         "marker": {
          "color": "#ab63fa",
          "pattern": {
           "shape": ""
          }
         },
         "name": "3",
         "offsetgroup": "3",
         "orientation": "v",
         "showlegend": true,
         "type": "histogram",
         "x": [
          "DA",
          "HA"
         ],
         "xaxis": "x",
         "y": [
          79,
          71
         ],
         "yaxis": "y"
        },
        {
         "alignmentgroup": "True",
         "bingroup": "x",
         "histfunc": "sum",
         "hovertemplate": "Grade=4<br>Group=%{x}<br>sum of Students=%{y}<extra></extra>",
         "legendgroup": "4",
         "marker": {
          "color": "#FFA15A",
          "pattern": {
           "shape": ""
          }
         },
         "name": "4",
         "offsetgroup": "4",
         "orientation": "v",
         "showlegend": true,
         "type": "histogram",
         "x": [
          "DA",
          "HA"
         ],
         "xaxis": "x",
         "y": [
          74,
          78
         ],
         "yaxis": "y"
        },
        {
         "alignmentgroup": "True",
         "bingroup": "x",
         "histfunc": "sum",
         "hovertemplate": "Grade=5<br>Group=%{x}<br>sum of Students=%{y}<extra></extra>",
         "legendgroup": "5",
         "marker": {
          "color": "#19d3f3",
          "pattern": {
           "shape": ""
          }
         },
         "name": "5",
         "offsetgroup": "5",
         "orientation": "v",
         "showlegend": true,
         "type": "histogram",
         "x": [
          "DA",
          "HA"
         ],
         "xaxis": "x",
         "y": [
          89,
          78
         ],
         "yaxis": "y"
        },
        {
         "alignmentgroup": "True",
         "bingroup": "x",
         "histfunc": "sum",
         "hovertemplate": "Grade=6<br>Group=%{x}<br>sum of Students=%{y}<extra></extra>",
         "legendgroup": "6",
         "marker": {
          "color": "#FF6692",
          "pattern": {
           "shape": ""
          }
         },
         "name": "6",
         "offsetgroup": "6",
         "orientation": "v",
         "showlegend": true,
         "type": "histogram",
         "x": [
          "DA",
          "HA"
         ],
         "xaxis": "x",
         "y": [
          70,
          79
         ],
         "yaxis": "y"
        },
        {
         "alignmentgroup": "True",
         "bingroup": "x",
         "histfunc": "sum",
         "hovertemplate": "Grade=7<br>Group=%{x}<br>sum of Students=%{y}<extra></extra>",
         "legendgroup": "7",
         "marker": {
          "color": "#B6E880",
          "pattern": {
           "shape": ""
          }
         },
         "name": "7",
         "offsetgroup": "7",
         "orientation": "v",
         "showlegend": true,
         "type": "histogram",
         "x": [
          "DA",
          "HA"
         ],
         "xaxis": "x",
         "y": [
          68,
          93
         ],
         "yaxis": "y"
        },
        {
         "alignmentgroup": "True",
         "bingroup": "x",
         "histfunc": "sum",
         "hovertemplate": "Grade=8<br>Group=%{x}<br>sum of Students=%{y}<extra></extra>",
         "legendgroup": "8",
         "marker": {
          "color": "#FF97FF",
          "pattern": {
           "shape": ""
          }
         },
         "name": "8",
         "offsetgroup": "8",
         "orientation": "v",
         "showlegend": true,
         "type": "histogram",
         "x": [
          "DA",
          "HA"
         ],
         "xaxis": "x",
         "y": [
          75,
          87
         ],
         "yaxis": "y"
        },
        {
         "alignmentgroup": "True",
         "bingroup": "x",
         "histfunc": "sum",
         "hovertemplate": "Grade=9<br>Group=%{x}<br>sum of Students=%{y}<extra></extra>",
         "legendgroup": "9",
         "marker": {
          "color": "#FECB52",
          "pattern": {
           "shape": ""
          }
         },
         "name": "9",
         "offsetgroup": "9",
         "orientation": "v",
         "showlegend": true,
         "type": "histogram",
         "x": [
          "DA",
          "HA"
         ],
         "xaxis": "x",
         "y": [
          63,
          84
         ],
         "yaxis": "y"
        },
        {
         "alignmentgroup": "True",
         "bingroup": "x",
         "histfunc": "sum",
         "hovertemplate": "Grade=10<br>Group=%{x}<br>sum of Students=%{y}<extra></extra>",
         "legendgroup": "10",
         "marker": {
          "color": "#636efa",
          "pattern": {
           "shape": ""
          }
         },
         "name": "10",
         "offsetgroup": "10",
         "orientation": "v",
         "showlegend": true,
         "type": "histogram",
         "x": [
          "HA",
          "DA"
         ],
         "xaxis": "x",
         "y": [
          82,
          90
         ],
         "yaxis": "y"
        },
        {
         "alignmentgroup": "True",
         "bingroup": "x",
         "histfunc": "sum",
         "hovertemplate": "Grade=11<br>Group=%{x}<br>sum of Students=%{y}<extra></extra>",
         "legendgroup": "11",
         "marker": {
          "color": "#EF553B",
          "pattern": {
           "shape": ""
          }
         },
         "name": "11",
         "offsetgroup": "11",
         "orientation": "v",
         "showlegend": true,
         "type": "histogram",
         "x": [
          "HA",
          "DA"
         ],
         "xaxis": "x",
         "y": [
          65,
          70
         ],
         "yaxis": "y"
        },
        {
         "alignmentgroup": "True",
         "bingroup": "x",
         "histfunc": "sum",
         "hovertemplate": "Grade=12<br>Group=%{x}<br>sum of Students=%{y}<extra></extra>",
         "legendgroup": "12",
         "marker": {
          "color": "#00cc96",
          "pattern": {
           "shape": ""
          }
         },
         "name": "12",
         "offsetgroup": "12",
         "orientation": "v",
         "showlegend": true,
         "type": "histogram",
         "x": [
          "DA",
          "HA"
         ],
         "xaxis": "x",
         "y": [
          75,
          70
         ],
         "yaxis": "y"
        }
       ],
       "layout": {
        "barmode": "group",
        "legend": {
         "title": {
          "text": "Grade"
         },
         "tracegroupgap": 0
        },
        "margin": {
         "t": 60
        },
        "template": {
         "data": {
          "bar": [
           {
            "error_x": {
             "color": "#2a3f5f"
            },
            "error_y": {
             "color": "#2a3f5f"
            },
            "marker": {
             "line": {
              "color": "#E5ECF6",
              "width": 0.5
             },
             "pattern": {
              "fillmode": "overlay",
              "size": 10,
              "solidity": 0.2
             }
            },
            "type": "bar"
           }
          ],
          "barpolar": [
           {
            "marker": {
             "line": {
              "color": "#E5ECF6",
              "width": 0.5
             },
             "pattern": {
              "fillmode": "overlay",
              "size": 10,
              "solidity": 0.2
             }
            },
            "type": "barpolar"
           }
          ],
          "carpet": [
           {
            "aaxis": {
             "endlinecolor": "#2a3f5f",
             "gridcolor": "white",
             "linecolor": "white",
             "minorgridcolor": "white",
             "startlinecolor": "#2a3f5f"
            },
            "baxis": {
             "endlinecolor": "#2a3f5f",
             "gridcolor": "white",
             "linecolor": "white",
             "minorgridcolor": "white",
             "startlinecolor": "#2a3f5f"
            },
            "type": "carpet"
           }
          ],
          "choropleth": [
           {
            "colorbar": {
             "outlinewidth": 0,
             "ticks": ""
            },
            "type": "choropleth"
           }
          ],
          "contour": [
           {
            "colorbar": {
             "outlinewidth": 0,
             "ticks": ""
            },
            "colorscale": [
             [
              0,
              "#0d0887"
             ],
             [
              0.1111111111111111,
              "#46039f"
             ],
             [
              0.2222222222222222,
              "#7201a8"
             ],
             [
              0.3333333333333333,
              "#9c179e"
             ],
             [
              0.4444444444444444,
              "#bd3786"
             ],
             [
              0.5555555555555556,
              "#d8576b"
             ],
             [
              0.6666666666666666,
              "#ed7953"
             ],
             [
              0.7777777777777778,
              "#fb9f3a"
             ],
             [
              0.8888888888888888,
              "#fdca26"
             ],
             [
              1,
              "#f0f921"
             ]
            ],
            "type": "contour"
           }
          ],
          "contourcarpet": [
           {
            "colorbar": {
             "outlinewidth": 0,
             "ticks": ""
            },
            "type": "contourcarpet"
           }
          ],
          "heatmap": [
           {
            "colorbar": {
             "outlinewidth": 0,
             "ticks": ""
            },
            "colorscale": [
             [
              0,
              "#0d0887"
             ],
             [
              0.1111111111111111,
              "#46039f"
             ],
             [
              0.2222222222222222,
              "#7201a8"
             ],
             [
              0.3333333333333333,
              "#9c179e"
             ],
             [
              0.4444444444444444,
              "#bd3786"
             ],
             [
              0.5555555555555556,
              "#d8576b"
             ],
             [
              0.6666666666666666,
              "#ed7953"
             ],
             [
              0.7777777777777778,
              "#fb9f3a"
             ],
             [
              0.8888888888888888,
              "#fdca26"
             ],
             [
              1,
              "#f0f921"
             ]
            ],
            "type": "heatmap"
           }
          ],
          "heatmapgl": [
           {
            "colorbar": {
             "outlinewidth": 0,
             "ticks": ""
            },
            "colorscale": [
             [
              0,
              "#0d0887"
             ],
             [
              0.1111111111111111,
              "#46039f"
             ],
             [
              0.2222222222222222,
              "#7201a8"
             ],
             [
              0.3333333333333333,
              "#9c179e"
             ],
             [
              0.4444444444444444,
              "#bd3786"
             ],
             [
              0.5555555555555556,
              "#d8576b"
             ],
             [
              0.6666666666666666,
              "#ed7953"
             ],
             [
              0.7777777777777778,
              "#fb9f3a"
             ],
             [
              0.8888888888888888,
              "#fdca26"
             ],
             [
              1,
              "#f0f921"
             ]
            ],
            "type": "heatmapgl"
           }
          ],
          "histogram": [
           {
            "marker": {
             "pattern": {
              "fillmode": "overlay",
              "size": 10,
              "solidity": 0.2
             }
            },
            "type": "histogram"
           }
          ],
          "histogram2d": [
           {
            "colorbar": {
             "outlinewidth": 0,
             "ticks": ""
            },
            "colorscale": [
             [
              0,
              "#0d0887"
             ],
             [
              0.1111111111111111,
              "#46039f"
             ],
             [
              0.2222222222222222,
              "#7201a8"
             ],
             [
              0.3333333333333333,
              "#9c179e"
             ],
             [
              0.4444444444444444,
              "#bd3786"
             ],
             [
              0.5555555555555556,
              "#d8576b"
             ],
             [
              0.6666666666666666,
              "#ed7953"
             ],
             [
              0.7777777777777778,
              "#fb9f3a"
             ],
             [
              0.8888888888888888,
              "#fdca26"
             ],
             [
              1,
              "#f0f921"
             ]
            ],
            "type": "histogram2d"
           }
          ],
          "histogram2dcontour": [
           {
            "colorbar": {
             "outlinewidth": 0,
             "ticks": ""
            },
            "colorscale": [
             [
              0,
              "#0d0887"
             ],
             [
              0.1111111111111111,
              "#46039f"
             ],
             [
              0.2222222222222222,
              "#7201a8"
             ],
             [
              0.3333333333333333,
              "#9c179e"
             ],
             [
              0.4444444444444444,
              "#bd3786"
             ],
             [
              0.5555555555555556,
              "#d8576b"
             ],
             [
              0.6666666666666666,
              "#ed7953"
             ],
             [
              0.7777777777777778,
              "#fb9f3a"
             ],
             [
              0.8888888888888888,
              "#fdca26"
             ],
             [
              1,
              "#f0f921"
             ]
            ],
            "type": "histogram2dcontour"
           }
          ],
          "mesh3d": [
           {
            "colorbar": {
             "outlinewidth": 0,
             "ticks": ""
            },
            "type": "mesh3d"
           }
          ],
          "parcoords": [
           {
            "line": {
             "colorbar": {
              "outlinewidth": 0,
              "ticks": ""
             }
            },
            "type": "parcoords"
           }
          ],
          "pie": [
           {
            "automargin": true,
            "type": "pie"
           }
          ],
          "scatter": [
           {
            "fillpattern": {
             "fillmode": "overlay",
             "size": 10,
             "solidity": 0.2
            },
            "type": "scatter"
           }
          ],
          "scatter3d": [
           {
            "line": {
             "colorbar": {
              "outlinewidth": 0,
              "ticks": ""
             }
            },
            "marker": {
             "colorbar": {
              "outlinewidth": 0,
              "ticks": ""
             }
            },
            "type": "scatter3d"
           }
          ],
          "scattercarpet": [
           {
            "marker": {
             "colorbar": {
              "outlinewidth": 0,
              "ticks": ""
             }
            },
            "type": "scattercarpet"
           }
          ],
          "scattergeo": [
           {
            "marker": {
             "colorbar": {
              "outlinewidth": 0,
              "ticks": ""
             }
            },
            "type": "scattergeo"
           }
          ],
          "scattergl": [
           {
            "marker": {
             "colorbar": {
              "outlinewidth": 0,
              "ticks": ""
             }
            },
            "type": "scattergl"
           }
          ],
          "scattermapbox": [
           {
            "marker": {
             "colorbar": {
              "outlinewidth": 0,
              "ticks": ""
             }
            },
            "type": "scattermapbox"
           }
          ],
          "scatterpolar": [
           {
            "marker": {
             "colorbar": {
              "outlinewidth": 0,
              "ticks": ""
             }
            },
            "type": "scatterpolar"
           }
          ],
          "scatterpolargl": [
           {
            "marker": {
             "colorbar": {
              "outlinewidth": 0,
              "ticks": ""
             }
            },
            "type": "scatterpolargl"
           }
          ],
          "scatterternary": [
           {
            "marker": {
             "colorbar": {
              "outlinewidth": 0,
              "ticks": ""
             }
            },
            "type": "scatterternary"
           }
          ],
          "surface": [
           {
            "colorbar": {
             "outlinewidth": 0,
             "ticks": ""
            },
            "colorscale": [
             [
              0,
              "#0d0887"
             ],
             [
              0.1111111111111111,
              "#46039f"
             ],
             [
              0.2222222222222222,
              "#7201a8"
             ],
             [
              0.3333333333333333,
              "#9c179e"
             ],
             [
              0.4444444444444444,
              "#bd3786"
             ],
             [
              0.5555555555555556,
              "#d8576b"
             ],
             [
              0.6666666666666666,
              "#ed7953"
             ],
             [
              0.7777777777777778,
              "#fb9f3a"
             ],
             [
              0.8888888888888888,
              "#fdca26"
             ],
             [
              1,
              "#f0f921"
             ]
            ],
            "type": "surface"
           }
          ],
          "table": [
           {
            "cells": {
             "fill": {
              "color": "#EBF0F8"
             },
             "line": {
              "color": "white"
             }
            },
            "header": {
             "fill": {
              "color": "#C8D4E3"
             },
             "line": {
              "color": "white"
             }
            },
            "type": "table"
           }
          ]
         },
         "layout": {
          "annotationdefaults": {
           "arrowcolor": "#2a3f5f",
           "arrowhead": 0,
           "arrowwidth": 1
          },
          "autotypenumbers": "strict",
          "coloraxis": {
           "colorbar": {
            "outlinewidth": 0,
            "ticks": ""
           }
          },
          "colorscale": {
           "diverging": [
            [
             0,
             "#8e0152"
            ],
            [
             0.1,
             "#c51b7d"
            ],
            [
             0.2,
             "#de77ae"
            ],
            [
             0.3,
             "#f1b6da"
            ],
            [
             0.4,
             "#fde0ef"
            ],
            [
             0.5,
             "#f7f7f7"
            ],
            [
             0.6,
             "#e6f5d0"
            ],
            [
             0.7,
             "#b8e186"
            ],
            [
             0.8,
             "#7fbc41"
            ],
            [
             0.9,
             "#4d9221"
            ],
            [
             1,
             "#276419"
            ]
           ],
           "sequential": [
            [
             0,
             "#0d0887"
            ],
            [
             0.1111111111111111,
             "#46039f"
            ],
            [
             0.2222222222222222,
             "#7201a8"
            ],
            [
             0.3333333333333333,
             "#9c179e"
            ],
            [
             0.4444444444444444,
             "#bd3786"
            ],
            [
             0.5555555555555556,
             "#d8576b"
            ],
            [
             0.6666666666666666,
             "#ed7953"
            ],
            [
             0.7777777777777778,
             "#fb9f3a"
            ],
            [
             0.8888888888888888,
             "#fdca26"
            ],
            [
             1,
             "#f0f921"
            ]
           ],
           "sequentialminus": [
            [
             0,
             "#0d0887"
            ],
            [
             0.1111111111111111,
             "#46039f"
            ],
            [
             0.2222222222222222,
             "#7201a8"
            ],
            [
             0.3333333333333333,
             "#9c179e"
            ],
            [
             0.4444444444444444,
             "#bd3786"
            ],
            [
             0.5555555555555556,
             "#d8576b"
            ],
            [
             0.6666666666666666,
             "#ed7953"
            ],
            [
             0.7777777777777778,
             "#fb9f3a"
            ],
            [
             0.8888888888888888,
             "#fdca26"
            ],
            [
             1,
             "#f0f921"
            ]
           ]
          },
          "colorway": [
           "#636efa",
           "#EF553B",
           "#00cc96",
           "#ab63fa",
           "#FFA15A",
           "#19d3f3",
           "#FF6692",
           "#B6E880",
           "#FF97FF",
           "#FECB52"
          ],
          "font": {
           "color": "#2a3f5f"
          },
          "geo": {
           "bgcolor": "white",
           "lakecolor": "white",
           "landcolor": "#E5ECF6",
           "showlakes": true,
           "showland": true,
           "subunitcolor": "white"
          },
          "hoverlabel": {
           "align": "left"
          },
          "hovermode": "closest",
          "mapbox": {
           "style": "light"
          },
          "paper_bgcolor": "white",
          "plot_bgcolor": "#E5ECF6",
          "polar": {
           "angularaxis": {
            "gridcolor": "white",
            "linecolor": "white",
            "ticks": ""
           },
           "bgcolor": "#E5ECF6",
           "radialaxis": {
            "gridcolor": "white",
            "linecolor": "white",
            "ticks": ""
           }
          },
          "scene": {
           "xaxis": {
            "backgroundcolor": "#E5ECF6",
            "gridcolor": "white",
            "gridwidth": 2,
            "linecolor": "white",
            "showbackground": true,
            "ticks": "",
            "zerolinecolor": "white"
           },
           "yaxis": {
            "backgroundcolor": "#E5ECF6",
            "gridcolor": "white",
            "gridwidth": 2,
            "linecolor": "white",
            "showbackground": true,
            "ticks": "",
            "zerolinecolor": "white"
           },
           "zaxis": {
            "backgroundcolor": "#E5ECF6",
            "gridcolor": "white",
            "gridwidth": 2,
            "linecolor": "white",
            "showbackground": true,
            "ticks": "",
            "zerolinecolor": "white"
           }
          },
          "shapedefaults": {
           "line": {
            "color": "#2a3f5f"
           }
          },
          "ternary": {
           "aaxis": {
            "gridcolor": "white",
            "linecolor": "white",
            "ticks": ""
           },
           "baxis": {
            "gridcolor": "white",
            "linecolor": "white",
            "ticks": ""
           },
           "bgcolor": "#E5ECF6",
           "caxis": {
            "gridcolor": "white",
            "linecolor": "white",
            "ticks": ""
           }
          },
          "title": {
           "x": 0.05
          },
          "xaxis": {
           "automargin": true,
           "gridcolor": "white",
           "linecolor": "white",
           "ticks": "",
           "title": {
            "standoff": 15
           },
           "zerolinecolor": "white",
           "zerolinewidth": 2
          },
          "yaxis": {
           "automargin": true,
           "gridcolor": "white",
           "linecolor": "white",
           "ticks": "",
           "title": {
            "standoff": 15
           },
           "zerolinecolor": "white",
           "zerolinewidth": 2
          }
         }
        },
        "xaxis": {
         "anchor": "y",
         "domain": [
          0,
          1
         ],
         "title": {
          "text": "Group"
         }
        },
        "yaxis": {
         "anchor": "x",
         "domain": [
          0,
          1
         ],
         "title": {
          "text": "sum of Students"
         }
        }
       }
      }
     },
     "metadata": {},
     "output_type": "display_data"
    }
   ],
   "source": [
    "chart, table, pivot = create_interactive_bar_chart_and_table(original_data_source=df_students, y_value = 'Students', filter_list = [('School',['DA', 'HA'])], comparison_values = ['School', 'Grade'], pivot_aggfunc='sum', color_value='Grade', reorder_bars_by = 'Grade', reordering_map = {'K':0, '1':1, '2':2, '3':3, '4':4, '5':5, '6':6, '7':7, '8':8, '9':9, '10':10, '11':11, '12':12, 1:1, 2:2, 3:3, 4:4, 5:5, 6:6, 7:7, 8:8, 9:9, 10:10, 11:11, 12:12})\n",
    "chart"
   ]
  },
  {
   "cell_type": "code",
   "execution_count": 13,
   "metadata": {},
   "outputs": [
    {
     "data": {
      "text/html": [
       "<div>\n",
       "<style scoped>\n",
       "    .dataframe tbody tr th:only-of-type {\n",
       "        vertical-align: middle;\n",
       "    }\n",
       "\n",
       "    .dataframe tbody tr th {\n",
       "        vertical-align: top;\n",
       "    }\n",
       "\n",
       "    .dataframe thead th {\n",
       "        text-align: right;\n",
       "    }\n",
       "</style>\n",
       "<table border=\"1\" class=\"dataframe\">\n",
       "  <thead>\n",
       "    <tr style=\"text-align: right;\">\n",
       "      <th></th>\n",
       "      <th>School</th>\n",
       "      <th>Grade</th>\n",
       "      <th>Students</th>\n",
       "      <th>Group</th>\n",
       "    </tr>\n",
       "  </thead>\n",
       "  <tbody>\n",
       "    <tr>\n",
       "      <th>12</th>\n",
       "      <td>DA</td>\n",
       "      <td>K</td>\n",
       "      <td>93</td>\n",
       "      <td>DA</td>\n",
       "    </tr>\n",
       "    <tr>\n",
       "      <th>25</th>\n",
       "      <td>HA</td>\n",
       "      <td>K</td>\n",
       "      <td>74</td>\n",
       "      <td>HA</td>\n",
       "    </tr>\n",
       "    <tr>\n",
       "      <th>13</th>\n",
       "      <td>HA</td>\n",
       "      <td>1</td>\n",
       "      <td>84</td>\n",
       "      <td>HA</td>\n",
       "    </tr>\n",
       "    <tr>\n",
       "      <th>0</th>\n",
       "      <td>DA</td>\n",
       "      <td>1</td>\n",
       "      <td>56</td>\n",
       "      <td>DA</td>\n",
       "    </tr>\n",
       "    <tr>\n",
       "      <th>4</th>\n",
       "      <td>DA</td>\n",
       "      <td>2</td>\n",
       "      <td>75</td>\n",
       "      <td>DA</td>\n",
       "    </tr>\n",
       "    <tr>\n",
       "      <th>17</th>\n",
       "      <td>HA</td>\n",
       "      <td>2</td>\n",
       "      <td>93</td>\n",
       "      <td>HA</td>\n",
       "    </tr>\n",
       "    <tr>\n",
       "      <th>5</th>\n",
       "      <td>DA</td>\n",
       "      <td>3</td>\n",
       "      <td>79</td>\n",
       "      <td>DA</td>\n",
       "    </tr>\n",
       "    <tr>\n",
       "      <th>18</th>\n",
       "      <td>HA</td>\n",
       "      <td>3</td>\n",
       "      <td>71</td>\n",
       "      <td>HA</td>\n",
       "    </tr>\n",
       "    <tr>\n",
       "      <th>6</th>\n",
       "      <td>DA</td>\n",
       "      <td>4</td>\n",
       "      <td>74</td>\n",
       "      <td>DA</td>\n",
       "    </tr>\n",
       "    <tr>\n",
       "      <th>19</th>\n",
       "      <td>HA</td>\n",
       "      <td>4</td>\n",
       "      <td>78</td>\n",
       "      <td>HA</td>\n",
       "    </tr>\n",
       "    <tr>\n",
       "      <th>7</th>\n",
       "      <td>DA</td>\n",
       "      <td>5</td>\n",
       "      <td>89</td>\n",
       "      <td>DA</td>\n",
       "    </tr>\n",
       "    <tr>\n",
       "      <th>20</th>\n",
       "      <td>HA</td>\n",
       "      <td>5</td>\n",
       "      <td>78</td>\n",
       "      <td>HA</td>\n",
       "    </tr>\n",
       "    <tr>\n",
       "      <th>8</th>\n",
       "      <td>DA</td>\n",
       "      <td>6</td>\n",
       "      <td>70</td>\n",
       "      <td>DA</td>\n",
       "    </tr>\n",
       "    <tr>\n",
       "      <th>21</th>\n",
       "      <td>HA</td>\n",
       "      <td>6</td>\n",
       "      <td>79</td>\n",
       "      <td>HA</td>\n",
       "    </tr>\n",
       "    <tr>\n",
       "      <th>9</th>\n",
       "      <td>DA</td>\n",
       "      <td>7</td>\n",
       "      <td>68</td>\n",
       "      <td>DA</td>\n",
       "    </tr>\n",
       "    <tr>\n",
       "      <th>22</th>\n",
       "      <td>HA</td>\n",
       "      <td>7</td>\n",
       "      <td>93</td>\n",
       "      <td>HA</td>\n",
       "    </tr>\n",
       "    <tr>\n",
       "      <th>10</th>\n",
       "      <td>DA</td>\n",
       "      <td>8</td>\n",
       "      <td>75</td>\n",
       "      <td>DA</td>\n",
       "    </tr>\n",
       "    <tr>\n",
       "      <th>23</th>\n",
       "      <td>HA</td>\n",
       "      <td>8</td>\n",
       "      <td>87</td>\n",
       "      <td>HA</td>\n",
       "    </tr>\n",
       "    <tr>\n",
       "      <th>11</th>\n",
       "      <td>DA</td>\n",
       "      <td>9</td>\n",
       "      <td>63</td>\n",
       "      <td>DA</td>\n",
       "    </tr>\n",
       "    <tr>\n",
       "      <th>24</th>\n",
       "      <td>HA</td>\n",
       "      <td>9</td>\n",
       "      <td>84</td>\n",
       "      <td>HA</td>\n",
       "    </tr>\n",
       "    <tr>\n",
       "      <th>14</th>\n",
       "      <td>HA</td>\n",
       "      <td>10</td>\n",
       "      <td>82</td>\n",
       "      <td>HA</td>\n",
       "    </tr>\n",
       "    <tr>\n",
       "      <th>1</th>\n",
       "      <td>DA</td>\n",
       "      <td>10</td>\n",
       "      <td>90</td>\n",
       "      <td>DA</td>\n",
       "    </tr>\n",
       "    <tr>\n",
       "      <th>15</th>\n",
       "      <td>HA</td>\n",
       "      <td>11</td>\n",
       "      <td>65</td>\n",
       "      <td>HA</td>\n",
       "    </tr>\n",
       "    <tr>\n",
       "      <th>2</th>\n",
       "      <td>DA</td>\n",
       "      <td>11</td>\n",
       "      <td>70</td>\n",
       "      <td>DA</td>\n",
       "    </tr>\n",
       "    <tr>\n",
       "      <th>3</th>\n",
       "      <td>DA</td>\n",
       "      <td>12</td>\n",
       "      <td>75</td>\n",
       "      <td>DA</td>\n",
       "    </tr>\n",
       "    <tr>\n",
       "      <th>16</th>\n",
       "      <td>HA</td>\n",
       "      <td>12</td>\n",
       "      <td>70</td>\n",
       "      <td>HA</td>\n",
       "    </tr>\n",
       "  </tbody>\n",
       "</table>\n",
       "</div>"
      ],
      "text/plain": [
       "   School Grade  Students Group\n",
       "12     DA     K        93    DA\n",
       "25     HA     K        74    HA\n",
       "13     HA     1        84    HA\n",
       "0      DA     1        56    DA\n",
       "4      DA     2        75    DA\n",
       "17     HA     2        93    HA\n",
       "5      DA     3        79    DA\n",
       "18     HA     3        71    HA\n",
       "6      DA     4        74    DA\n",
       "19     HA     4        78    HA\n",
       "7      DA     5        89    DA\n",
       "20     HA     5        78    HA\n",
       "8      DA     6        70    DA\n",
       "21     HA     6        79    HA\n",
       "9      DA     7        68    DA\n",
       "22     HA     7        93    HA\n",
       "10     DA     8        75    DA\n",
       "23     HA     8        87    HA\n",
       "11     DA     9        63    DA\n",
       "24     HA     9        84    HA\n",
       "14     HA    10        82    HA\n",
       "1      DA    10        90    DA\n",
       "15     HA    11        65    HA\n",
       "2      DA    11        70    DA\n",
       "3      DA    12        75    DA\n",
       "16     HA    12        70    HA"
      ]
     },
     "execution_count": 13,
     "metadata": {},
     "output_type": "execute_result"
    }
   ],
   "source": [
    "pivot"
   ]
  },
  {
   "cell_type": "code",
   "execution_count": null,
   "metadata": {},
   "outputs": [],
   "source": [
    "pd.DataFrame(table)"
   ]
  }
 ],
 "metadata": {
  "kernelspec": {
   "display_name": "ga15pyd",
   "language": "python",
   "name": "python3"
  },
  "language_info": {
   "codemirror_mode": {
    "name": "ipython",
    "version": 3
   },
   "file_extension": ".py",
   "mimetype": "text/x-python",
   "name": "python",
   "nbconvert_exporter": "python",
   "pygments_lexer": "ipython3",
   "version": "3.10.9"
  },
  "orig_nbformat": 4
 },
 "nbformat": 4,
 "nbformat_minor": 2
}
