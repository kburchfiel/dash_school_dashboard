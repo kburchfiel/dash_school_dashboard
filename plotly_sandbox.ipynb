{
 "cells": [
  {
   "attachments": {},
   "cell_type": "markdown",
   "metadata": {},
   "source": [
    "## Sandbox for testing out chart options\n",
    "\n",
    "It can be helpful to test out changes to charting code in a Jupyter Notebook before updating the code used in the actual Plotly app, as the notebook format makes it easier to see how tweaks to the code will influence the results."
   ]
  },
  {
   "cell_type": "code",
   "execution_count": 2,
   "metadata": {},
   "outputs": [],
   "source": [
    "import platform"
   ]
  },
  {
   "cell_type": "code",
   "execution_count": 3,
   "metadata": {},
   "outputs": [
    {
     "data": {
      "text/plain": [
       "'DESKTOP-83K77J1'"
      ]
     },
     "execution_count": 3,
     "metadata": {},
     "output_type": "execute_result"
    }
   ],
   "source": [
    "platform.node()"
   ]
  },
  {
   "cell_type": "code",
   "execution_count": 4,
   "metadata": {},
   "outputs": [],
   "source": [
    "ec = ['School', 'Grade', 'Gender',\n",
    "'Race', 'Ethnicity']\n",
    "\n",
    "enrollment_comparisons_with_none_option = ec.copy()\n",
    "enrollment_comparisons_with_none_option.append(None)"
   ]
  },
  {
   "cell_type": "code",
   "execution_count": 5,
   "metadata": {},
   "outputs": [
    {
     "data": {
      "text/plain": [
       "['School', 'Grade', 'Gender', 'Race', 'Ethnicity', None]"
      ]
     },
     "execution_count": 5,
     "metadata": {},
     "output_type": "execute_result"
    }
   ],
   "source": [
    "enrollment_comparisons_with_none_option"
   ]
  },
  {
   "cell_type": "code",
   "execution_count": 6,
   "metadata": {},
   "outputs": [],
   "source": [
    "color_value = 'None'\n",
    "secondary_differentiator = None\n",
    "if color_value == 'None':\n",
    "    color_value = None"
   ]
  },
  {
   "cell_type": "code",
   "execution_count": 7,
   "metadata": {},
   "outputs": [
    {
     "data": {
      "text/plain": [
       "False"
      ]
     },
     "execution_count": 7,
     "metadata": {},
     "output_type": "execute_result"
    }
   ],
   "source": [
    "color_value = 'Grade'\n",
    "comparison_values = ['School']\n",
    "\n",
    "color_value in comparison_values"
   ]
  },
  {
   "cell_type": "code",
   "execution_count": 8,
   "metadata": {},
   "outputs": [
    {
     "data": {
      "text/plain": [
       "str"
      ]
     },
     "execution_count": 8,
     "metadata": {},
     "output_type": "execute_result"
    }
   ],
   "source": [
    "type(color_value)"
   ]
  },
  {
   "cell_type": "code",
   "execution_count": 9,
   "metadata": {},
   "outputs": [],
   "source": [
    "import pandas as pd\n",
    "import plotly.express as px"
   ]
  },
  {
   "cell_type": "code",
   "execution_count": 10,
   "metadata": {},
   "outputs": [
    {
     "data": {
      "text/html": [
       "<div>\n",
       "<style scoped>\n",
       "    .dataframe tbody tr th:only-of-type {\n",
       "        vertical-align: middle;\n",
       "    }\n",
       "\n",
       "    .dataframe tbody tr th {\n",
       "        vertical-align: top;\n",
       "    }\n",
       "\n",
       "    .dataframe thead th {\n",
       "        text-align: right;\n",
       "    }\n",
       "</style>\n",
       "<table border=\"1\" class=\"dataframe\">\n",
       "  <thead>\n",
       "    <tr style=\"text-align: right;\">\n",
       "      <th></th>\n",
       "      <th>Student_ID</th>\n",
       "      <th>First_Name</th>\n",
       "      <th>Last_Name</th>\n",
       "      <th>Full_School_Name</th>\n",
       "      <th>School</th>\n",
       "      <th>Grade</th>\n",
       "      <th>Gender</th>\n",
       "      <th>Race</th>\n",
       "      <th>Ethnicity</th>\n",
       "      <th>Street</th>\n",
       "      <th>City</th>\n",
       "      <th>State</th>\n",
       "      <th>Zip</th>\n",
       "      <th>Lat</th>\n",
       "      <th>Lon</th>\n",
       "      <th>Address</th>\n",
       "      <th>geometry</th>\n",
       "      <th>Students</th>\n",
       "      <th>Grade_for_Sorting</th>\n",
       "    </tr>\n",
       "  </thead>\n",
       "  <tbody>\n",
       "    <tr>\n",
       "      <th>0</th>\n",
       "      <td>2403</td>\n",
       "      <td>Donna</td>\n",
       "      <td>Adams</td>\n",
       "      <td>Chestnut Academy</td>\n",
       "      <td>CA</td>\n",
       "      <td>1</td>\n",
       "      <td>Female</td>\n",
       "      <td>Asian</td>\n",
       "      <td>Hispanic</td>\n",
       "      <td>3846 KING ST</td>\n",
       "      <td>ALEXANDRIA</td>\n",
       "      <td>VA</td>\n",
       "      <td>22302</td>\n",
       "      <td>38.831460</td>\n",
       "      <td>-77.094591</td>\n",
       "      <td>3846 KING ST, ALEXANDRIA, VA 22302</td>\n",
       "      <td>POINT (-77.094591 38.83146)</td>\n",
       "      <td>1</td>\n",
       "      <td>1</td>\n",
       "    </tr>\n",
       "    <tr>\n",
       "      <th>1</th>\n",
       "      <td>2026</td>\n",
       "      <td>Tina</td>\n",
       "      <td>Allison</td>\n",
       "      <td>Chestnut Academy</td>\n",
       "      <td>CA</td>\n",
       "      <td>1</td>\n",
       "      <td>Female</td>\n",
       "      <td>Asian</td>\n",
       "      <td>Hispanic</td>\n",
       "      <td>5100 Cleveland Street</td>\n",
       "      <td>Virginia Beach</td>\n",
       "      <td>VA</td>\n",
       "      <td>23462</td>\n",
       "      <td>36.843364</td>\n",
       "      <td>-76.159497</td>\n",
       "      <td>5100 Cleveland Street, Virginia Beach, VA 23462</td>\n",
       "      <td>POINT (-76.159497 36.843364)</td>\n",
       "      <td>1</td>\n",
       "      <td>1</td>\n",
       "    </tr>\n",
       "    <tr>\n",
       "      <th>2</th>\n",
       "      <td>287</td>\n",
       "      <td>Joseph</td>\n",
       "      <td>Anderson</td>\n",
       "      <td>Chestnut Academy</td>\n",
       "      <td>CA</td>\n",
       "      <td>1</td>\n",
       "      <td>Male</td>\n",
       "      <td>Asian</td>\n",
       "      <td>Non-Hispanic</td>\n",
       "      <td>185 Washington Lee Dr</td>\n",
       "      <td>Bristol</td>\n",
       "      <td>VA</td>\n",
       "      <td>24201</td>\n",
       "      <td>36.611087</td>\n",
       "      <td>-82.178164</td>\n",
       "      <td>185 Washington Lee Dr, Bristol, VA 24201</td>\n",
       "      <td>POINT (-82.178164 36.611087)</td>\n",
       "      <td>1</td>\n",
       "      <td>1</td>\n",
       "    </tr>\n",
       "    <tr>\n",
       "      <th>3</th>\n",
       "      <td>1338</td>\n",
       "      <td>Lonnie</td>\n",
       "      <td>Anderson</td>\n",
       "      <td>Chestnut Academy</td>\n",
       "      <td>CA</td>\n",
       "      <td>1</td>\n",
       "      <td>Male</td>\n",
       "      <td>White</td>\n",
       "      <td>Hispanic</td>\n",
       "      <td>5720 Marshall Ave.</td>\n",
       "      <td>Newport News</td>\n",
       "      <td>VA</td>\n",
       "      <td>23605</td>\n",
       "      <td>37.003500</td>\n",
       "      <td>-76.426700</td>\n",
       "      <td>5720 Marshall Ave., Newport News, VA 23605</td>\n",
       "      <td>POINT (-76.4267 37.0035)</td>\n",
       "      <td>1</td>\n",
       "      <td>1</td>\n",
       "    </tr>\n",
       "    <tr>\n",
       "      <th>4</th>\n",
       "      <td>1847</td>\n",
       "      <td>Randy</td>\n",
       "      <td>Archer</td>\n",
       "      <td>Chestnut Academy</td>\n",
       "      <td>CA</td>\n",
       "      <td>1</td>\n",
       "      <td>Male</td>\n",
       "      <td>White</td>\n",
       "      <td>Non-Hispanic</td>\n",
       "      <td>8201 Jefferson Davis Hwy</td>\n",
       "      <td>Fredericksburg</td>\n",
       "      <td>VA</td>\n",
       "      <td>22407</td>\n",
       "      <td>38.182400</td>\n",
       "      <td>-77.511400</td>\n",
       "      <td>8201 Jefferson Davis Hwy, Fredericksburg, VA 2...</td>\n",
       "      <td>POINT (-77.5114 38.1824)</td>\n",
       "      <td>1</td>\n",
       "      <td>1</td>\n",
       "    </tr>\n",
       "    <tr>\n",
       "      <th>...</th>\n",
       "      <td>...</td>\n",
       "      <td>...</td>\n",
       "      <td>...</td>\n",
       "      <td>...</td>\n",
       "      <td>...</td>\n",
       "      <td>...</td>\n",
       "      <td>...</td>\n",
       "      <td>...</td>\n",
       "      <td>...</td>\n",
       "      <td>...</td>\n",
       "      <td>...</td>\n",
       "      <td>...</td>\n",
       "      <td>...</td>\n",
       "      <td>...</td>\n",
       "      <td>...</td>\n",
       "      <td>...</td>\n",
       "      <td>...</td>\n",
       "      <td>...</td>\n",
       "      <td>...</td>\n",
       "    </tr>\n",
       "    <tr>\n",
       "      <th>3995</th>\n",
       "      <td>3362</td>\n",
       "      <td>Elizabeth</td>\n",
       "      <td>Wells</td>\n",
       "      <td>Sycamore Academy</td>\n",
       "      <td>SA</td>\n",
       "      <td>K</td>\n",
       "      <td>Female</td>\n",
       "      <td>African American</td>\n",
       "      <td>Hispanic</td>\n",
       "      <td>7107 Sydenstricker Rd</td>\n",
       "      <td>Springfield</td>\n",
       "      <td>VA</td>\n",
       "      <td>22152</td>\n",
       "      <td>38.762200</td>\n",
       "      <td>-77.243600</td>\n",
       "      <td>7107 Sydenstricker Rd, Springfield, VA 22152</td>\n",
       "      <td>POINT (-77.2436 38.7622)</td>\n",
       "      <td>1</td>\n",
       "      <td>0</td>\n",
       "    </tr>\n",
       "    <tr>\n",
       "      <th>3996</th>\n",
       "      <td>2288</td>\n",
       "      <td>Christina</td>\n",
       "      <td>White</td>\n",
       "      <td>Sycamore Academy</td>\n",
       "      <td>SA</td>\n",
       "      <td>K</td>\n",
       "      <td>Female</td>\n",
       "      <td>African American</td>\n",
       "      <td>Hispanic</td>\n",
       "      <td>6915 BRADDOCK RD</td>\n",
       "      <td>SPRINGFIELD</td>\n",
       "      <td>VA</td>\n",
       "      <td>22151</td>\n",
       "      <td>38.810948</td>\n",
       "      <td>-77.185209</td>\n",
       "      <td>6915 BRADDOCK RD, SPRINGFIELD, VA 22151</td>\n",
       "      <td>POINT (-77.185209 38.810948)</td>\n",
       "      <td>1</td>\n",
       "      <td>0</td>\n",
       "    </tr>\n",
       "    <tr>\n",
       "      <th>3997</th>\n",
       "      <td>3822</td>\n",
       "      <td>Felicia</td>\n",
       "      <td>Wilkerson</td>\n",
       "      <td>Sycamore Academy</td>\n",
       "      <td>SA</td>\n",
       "      <td>K</td>\n",
       "      <td>Female</td>\n",
       "      <td>White</td>\n",
       "      <td>Hispanic</td>\n",
       "      <td>14175 Turner Drive</td>\n",
       "      <td>Smithfield</td>\n",
       "      <td>VA</td>\n",
       "      <td>23430</td>\n",
       "      <td>36.944300</td>\n",
       "      <td>-76.598200</td>\n",
       "      <td>14175 Turner Drive, Smithfield, VA 23430</td>\n",
       "      <td>POINT (-76.5982 36.9443)</td>\n",
       "      <td>1</td>\n",
       "      <td>0</td>\n",
       "    </tr>\n",
       "    <tr>\n",
       "      <th>3998</th>\n",
       "      <td>1677</td>\n",
       "      <td>Jerry</td>\n",
       "      <td>Wilson</td>\n",
       "      <td>Sycamore Academy</td>\n",
       "      <td>SA</td>\n",
       "      <td>K</td>\n",
       "      <td>Male</td>\n",
       "      <td>White</td>\n",
       "      <td>Hispanic</td>\n",
       "      <td>361 Walnut St</td>\n",
       "      <td>Warsaw</td>\n",
       "      <td>VA</td>\n",
       "      <td>22572</td>\n",
       "      <td>37.945528</td>\n",
       "      <td>-76.744655</td>\n",
       "      <td>361 Walnut St, Warsaw, VA 22572</td>\n",
       "      <td>POINT (-76.744655 37.945528)</td>\n",
       "      <td>1</td>\n",
       "      <td>0</td>\n",
       "    </tr>\n",
       "    <tr>\n",
       "      <th>3999</th>\n",
       "      <td>503</td>\n",
       "      <td>Rodney</td>\n",
       "      <td>Wright</td>\n",
       "      <td>Sycamore Academy</td>\n",
       "      <td>SA</td>\n",
       "      <td>K</td>\n",
       "      <td>Male</td>\n",
       "      <td>Asian</td>\n",
       "      <td>Non-Hispanic</td>\n",
       "      <td>205 Grandview Ave.</td>\n",
       "      <td>Culpeper</td>\n",
       "      <td>VA</td>\n",
       "      <td>22701</td>\n",
       "      <td>38.486820</td>\n",
       "      <td>-77.991869</td>\n",
       "      <td>205 Grandview Ave., Culpeper, VA 22701</td>\n",
       "      <td>POINT (-77.991869 38.48682)</td>\n",
       "      <td>1</td>\n",
       "      <td>0</td>\n",
       "    </tr>\n",
       "  </tbody>\n",
       "</table>\n",
       "<p>4000 rows × 19 columns</p>\n",
       "</div>"
      ],
      "text/plain": [
       "      Student_ID First_Name  Last_Name  Full_School_Name School Grade  Gender  \\\n",
       "0           2403      Donna      Adams  Chestnut Academy     CA     1  Female   \n",
       "1           2026       Tina    Allison  Chestnut Academy     CA     1  Female   \n",
       "2            287     Joseph   Anderson  Chestnut Academy     CA     1    Male   \n",
       "3           1338     Lonnie   Anderson  Chestnut Academy     CA     1    Male   \n",
       "4           1847      Randy     Archer  Chestnut Academy     CA     1    Male   \n",
       "...          ...        ...        ...               ...    ...   ...     ...   \n",
       "3995        3362  Elizabeth      Wells  Sycamore Academy     SA     K  Female   \n",
       "3996        2288  Christina      White  Sycamore Academy     SA     K  Female   \n",
       "3997        3822    Felicia  Wilkerson  Sycamore Academy     SA     K  Female   \n",
       "3998        1677      Jerry     Wilson  Sycamore Academy     SA     K    Male   \n",
       "3999         503     Rodney     Wright  Sycamore Academy     SA     K    Male   \n",
       "\n",
       "                  Race     Ethnicity                    Street  \\\n",
       "0                Asian      Hispanic              3846 KING ST   \n",
       "1                Asian      Hispanic     5100 Cleveland Street   \n",
       "2                Asian  Non-Hispanic     185 Washington Lee Dr   \n",
       "3                White      Hispanic        5720 Marshall Ave.   \n",
       "4                White  Non-Hispanic  8201 Jefferson Davis Hwy   \n",
       "...                ...           ...                       ...   \n",
       "3995  African American      Hispanic     7107 Sydenstricker Rd   \n",
       "3996  African American      Hispanic          6915 BRADDOCK RD   \n",
       "3997             White      Hispanic        14175 Turner Drive   \n",
       "3998             White      Hispanic             361 Walnut St   \n",
       "3999             Asian  Non-Hispanic        205 Grandview Ave.   \n",
       "\n",
       "                City State    Zip        Lat        Lon  \\\n",
       "0         ALEXANDRIA    VA  22302  38.831460 -77.094591   \n",
       "1     Virginia Beach    VA  23462  36.843364 -76.159497   \n",
       "2            Bristol    VA  24201  36.611087 -82.178164   \n",
       "3       Newport News    VA  23605  37.003500 -76.426700   \n",
       "4     Fredericksburg    VA  22407  38.182400 -77.511400   \n",
       "...              ...   ...    ...        ...        ...   \n",
       "3995     Springfield    VA  22152  38.762200 -77.243600   \n",
       "3996     SPRINGFIELD    VA  22151  38.810948 -77.185209   \n",
       "3997      Smithfield    VA  23430  36.944300 -76.598200   \n",
       "3998          Warsaw    VA  22572  37.945528 -76.744655   \n",
       "3999        Culpeper    VA  22701  38.486820 -77.991869   \n",
       "\n",
       "                                                Address  \\\n",
       "0                    3846 KING ST, ALEXANDRIA, VA 22302   \n",
       "1       5100 Cleveland Street, Virginia Beach, VA 23462   \n",
       "2              185 Washington Lee Dr, Bristol, VA 24201   \n",
       "3            5720 Marshall Ave., Newport News, VA 23605   \n",
       "4     8201 Jefferson Davis Hwy, Fredericksburg, VA 2...   \n",
       "...                                                 ...   \n",
       "3995       7107 Sydenstricker Rd, Springfield, VA 22152   \n",
       "3996            6915 BRADDOCK RD, SPRINGFIELD, VA 22151   \n",
       "3997           14175 Turner Drive, Smithfield, VA 23430   \n",
       "3998                    361 Walnut St, Warsaw, VA 22572   \n",
       "3999             205 Grandview Ave., Culpeper, VA 22701   \n",
       "\n",
       "                          geometry  Students  Grade_for_Sorting  \n",
       "0      POINT (-77.094591 38.83146)         1                  1  \n",
       "1     POINT (-76.159497 36.843364)         1                  1  \n",
       "2     POINT (-82.178164 36.611087)         1                  1  \n",
       "3         POINT (-76.4267 37.0035)         1                  1  \n",
       "4         POINT (-77.5114 38.1824)         1                  1  \n",
       "...                            ...       ...                ...  \n",
       "3995      POINT (-77.2436 38.7622)         1                  0  \n",
       "3996  POINT (-77.185209 38.810948)         1                  0  \n",
       "3997      POINT (-76.5982 36.9443)         1                  0  \n",
       "3998  POINT (-76.744655 37.945528)         1                  0  \n",
       "3999   POINT (-77.991869 38.48682)         1                  0  \n",
       "\n",
       "[4000 rows x 19 columns]"
      ]
     },
     "execution_count": 10,
     "metadata": {},
     "output_type": "execute_result"
    }
   ],
   "source": [
    "df_students = pd.read_csv('table_students.csv')\n",
    "df_students"
   ]
  },
  {
   "cell_type": "code",
   "execution_count": 11,
   "metadata": {},
   "outputs": [
    {
     "data": {
      "text/html": [
       "<div>\n",
       "<style scoped>\n",
       "    .dataframe tbody tr th:only-of-type {\n",
       "        vertical-align: middle;\n",
       "    }\n",
       "\n",
       "    .dataframe tbody tr th {\n",
       "        vertical-align: top;\n",
       "    }\n",
       "\n",
       "    .dataframe thead th {\n",
       "        text-align: right;\n",
       "    }\n",
       "</style>\n",
       "<table border=\"1\" class=\"dataframe\">\n",
       "  <thead>\n",
       "    <tr style=\"text-align: right;\">\n",
       "      <th></th>\n",
       "      <th>Student_ID</th>\n",
       "      <th>School</th>\n",
       "      <th>Grade</th>\n",
       "      <th>Starting_Year</th>\n",
       "      <th>Period</th>\n",
       "      <th>Score</th>\n",
       "    </tr>\n",
       "  </thead>\n",
       "  <tbody>\n",
       "    <tr>\n",
       "      <th>0</th>\n",
       "      <td>3873</td>\n",
       "      <td>CA</td>\n",
       "      <td>1</td>\n",
       "      <td>2023</td>\n",
       "      <td>Fall</td>\n",
       "      <td>47</td>\n",
       "    </tr>\n",
       "    <tr>\n",
       "      <th>1</th>\n",
       "      <td>1695</td>\n",
       "      <td>CA</td>\n",
       "      <td>1</td>\n",
       "      <td>2023</td>\n",
       "      <td>Fall</td>\n",
       "      <td>49</td>\n",
       "    </tr>\n",
       "    <tr>\n",
       "      <th>2</th>\n",
       "      <td>1881</td>\n",
       "      <td>CA</td>\n",
       "      <td>1</td>\n",
       "      <td>2023</td>\n",
       "      <td>Fall</td>\n",
       "      <td>57</td>\n",
       "    </tr>\n",
       "    <tr>\n",
       "      <th>3</th>\n",
       "      <td>3940</td>\n",
       "      <td>CA</td>\n",
       "      <td>1</td>\n",
       "      <td>2023</td>\n",
       "      <td>Fall</td>\n",
       "      <td>63</td>\n",
       "    </tr>\n",
       "    <tr>\n",
       "      <th>4</th>\n",
       "      <td>2673</td>\n",
       "      <td>CA</td>\n",
       "      <td>1</td>\n",
       "      <td>2023</td>\n",
       "      <td>Fall</td>\n",
       "      <td>51</td>\n",
       "    </tr>\n",
       "    <tr>\n",
       "      <th>...</th>\n",
       "      <td>...</td>\n",
       "      <td>...</td>\n",
       "      <td>...</td>\n",
       "      <td>...</td>\n",
       "      <td>...</td>\n",
       "      <td>...</td>\n",
       "    </tr>\n",
       "    <tr>\n",
       "      <th>7995</th>\n",
       "      <td>3587</td>\n",
       "      <td>SA</td>\n",
       "      <td>K</td>\n",
       "      <td>2023</td>\n",
       "      <td>Spring</td>\n",
       "      <td>58</td>\n",
       "    </tr>\n",
       "    <tr>\n",
       "      <th>7996</th>\n",
       "      <td>3964</td>\n",
       "      <td>SA</td>\n",
       "      <td>K</td>\n",
       "      <td>2023</td>\n",
       "      <td>Spring</td>\n",
       "      <td>50</td>\n",
       "    </tr>\n",
       "    <tr>\n",
       "      <th>7997</th>\n",
       "      <td>460</td>\n",
       "      <td>SA</td>\n",
       "      <td>K</td>\n",
       "      <td>2023</td>\n",
       "      <td>Spring</td>\n",
       "      <td>60</td>\n",
       "    </tr>\n",
       "    <tr>\n",
       "      <th>7998</th>\n",
       "      <td>2816</td>\n",
       "      <td>SA</td>\n",
       "      <td>K</td>\n",
       "      <td>2023</td>\n",
       "      <td>Spring</td>\n",
       "      <td>52</td>\n",
       "    </tr>\n",
       "    <tr>\n",
       "      <th>7999</th>\n",
       "      <td>2238</td>\n",
       "      <td>SA</td>\n",
       "      <td>K</td>\n",
       "      <td>2023</td>\n",
       "      <td>Spring</td>\n",
       "      <td>57</td>\n",
       "    </tr>\n",
       "  </tbody>\n",
       "</table>\n",
       "<p>8000 rows × 6 columns</p>\n",
       "</div>"
      ],
      "text/plain": [
       "      Student_ID School Grade  Starting_Year  Period  Score\n",
       "0           3873     CA     1           2023    Fall     47\n",
       "1           1695     CA     1           2023    Fall     49\n",
       "2           1881     CA     1           2023    Fall     57\n",
       "3           3940     CA     1           2023    Fall     63\n",
       "4           2673     CA     1           2023    Fall     51\n",
       "...          ...    ...   ...            ...     ...    ...\n",
       "7995        3587     SA     K           2023  Spring     58\n",
       "7996        3964     SA     K           2023  Spring     50\n",
       "7997         460     SA     K           2023  Spring     60\n",
       "7998        2816     SA     K           2023  Spring     52\n",
       "7999        2238     SA     K           2023  Spring     57\n",
       "\n",
       "[8000 rows x 6 columns]"
      ]
     },
     "execution_count": 11,
     "metadata": {},
     "output_type": "execute_result"
    }
   ],
   "source": [
    "df_test_results = pd.read_csv('test_results.csv')\n",
    "df_test_results"
   ]
  },
  {
   "cell_type": "code",
   "execution_count": 20,
   "metadata": {},
   "outputs": [
    {
     "data": {
      "text/html": [
       "<div>\n",
       "<style scoped>\n",
       "    .dataframe tbody tr th:only-of-type {\n",
       "        vertical-align: middle;\n",
       "    }\n",
       "\n",
       "    .dataframe tbody tr th {\n",
       "        vertical-align: top;\n",
       "    }\n",
       "\n",
       "    .dataframe thead th {\n",
       "        text-align: right;\n",
       "    }\n",
       "</style>\n",
       "<table border=\"1\" class=\"dataframe\">\n",
       "  <thead>\n",
       "    <tr style=\"text-align: right;\">\n",
       "      <th></th>\n",
       "      <th>Student_ID</th>\n",
       "      <th>School</th>\n",
       "      <th>Grade</th>\n",
       "      <th>Starting_Year</th>\n",
       "      <th>Period</th>\n",
       "      <th>Score</th>\n",
       "      <th>Gender</th>\n",
       "      <th>Race</th>\n",
       "      <th>Ethnicity</th>\n",
       "    </tr>\n",
       "  </thead>\n",
       "  <tbody>\n",
       "    <tr>\n",
       "      <th>0</th>\n",
       "      <td>3873</td>\n",
       "      <td>CA</td>\n",
       "      <td>1</td>\n",
       "      <td>2023</td>\n",
       "      <td>Fall</td>\n",
       "      <td>47</td>\n",
       "      <td>Female</td>\n",
       "      <td>White</td>\n",
       "      <td>Hispanic</td>\n",
       "    </tr>\n",
       "    <tr>\n",
       "      <th>1</th>\n",
       "      <td>1695</td>\n",
       "      <td>CA</td>\n",
       "      <td>1</td>\n",
       "      <td>2023</td>\n",
       "      <td>Fall</td>\n",
       "      <td>49</td>\n",
       "      <td>Male</td>\n",
       "      <td>White</td>\n",
       "      <td>Hispanic</td>\n",
       "    </tr>\n",
       "    <tr>\n",
       "      <th>2</th>\n",
       "      <td>1881</td>\n",
       "      <td>CA</td>\n",
       "      <td>1</td>\n",
       "      <td>2023</td>\n",
       "      <td>Fall</td>\n",
       "      <td>57</td>\n",
       "      <td>Male</td>\n",
       "      <td>African American</td>\n",
       "      <td>Hispanic</td>\n",
       "    </tr>\n",
       "    <tr>\n",
       "      <th>3</th>\n",
       "      <td>3940</td>\n",
       "      <td>CA</td>\n",
       "      <td>1</td>\n",
       "      <td>2023</td>\n",
       "      <td>Fall</td>\n",
       "      <td>63</td>\n",
       "      <td>Female</td>\n",
       "      <td>African American</td>\n",
       "      <td>Non-Hispanic</td>\n",
       "    </tr>\n",
       "    <tr>\n",
       "      <th>4</th>\n",
       "      <td>2673</td>\n",
       "      <td>CA</td>\n",
       "      <td>1</td>\n",
       "      <td>2023</td>\n",
       "      <td>Fall</td>\n",
       "      <td>51</td>\n",
       "      <td>Female</td>\n",
       "      <td>White</td>\n",
       "      <td>Hispanic</td>\n",
       "    </tr>\n",
       "    <tr>\n",
       "      <th>...</th>\n",
       "      <td>...</td>\n",
       "      <td>...</td>\n",
       "      <td>...</td>\n",
       "      <td>...</td>\n",
       "      <td>...</td>\n",
       "      <td>...</td>\n",
       "      <td>...</td>\n",
       "      <td>...</td>\n",
       "      <td>...</td>\n",
       "    </tr>\n",
       "    <tr>\n",
       "      <th>7995</th>\n",
       "      <td>3587</td>\n",
       "      <td>SA</td>\n",
       "      <td>K</td>\n",
       "      <td>2023</td>\n",
       "      <td>Spring</td>\n",
       "      <td>58</td>\n",
       "      <td>Female</td>\n",
       "      <td>American Indian</td>\n",
       "      <td>Non-Hispanic</td>\n",
       "    </tr>\n",
       "    <tr>\n",
       "      <th>7996</th>\n",
       "      <td>3964</td>\n",
       "      <td>SA</td>\n",
       "      <td>K</td>\n",
       "      <td>2023</td>\n",
       "      <td>Spring</td>\n",
       "      <td>50</td>\n",
       "      <td>Female</td>\n",
       "      <td>Asian</td>\n",
       "      <td>Non-Hispanic</td>\n",
       "    </tr>\n",
       "    <tr>\n",
       "      <th>7997</th>\n",
       "      <td>460</td>\n",
       "      <td>SA</td>\n",
       "      <td>K</td>\n",
       "      <td>2023</td>\n",
       "      <td>Spring</td>\n",
       "      <td>60</td>\n",
       "      <td>Male</td>\n",
       "      <td>White</td>\n",
       "      <td>Non-Hispanic</td>\n",
       "    </tr>\n",
       "    <tr>\n",
       "      <th>7998</th>\n",
       "      <td>2816</td>\n",
       "      <td>SA</td>\n",
       "      <td>K</td>\n",
       "      <td>2023</td>\n",
       "      <td>Spring</td>\n",
       "      <td>52</td>\n",
       "      <td>Female</td>\n",
       "      <td>Asian</td>\n",
       "      <td>Hispanic</td>\n",
       "    </tr>\n",
       "    <tr>\n",
       "      <th>7999</th>\n",
       "      <td>2238</td>\n",
       "      <td>SA</td>\n",
       "      <td>K</td>\n",
       "      <td>2023</td>\n",
       "      <td>Spring</td>\n",
       "      <td>57</td>\n",
       "      <td>Female</td>\n",
       "      <td>African American</td>\n",
       "      <td>Non-Hispanic</td>\n",
       "    </tr>\n",
       "  </tbody>\n",
       "</table>\n",
       "<p>8000 rows × 9 columns</p>\n",
       "</div>"
      ],
      "text/plain": [
       "      Student_ID School Grade  Starting_Year  Period  Score  Gender  \\\n",
       "0           3873     CA     1           2023    Fall     47  Female   \n",
       "1           1695     CA     1           2023    Fall     49    Male   \n",
       "2           1881     CA     1           2023    Fall     57    Male   \n",
       "3           3940     CA     1           2023    Fall     63  Female   \n",
       "4           2673     CA     1           2023    Fall     51  Female   \n",
       "...          ...    ...   ...            ...     ...    ...     ...   \n",
       "7995        3587     SA     K           2023  Spring     58  Female   \n",
       "7996        3964     SA     K           2023  Spring     50  Female   \n",
       "7997         460     SA     K           2023  Spring     60    Male   \n",
       "7998        2816     SA     K           2023  Spring     52  Female   \n",
       "7999        2238     SA     K           2023  Spring     57  Female   \n",
       "\n",
       "                  Race     Ethnicity  \n",
       "0                White      Hispanic  \n",
       "1                White      Hispanic  \n",
       "2     African American      Hispanic  \n",
       "3     African American  Non-Hispanic  \n",
       "4                White      Hispanic  \n",
       "...                ...           ...  \n",
       "7995   American Indian  Non-Hispanic  \n",
       "7996             Asian  Non-Hispanic  \n",
       "7997             White  Non-Hispanic  \n",
       "7998             Asian      Hispanic  \n",
       "7999  African American  Non-Hispanic  \n",
       "\n",
       "[8000 rows x 9 columns]"
      ]
     },
     "execution_count": 20,
     "metadata": {},
     "output_type": "execute_result"
    }
   ],
   "source": [
    "enrollment_comparisons = ['School', 'Grade', 'Gender',\n",
    "'Race', 'Ethnicity'] \n",
    "\n",
    "\n",
    "\n",
    "df_curr_enrollment_for_merge = df_students.copy()[['Student_ID'] + enrollment_comparisons]\n",
    "for column in df_test_results.columns:\n",
    "    if column in enrollment_comparisons:\n",
    "        df_curr_enrollment_for_merge.drop(column, axis = 1, inplace = True)\n",
    "df_curr_enrollment_for_merge\n",
    "df_test_results.merge(df_curr_enrollment_for_merge, on = 'Student_ID', how = 'left')"
   ]
  },
  {
   "cell_type": "code",
   "execution_count": 22,
   "metadata": {},
   "outputs": [],
   "source": [
    "enrollment_comparisons = ['School', 'Grade', 'Gender',\n",
    "'Race', 'Ethnicity'] \n",
    "\n",
    "\n",
    "def merge_demographics_into_df(df):\n",
    "    '''This function merges demographic variables from df_current_enrollment\n",
    "    into the DataFrame passed to df, then returns the new version\n",
    "    of the DataFrame.'''\n",
    "    # Creating a copy of df_current_enrollment that only contains \n",
    "    # Student IDs (which will serve as the key for the merge) and \n",
    "    # the demographic values contained in enrollment_comparisons:\n",
    "    df_curr_enrollment_for_merge = df_students.copy()[['Student_ID'] + enrollment_comparisons]\n",
    "    # Some of these demographic values may already be present within \n",
    "    # the DataFrame, in which case they should be removed from\n",
    "    # df_curr_enrollment_for_merge so that we don't end up with multiple\n",
    "    # copies of the same column.\n",
    "    for column in df.columns:\n",
    "        if column in enrollment_comparisons:\n",
    "            df_curr_enrollment_for_merge.drop(column, axis = 1, inplace = True)\n",
    "    return df.merge(df_curr_enrollment_for_merge, on = 'Student_ID', how = 'left')"
   ]
  },
  {
   "cell_type": "code",
   "execution_count": 23,
   "metadata": {},
   "outputs": [
    {
     "data": {
      "text/html": [
       "<div>\n",
       "<style scoped>\n",
       "    .dataframe tbody tr th:only-of-type {\n",
       "        vertical-align: middle;\n",
       "    }\n",
       "\n",
       "    .dataframe tbody tr th {\n",
       "        vertical-align: top;\n",
       "    }\n",
       "\n",
       "    .dataframe thead th {\n",
       "        text-align: right;\n",
       "    }\n",
       "</style>\n",
       "<table border=\"1\" class=\"dataframe\">\n",
       "  <thead>\n",
       "    <tr style=\"text-align: right;\">\n",
       "      <th></th>\n",
       "      <th>Student_ID</th>\n",
       "      <th>School</th>\n",
       "      <th>Grade</th>\n",
       "      <th>Starting_Year</th>\n",
       "      <th>Period</th>\n",
       "      <th>Score</th>\n",
       "      <th>Gender</th>\n",
       "      <th>Race</th>\n",
       "      <th>Ethnicity</th>\n",
       "    </tr>\n",
       "  </thead>\n",
       "  <tbody>\n",
       "    <tr>\n",
       "      <th>0</th>\n",
       "      <td>3873</td>\n",
       "      <td>CA</td>\n",
       "      <td>1</td>\n",
       "      <td>2023</td>\n",
       "      <td>Fall</td>\n",
       "      <td>47</td>\n",
       "      <td>Female</td>\n",
       "      <td>White</td>\n",
       "      <td>Hispanic</td>\n",
       "    </tr>\n",
       "    <tr>\n",
       "      <th>1</th>\n",
       "      <td>1695</td>\n",
       "      <td>CA</td>\n",
       "      <td>1</td>\n",
       "      <td>2023</td>\n",
       "      <td>Fall</td>\n",
       "      <td>49</td>\n",
       "      <td>Male</td>\n",
       "      <td>White</td>\n",
       "      <td>Hispanic</td>\n",
       "    </tr>\n",
       "    <tr>\n",
       "      <th>2</th>\n",
       "      <td>1881</td>\n",
       "      <td>CA</td>\n",
       "      <td>1</td>\n",
       "      <td>2023</td>\n",
       "      <td>Fall</td>\n",
       "      <td>57</td>\n",
       "      <td>Male</td>\n",
       "      <td>African American</td>\n",
       "      <td>Hispanic</td>\n",
       "    </tr>\n",
       "    <tr>\n",
       "      <th>3</th>\n",
       "      <td>3940</td>\n",
       "      <td>CA</td>\n",
       "      <td>1</td>\n",
       "      <td>2023</td>\n",
       "      <td>Fall</td>\n",
       "      <td>63</td>\n",
       "      <td>Female</td>\n",
       "      <td>African American</td>\n",
       "      <td>Non-Hispanic</td>\n",
       "    </tr>\n",
       "    <tr>\n",
       "      <th>4</th>\n",
       "      <td>2673</td>\n",
       "      <td>CA</td>\n",
       "      <td>1</td>\n",
       "      <td>2023</td>\n",
       "      <td>Fall</td>\n",
       "      <td>51</td>\n",
       "      <td>Female</td>\n",
       "      <td>White</td>\n",
       "      <td>Hispanic</td>\n",
       "    </tr>\n",
       "    <tr>\n",
       "      <th>...</th>\n",
       "      <td>...</td>\n",
       "      <td>...</td>\n",
       "      <td>...</td>\n",
       "      <td>...</td>\n",
       "      <td>...</td>\n",
       "      <td>...</td>\n",
       "      <td>...</td>\n",
       "      <td>...</td>\n",
       "      <td>...</td>\n",
       "    </tr>\n",
       "    <tr>\n",
       "      <th>7995</th>\n",
       "      <td>3587</td>\n",
       "      <td>SA</td>\n",
       "      <td>K</td>\n",
       "      <td>2023</td>\n",
       "      <td>Spring</td>\n",
       "      <td>58</td>\n",
       "      <td>Female</td>\n",
       "      <td>American Indian</td>\n",
       "      <td>Non-Hispanic</td>\n",
       "    </tr>\n",
       "    <tr>\n",
       "      <th>7996</th>\n",
       "      <td>3964</td>\n",
       "      <td>SA</td>\n",
       "      <td>K</td>\n",
       "      <td>2023</td>\n",
       "      <td>Spring</td>\n",
       "      <td>50</td>\n",
       "      <td>Female</td>\n",
       "      <td>Asian</td>\n",
       "      <td>Non-Hispanic</td>\n",
       "    </tr>\n",
       "    <tr>\n",
       "      <th>7997</th>\n",
       "      <td>460</td>\n",
       "      <td>SA</td>\n",
       "      <td>K</td>\n",
       "      <td>2023</td>\n",
       "      <td>Spring</td>\n",
       "      <td>60</td>\n",
       "      <td>Male</td>\n",
       "      <td>White</td>\n",
       "      <td>Non-Hispanic</td>\n",
       "    </tr>\n",
       "    <tr>\n",
       "      <th>7998</th>\n",
       "      <td>2816</td>\n",
       "      <td>SA</td>\n",
       "      <td>K</td>\n",
       "      <td>2023</td>\n",
       "      <td>Spring</td>\n",
       "      <td>52</td>\n",
       "      <td>Female</td>\n",
       "      <td>Asian</td>\n",
       "      <td>Hispanic</td>\n",
       "    </tr>\n",
       "    <tr>\n",
       "      <th>7999</th>\n",
       "      <td>2238</td>\n",
       "      <td>SA</td>\n",
       "      <td>K</td>\n",
       "      <td>2023</td>\n",
       "      <td>Spring</td>\n",
       "      <td>57</td>\n",
       "      <td>Female</td>\n",
       "      <td>African American</td>\n",
       "      <td>Non-Hispanic</td>\n",
       "    </tr>\n",
       "  </tbody>\n",
       "</table>\n",
       "<p>8000 rows × 9 columns</p>\n",
       "</div>"
      ],
      "text/plain": [
       "      Student_ID School Grade  Starting_Year  Period  Score  Gender  \\\n",
       "0           3873     CA     1           2023    Fall     47  Female   \n",
       "1           1695     CA     1           2023    Fall     49    Male   \n",
       "2           1881     CA     1           2023    Fall     57    Male   \n",
       "3           3940     CA     1           2023    Fall     63  Female   \n",
       "4           2673     CA     1           2023    Fall     51  Female   \n",
       "...          ...    ...   ...            ...     ...    ...     ...   \n",
       "7995        3587     SA     K           2023  Spring     58  Female   \n",
       "7996        3964     SA     K           2023  Spring     50  Female   \n",
       "7997         460     SA     K           2023  Spring     60    Male   \n",
       "7998        2816     SA     K           2023  Spring     52  Female   \n",
       "7999        2238     SA     K           2023  Spring     57  Female   \n",
       "\n",
       "                  Race     Ethnicity  \n",
       "0                White      Hispanic  \n",
       "1                White      Hispanic  \n",
       "2     African American      Hispanic  \n",
       "3     African American  Non-Hispanic  \n",
       "4                White      Hispanic  \n",
       "...                ...           ...  \n",
       "7995   American Indian  Non-Hispanic  \n",
       "7996             Asian  Non-Hispanic  \n",
       "7997             White  Non-Hispanic  \n",
       "7998             Asian      Hispanic  \n",
       "7999  African American  Non-Hispanic  \n",
       "\n",
       "[8000 rows x 9 columns]"
      ]
     },
     "execution_count": 23,
     "metadata": {},
     "output_type": "execute_result"
    }
   ],
   "source": [
    "merge_demographics_into_df(df_test_results)"
   ]
  },
  {
   "cell_type": "code",
   "execution_count": 6,
   "metadata": {},
   "outputs": [
    {
     "data": {
      "text/plain": [
       "['Chestnut Academy', 'Dogwood Academy', 'Hickory Academy', 'Sycamore Academy']"
      ]
     },
     "execution_count": 6,
     "metadata": {},
     "output_type": "execute_result"
    }
   ],
   "source": [
    "list(df_students['Full_School_Name'].unique())"
   ]
  },
  {
   "cell_type": "code",
   "execution_count": 7,
   "metadata": {},
   "outputs": [],
   "source": [
    "def create_pivot_for_charts(original_data_source, y_value,\n",
    "comparison_values, pivot_aggfunc, filter_list = None, \n",
    "color_value = None, drop_color_value_from_x_vals = True, \n",
    "secondary_differentiator = None, \n",
    "drop_secondary_differentiator_from_x_vals = True,\n",
    "reorder_bars_by = '', reordering_map = {}, debug = False):\n",
    "    '''original_data_source: The source of the data that will be graphed.\n",
    "\n",
    "    y_value: The y value to use within the graph.\n",
    "\n",
    "    comparison_values: A list of values that will be used to pivot the\n",
    "    DataFrame. These values help determine the level of detail shown in the\n",
    "    final bar chart. Set this to an empty list ([]) \n",
    "    if no comparison values will be used. \n",
    "\n",
    "    pivot_aggfunc: the function ('mean', 'sum', 'count', etc.) to be passed\n",
    "    to the pivot_table() call.\n",
    "\n",
    "    filter_list: a list of tuples that govern how the DataFrame will be \n",
    "    filtered. The first component of each tuple is a column name; the second\n",
    "    component is a list of values to include.\n",
    "\n",
    "    color_value and drop_color_value_from_x_vals: \n",
    "    color_value specifies the variable to use for a color-based comparison \n",
    "    in the final graph.\n",
    "    In order to represent all of the specified values in the bar chart, \n",
    "    the code creates a column describing all (or almost all) of the \n",
    "    pivot index variables in the other columns, which then gets fed into \n",
    "    the x axis parameter of a histogram. However, if a color value is also \n",
    "    specified, *and* drop_color_value_from_x_vals is set to True, this item \n",
    "    will not get added into this column, since this\n",
    "    data will already get represented in the bar chart (by means of the color\n",
    "    legend). Removing this value helps\n",
    "    simplify the final chart output.\n",
    "\n",
    "    secondary_differentiator: Similar to color_value, this is \n",
    "    a second variable that will be represented via a chart feature \n",
    "    (such as pattern_shape for a bar chart or line_dash for a \n",
    "    line chart). Defining this variable allows it to be\n",
    "    removed from the column that describes the pivot index variables\n",
    "    so that the graph can be further simplified.\n",
    "\n",
    "    drop_secondary_differentiator_from_x_vals: Set this to True to remove\n",
    "    the variable stored in secondary_differentiator from the pivot table\n",
    "    column that will contain different x values.\n",
    "\n",
    "    reorder_bars_by and reordering_map: Variables that you can\n",
    "    use to update the order of the bars in the resulting chart. For instance,\n",
    "    suppose you want to order the bars by a 'grade' column whose values\n",
    "    range from K (kindergarten) to 12. If these are stored as strings \n",
    "    (which they often will be due to the inclusion of 'K'),\n",
    "    the first 5 bars will be 1, 10, 11, 12, and 2, and the \n",
    "    last bar will be K. (That's because these bars are \n",
    "    being treated alphabetically). However, by setting\n",
    "    reorder_bars_by to 'grade' and reordering_map to {'K':0, '1':1, '2':2, \n",
    "    '3':3, '4':4, '5':5, '6':6, '7':7, '8':8, '9':9, '10':10, '11':11, \n",
    "    '12':12, 1:1, 2:2, 3:3, 4:4, 5:5, 6:6, 7:7, 8:8, 9:9, 10:10, 11:11, 12:12},\n",
    "    you can instruct the function to (1) create a new order for the grade\n",
    "    column and then (2) sort the DataFrame based on this new order. This \n",
    "    sort operation will in turn reorder the bars so that 'K' comes first\n",
    "    and '12' comes last.\n",
    "\n",
    "    Note: If you don't need to update the sort order of the values in the \n",
    "    column whose name was passed to reorder_bars_by, simply keep \n",
    "    reordering_map as {}.'''\n",
    "\n",
    "    print(\"Filter list:\",filter_list)\n",
    "    data_source = original_data_source.copy() # Included to avoid modifying the\n",
    "    # original DataFrame (although this line may not be necessary)\n",
    "    \n",
    "    all_data_value = 'All'\n",
    "\n",
    "    # The following line goes through each tuple in filter_list and\n",
    "    # filters the DataFrame based on the values provided there.\n",
    "    # filter[0] corresponds to a column in the DataFrame, and filter[1]\n",
    "    # contains a list of which values to keep within that column.\n",
    "    data_source_filtered = data_source.copy()\n",
    "    if filter_list != None:\n",
    "        for filter in filter_list:\n",
    "           data_source_filtered.query(\n",
    "            f\"{filter[0]} in {filter[1]}\", inplace = True)\n",
    "    if debug == True:\n",
    "        print(\"data_source_filtered:\",data_source_filtered)\n",
    "\n",
    "    # The color value must also be present within the comparison_values\n",
    "    # table. If it is not, the following line sets color_value to None.\n",
    "    if color_value not in comparison_values:\n",
    "        color_value = None\n",
    "\n",
    "    # The same holds true for secondary_differentiator.\n",
    "    if secondary_differentiator not in comparison_values:\n",
    "        secondary_differentiator = None\n",
    "\n",
    "    # In order to show comparisons within the final graph, we need to create\n",
    "    # a table that contains those various comparisons. This function does so\n",
    "    # using the pivot_table() function within Pandas. The resulting pivot\n",
    "    # table will have one row for each comparison combination (as long as\n",
    "    # y value data were present for that combination.)\n",
    "\n",
    "    # If at least one comparison value was provided, the comparison_values\n",
    "    # variable will be used as the index for the pivot_table() function. \n",
    "    # Otherwise, a new column will be \n",
    "    # created (with the same value in every cell), and the pivot_table()\n",
    "    # function will use this column as its index instead. \n",
    "    if len(comparison_values) == 0:\n",
    "        data_source_filtered[all_data_value] = all_data_value \n",
    "        data_source_pivot = data_source_filtered.pivot_table(\n",
    "            index = all_data_value, values = y_value, \n",
    "            aggfunc = pivot_aggfunc).reset_index()\n",
    "    else:\n",
    "        data_source_pivot = data_source_filtered.pivot_table(\n",
    "            index = comparison_values, values = y_value, \n",
    "            aggfunc = pivot_aggfunc).reset_index()\n",
    "\n",
    "    # Next, we need to create x values that reflect the different column\n",
    "    # values in each row of the pivot table. These x values will then \n",
    "    # get passed to the graphing function.\n",
    "    # The following lines accomplish this by creating a new \n",
    "    # data_source_pivot column that contains strings made up of the \n",
    "    # values of each of the columns (other than the y value column) \n",
    "    # present in the bar chart. The chart will use these strings as \n",
    "    # x values when creating the grouped chart. \n",
    "\n",
    "    if len(comparison_values) == 0:\n",
    "        data_descriptor = all_data_value\n",
    "    else:\n",
    "        data_descriptor_values = comparison_values.copy()\n",
    "        \n",
    "        # We'll now remove the variables stored in\n",
    "        # color_value and secondary_differentiator from the chart if\n",
    "        # drop_color_value_from_x_vals and drop_\n",
    "        if ((color_value != None) & (len(data_descriptor_values) > 1) \n",
    "            & (drop_color_value_from_x_vals == True)):\n",
    "            data_descriptor_values.remove(color_value) \n",
    "            # If a value will be assigned a\n",
    "            # color component in the graph, it doesn't need to be assigned a \n",
    "            # group component, since it will show up in the graph regardless. \n",
    "            # Removing it here helps simplify the graph.\n",
    "\n",
    "        # Performing the same steps for secondary_differentiator:\n",
    "        if ((secondary_differentiator != None) & \n",
    "            (len(data_descriptor_values) > 1) \n",
    "            & (drop_secondary_differentiator_from_x_vals == True)):\n",
    "            data_descriptor_values.remove(secondary_differentiator) \n",
    "            \n",
    "\n",
    "        print(data_descriptor_values)   \n",
    "        data_descriptor = data_source_pivot[\n",
    "            data_descriptor_values[0]].copy() # This line initializes \n",
    "            # data_descriptor as the first item within data_descriptor_values.\n",
    "            # copy() is needed in order to avoid modifying this column when\n",
    "        # the group column gets chosen.\n",
    "        # The following for loop iterates through each column name (except\n",
    "        # for the initial column, which has already been added\n",
    "        # to data_descriptor) in order to set data_descriptor with all the\n",
    "        # the values present in data_descriptor_values.\n",
    "        # The use of a for loop allows this code to adapt to different variable\n",
    "        # choices and different column counts.\n",
    "        for i in range(1, len(data_descriptor_values)):\n",
    "            data_descriptor += ' ' + data_source_pivot[\n",
    "                data_descriptor_values[i]] # This line adds the value of a \n",
    "                # given column to data_descriptor.\n",
    "\n",
    "    data_source_pivot['Group'] = data_descriptor # This group column will be \n",
    "    # used as the x value of the histogram.\n",
    "\n",
    "    # The following code reorders the rows in the pivot table\n",
    "    # in order to change the order of the bars in the ensuing chart.\n",
    "    # See the description of reorder_bars_by and reordering_map\n",
    "    # in the function docstring for more information.\n",
    "    if (reorder_bars_by != '') & (reorder_bars_by in data_source_pivot.columns):\n",
    "        # The above line first checks to ensure that the column passed to\n",
    "        # reorder_bars_by is actually in the pivot; otherwise, we'll run \n",
    "        # into an error by trying to sort by a nonexistent column.\n",
    "        if reordering_map == {}: # Since nothing has been passed to \n",
    "            # reordering_map, the function will simply sort the DataFrame\n",
    "            # by the values in the column referenced by reorder_bars_by.\n",
    "            data_source_pivot.sort_values('reorder_bars_by', inplace = True)\n",
    "        else: # In this case, the function will first create a separate column\n",
    "            # that will store a new order of the values in reorder_bars_by,\n",
    "            # then sort the DataFrame by that column instead. \n",
    "            data_source_pivot['column_for_sorting'] = data_source_pivot[\n",
    "                reorder_bars_by].map(reordering_map)\n",
    "            data_source_pivot.sort_values('column_for_sorting', \n",
    "            inplace = True)\n",
    "            data_source_pivot.drop('column_for_sorting', axis = 1, \n",
    "            inplace = True) # This column is no longer needed,\n",
    "            # so we can remove it from the DataFrame.\n",
    "    \n",
    "    print(\"Pivot table created for charts/tables:\")\n",
    "    print(data_source_pivot)\n",
    "    return data_source_pivot"
   ]
  },
  {
   "cell_type": "code",
   "execution_count": 8,
   "metadata": {},
   "outputs": [
    {
     "data": {
      "text/plain": [
       "33.532"
      ]
     },
     "execution_count": 8,
     "metadata": {},
     "output_type": "execute_result"
    }
   ],
   "source": [
    "test_num = 33.53232324\n",
    "\n",
    "round_val = 3\n",
    "\n",
    "if round_val != None:\n",
    "    test_num = round(test_num, round_val)\n",
    "\n",
    "test_num"
   ]
  },
  {
   "cell_type": "code",
   "execution_count": 19,
   "metadata": {},
   "outputs": [],
   "source": [
    "def create_interactive_bar_chart_and_table(data_source_pivot, y_value,\n",
    "comparison_values, color_value = None, color_discrete_map = None, \n",
    "barmode = 'group', color_discrete_sequence = px.colors.qualitative.Light24,\n",
    "secondary_differentiator = None, text_auto = True, label_round_precision = None,\n",
    "table_round_precision = None):\n",
    "    '''This function converts a pivot table (presumably one returned by\n",
    "    create_pivot_for_charts() into an interactive bar chart and table.\n",
    "\n",
    "    data_source_pivot: The pivot table on which the chart will be based.\n",
    "    It is expected, but not required, that this table originate from\n",
    "    create_pivot_for_charts().\n",
    "\n",
    "    For definitions of y_value, comaprison_values, and color_value,\n",
    "    see create_pivot_for_charts().\n",
    "\n",
    "    color_discrete_map: A custom color mapping to pass to the chart.\n",
    "\n",
    "    color_discrete_sequence: The color palette to use for the charts.\n",
    "    The default is Light24 because its use of 24 distinct colors\n",
    "    helps prevent bar colors from overlapping.\n",
    "\n",
    "    barmode: The means by which the bars will be presented relative to\n",
    "    one another. This keyword comes from Plotly's px.histogram() code.\n",
    "\n",
    "    secondary_differentiator: A value to pass to the pattern_shape argument,\n",
    "    allowing for further distinction between different bars. For documentation\n",
    "    on pattern_shape, see:\n",
    "    # https://plotly.com/python-api-reference/generated/plotly.express.bar\n",
    "\n",
    "    text_auto: Set to True to show data labels within charts.\n",
    "\n",
    "    label_round_precision: The extent to which chart labels should be rounded.\n",
    "    If the label is originally 555.933, a label_round_precision of 1 will\n",
    "    produce the number 555.9, and a label_round_precision of 0 will produce\n",
    "    556. No rounding will occur if label_round_precision is set to None.\n",
    "\n",
    "    table_round_precision: This variable rounds table values in the same way\n",
    "    that label_round_precision rounds label values.\n",
    "\n",
    "    '''\n",
    "\n",
    "    data_source_pivot_for_table = data_source_pivot.copy() # This script \n",
    "    # will apply changes to copies of data_source_pivot so that the original\n",
    "    # pivot table is not affected.\n",
    "\n",
    "    if table_round_precision != None:\n",
    "        data_source_pivot_for_table[y_value] = round(\n",
    "            data_source_pivot_for_table[y_value], table_round_precision)\n",
    "\n",
    "    table_data = data_source_pivot_for_table.to_dict('records') \n",
    "    # See https://dash.plotly.com/datatable\n",
    "\n",
    "\n",
    "    data_source_pivot_for_chart = data_source_pivot.copy()\n",
    "\n",
    "    # There is no need to perform bar grouping if only one pivot variable \n",
    "    # exists, so the following if/else statement sets barmode to \n",
    "    # 'relative' in that case. Otherwise, barmode is set to 'group' \n",
    "    # in order to simplify the x axis variables.\n",
    "    if len(comparison_values) == 1:\n",
    "        selected_barmode = 'relative'\n",
    "    \n",
    "    else:\n",
    "        selected_barmode = barmode\n",
    "\n",
    "    # Rounding y values to be shown in labels:\n",
    "    if label_round_precision != None:\n",
    "        data_source_pivot_for_chart[y_value] = round(\n",
    "            data_source_pivot_for_chart[y_value], \n",
    "        label_round_precision)\n",
    "\n",
    "    output_histogram = px.histogram(data_source_pivot_for_chart, x = 'Group', \n",
    "    y = y_value, color = color_value, \n",
    "    barmode = selected_barmode, color_discrete_map=color_discrete_map,\n",
    "    color_discrete_sequence=color_discrete_sequence,\n",
    "    pattern_shape = secondary_differentiator, text_auto = text_auto\n",
    "    )\n",
    "\n",
    "\n",
    "    return output_histogram, table_data"
   ]
  },
  {
   "cell_type": "code",
   "execution_count": 10,
   "metadata": {},
   "outputs": [],
   "source": [
    "def create_interactive_line_chart_and_table(data_source_pivot, y_value,\n",
    "comparison_values, color_value = None, color_discrete_map = None, \n",
    "color_discrete_sequence = px.colors.qualitative.Light24, \n",
    "markers = True, secondary_differentiator = None,\n",
    "show_labels = True, label_round_precision = None,\n",
    "table_round_precision = None):\n",
    "    '''This function converts a pivot table (presumably one returned by\n",
    "    create_pivot_for_charts() into an interactive line chart and table.\n",
    "\n",
    "    data_source_pivot: The pivot table on which the chart will be based.\n",
    "    It is expected, but not required, that this table originate from\n",
    "    create_pivot_for_charts().\n",
    "\n",
    "    For definitions of y_value, comparison_values, and color_value,\n",
    "    see create_pivot_for_charts().\n",
    "\n",
    "    color_discrete_map: A custom color mapping to pass to the chart.\n",
    "\n",
    "    color_discrete_sequence: The color palette to use for the charts.\n",
    "    The default is Light24 because its use of 24 distinct colors\n",
    "    helps prevent bar colors from overlapping.\n",
    "\n",
    "    markers: Set to True to add markers to your line chart and False to\n",
    "    omit them.\n",
    "\n",
    "    secondary_differentiator: A variable to be passed to the line_dash\n",
    "    # argument of px.line(). For documentation on line_dash,\n",
    "    # see: https://plotly.com/python-api-reference/generated/plotly.express.line \n",
    "\n",
    "    show_labels: Set to True to show data labels within charts.\n",
    "\n",
    "    label_round_precision: The extent to which chart labels should be rounded.\n",
    "    If the label is originally 555.933, a label_round_precision of 1 will\n",
    "    produce the number 555.9, and a label_round_precision of 0 will produce\n",
    "    556. No rounding will occur if label_round_precision is set to None.\n",
    "\n",
    "    table_round_precision: This variable rounds table values in the same way\n",
    "    that label_round_precision rounds label values.\n",
    "\n",
    "    '''\n",
    "\n",
    "    data_source_pivot_for_table = data_source_pivot.copy() # This script \n",
    "    # will apply changes to copies of data_source_pivot so that the original\n",
    "    # pivot table is not affected.\n",
    "    \n",
    "    if table_round_precision != None:\n",
    "        data_source_pivot_for_table[y_value] = round(\n",
    "            data_source_pivot_for_table[y_value], table_round_precision)\n",
    "\n",
    "    table_data = data_source_pivot_for_table.to_dict('records') \n",
    "    # See https://dash.plotly.com/datatable\n",
    "\n",
    "\n",
    "    data_source_pivot_for_chart = data_source_pivot.copy()\n",
    "\n",
    "    # Rounding y values to be shown in labels:\n",
    "    if label_round_precision != None:\n",
    "        data_source_pivot_for_chart[y_value] = round(\n",
    "            data_source_pivot_for_chart[y_value], \n",
    "        label_round_precision)\n",
    "\n",
    "    # Determining whether to show labels:\n",
    "    if show_labels == True:\n",
    "        text = y_value\n",
    "    else:\n",
    "        text = None\n",
    "\n",
    "    output_chart = px.line(data_source_pivot_for_chart, x = 'Group', \n",
    "    y = y_value, color = color_value,\n",
    "    color_discrete_map=color_discrete_map,\n",
    "    color_discrete_sequence=color_discrete_sequence,\n",
    "    markers = markers, line_dash = secondary_differentiator, text = y_value\n",
    "    )\n",
    "    # See https://plotly.com/python/line-charts/\n",
    "\n",
    "    return output_chart, table_data"
   ]
  },
  {
   "cell_type": "code",
   "execution_count": 11,
   "metadata": {},
   "outputs": [
    {
     "name": "stdout",
     "output_type": "stream",
     "text": [
      "Filter list: None\n",
      "['Period']\n",
      "Pivot table created for charts/tables:\n",
      "     Period School Grade      Score   Group\n",
      "0      Fall     CA     1  49.450704    Fall\n",
      "1      Fall     CA    10  50.265823    Fall\n",
      "2      Fall     CA    11  48.986667    Fall\n",
      "3      Fall     CA    12  51.642857    Fall\n",
      "4      Fall     CA     2  51.197368    Fall\n",
      "..      ...    ...   ...        ...     ...\n",
      "99   Spring     SA     6  59.128571  Spring\n",
      "100  Spring     SA     7  58.069444  Spring\n",
      "101  Spring     SA     8  59.367647  Spring\n",
      "102  Spring     SA     9  58.704225  Spring\n",
      "103  Spring     SA     K  57.597222  Spring\n",
      "\n",
      "[104 rows x 5 columns]\n"
     ]
    }
   ],
   "source": [
    "df_results_pivot = create_pivot_for_charts(original_data_source = df_test_results, y_value = 'Score',\n",
    "comparison_values = ['Period', 'School', 'Grade'], pivot_aggfunc = 'mean', filter_list = None, \n",
    "color_value = 'School', drop_color_value_from_x_vals = True, \n",
    "reorder_bars_by = '', reordering_map = {}, debug = False, secondary_differentiator = 'Grade')"
   ]
  },
  {
   "cell_type": "code",
   "execution_count": 12,
   "metadata": {},
   "outputs": [
    {
     "data": {
      "application/vnd.plotly.v1+json": {
       "config": {
        "plotlyServerURL": "https://plot.ly"
       },
       "data": [
        {
         "alignmentgroup": "True",
         "bingroup": "x",
         "histfunc": "sum",
         "hovertemplate": "Grade=1<br>School=CA<br>Group=%{x}<br>sum of Score=%{y}<extra></extra>",
         "legendgroup": "1, CA",
         "marker": {
          "color": "#FD3216",
          "pattern": {
           "shape": ""
          }
         },
         "name": "1, CA",
         "offsetgroup": "1, CA",
         "orientation": "v",
         "showlegend": true,
         "texttemplate": "%{value}",
         "type": "histogram",
         "x": [
          "Fall",
          "Spring"
         ],
         "xaxis": "x",
         "y": [
          49.451,
          59.085
         ],
         "yaxis": "y"
        },
        {
         "alignmentgroup": "True",
         "bingroup": "x",
         "histfunc": "sum",
         "hovertemplate": "Grade=1<br>School=DA<br>Group=%{x}<br>sum of Score=%{y}<extra></extra>",
         "legendgroup": "1, DA",
         "marker": {
          "color": "#FD3216",
          "pattern": {
           "shape": "/"
          }
         },
         "name": "1, DA",
         "offsetgroup": "1, DA",
         "orientation": "v",
         "showlegend": true,
         "texttemplate": "%{value}",
         "type": "histogram",
         "x": [
          "Fall",
          "Spring"
         ],
         "xaxis": "x",
         "y": [
          50.643,
          47.804
         ],
         "yaxis": "y"
        },
        {
         "alignmentgroup": "True",
         "bingroup": "x",
         "histfunc": "sum",
         "hovertemplate": "Grade=1<br>School=HA<br>Group=%{x}<br>sum of Score=%{y}<extra></extra>",
         "legendgroup": "1, HA",
         "marker": {
          "color": "#FD3216",
          "pattern": {
           "shape": "\\"
          }
         },
         "name": "1, HA",
         "offsetgroup": "1, HA",
         "orientation": "v",
         "showlegend": true,
         "texttemplate": "%{value}",
         "type": "histogram",
         "x": [
          "Fall",
          "Spring"
         ],
         "xaxis": "x",
         "y": [
          50.619,
          50.488
         ],
         "yaxis": "y"
        },
        {
         "alignmentgroup": "True",
         "bingroup": "x",
         "histfunc": "sum",
         "hovertemplate": "Grade=1<br>School=SA<br>Group=%{x}<br>sum of Score=%{y}<extra></extra>",
         "legendgroup": "1, SA",
         "marker": {
          "color": "#FD3216",
          "pattern": {
           "shape": "x"
          }
         },
         "name": "1, SA",
         "offsetgroup": "1, SA",
         "orientation": "v",
         "showlegend": true,
         "texttemplate": "%{value}",
         "type": "histogram",
         "x": [
          "Fall",
          "Spring"
         ],
         "xaxis": "x",
         "y": [
          51.341,
          60.529
         ],
         "yaxis": "y"
        },
        {
         "alignmentgroup": "True",
         "bingroup": "x",
         "histfunc": "sum",
         "hovertemplate": "Grade=10<br>School=CA<br>Group=%{x}<br>sum of Score=%{y}<extra></extra>",
         "legendgroup": "10, CA",
         "marker": {
          "color": "#00FE35",
          "pattern": {
           "shape": ""
          }
         },
         "name": "10, CA",
         "offsetgroup": "10, CA",
         "orientation": "v",
         "showlegend": true,
         "texttemplate": "%{value}",
         "type": "histogram",
         "x": [
          "Fall",
          "Spring"
         ],
         "xaxis": "x",
         "y": [
          50.266,
          61.228
         ],
         "yaxis": "y"
        },
        {
         "alignmentgroup": "True",
         "bingroup": "x",
         "histfunc": "sum",
         "hovertemplate": "Grade=10<br>School=DA<br>Group=%{x}<br>sum of Score=%{y}<extra></extra>",
         "legendgroup": "10, DA",
         "marker": {
          "color": "#00FE35",
          "pattern": {
           "shape": "/"
          }
         },
         "name": "10, DA",
         "offsetgroup": "10, DA",
         "orientation": "v",
         "showlegend": true,
         "texttemplate": "%{value}",
         "type": "histogram",
         "x": [
          "Fall",
          "Spring"
         ],
         "xaxis": "x",
         "y": [
          48.733,
          49.122
         ],
         "yaxis": "y"
        },
        {
         "alignmentgroup": "True",
         "bingroup": "x",
         "histfunc": "sum",
         "hovertemplate": "Grade=10<br>School=HA<br>Group=%{x}<br>sum of Score=%{y}<extra></extra>",
         "legendgroup": "10, HA",
         "marker": {
          "color": "#00FE35",
          "pattern": {
           "shape": "\\"
          }
         },
         "name": "10, HA",
         "offsetgroup": "10, HA",
         "orientation": "v",
         "showlegend": true,
         "texttemplate": "%{value}",
         "type": "histogram",
         "x": [
          "Fall",
          "Spring"
         ],
         "xaxis": "x",
         "y": [
          52.341,
          50.305
         ],
         "yaxis": "y"
        },
        {
         "alignmentgroup": "True",
         "bingroup": "x",
         "histfunc": "sum",
         "hovertemplate": "Grade=10<br>School=SA<br>Group=%{x}<br>sum of Score=%{y}<extra></extra>",
         "legendgroup": "10, SA",
         "marker": {
          "color": "#00FE35",
          "pattern": {
           "shape": "x"
          }
         },
         "name": "10, SA",
         "offsetgroup": "10, SA",
         "orientation": "v",
         "showlegend": true,
         "texttemplate": "%{value}",
         "type": "histogram",
         "x": [
          "Fall",
          "Spring"
         ],
         "xaxis": "x",
         "y": [
          48.291,
          58.57
         ],
         "yaxis": "y"
        },
        {
         "alignmentgroup": "True",
         "bingroup": "x",
         "histfunc": "sum",
         "hovertemplate": "Grade=11<br>School=CA<br>Group=%{x}<br>sum of Score=%{y}<extra></extra>",
         "legendgroup": "11, CA",
         "marker": {
          "color": "#6A76FC",
          "pattern": {
           "shape": ""
          }
         },
         "name": "11, CA",
         "offsetgroup": "11, CA",
         "orientation": "v",
         "showlegend": true,
         "texttemplate": "%{value}",
         "type": "histogram",
         "x": [
          "Fall",
          "Spring"
         ],
         "xaxis": "x",
         "y": [
          48.987,
          55.987
         ],
         "yaxis": "y"
        },
        {
         "alignmentgroup": "True",
         "bingroup": "x",
         "histfunc": "sum",
         "hovertemplate": "Grade=11<br>School=DA<br>Group=%{x}<br>sum of Score=%{y}<extra></extra>",
         "legendgroup": "11, DA",
         "marker": {
          "color": "#6A76FC",
          "pattern": {
           "shape": "/"
          }
         },
         "name": "11, DA",
         "offsetgroup": "11, DA",
         "orientation": "v",
         "showlegend": true,
         "texttemplate": "%{value}",
         "type": "histogram",
         "x": [
          "Fall",
          "Spring"
         ],
         "xaxis": "x",
         "y": [
          49.757,
          48.171
         ],
         "yaxis": "y"
        },
        {
         "alignmentgroup": "True",
         "bingroup": "x",
         "histfunc": "sum",
         "hovertemplate": "Grade=11<br>School=HA<br>Group=%{x}<br>sum of Score=%{y}<extra></extra>",
         "legendgroup": "11, HA",
         "marker": {
          "color": "#6A76FC",
          "pattern": {
           "shape": "\\"
          }
         },
         "name": "11, HA",
         "offsetgroup": "11, HA",
         "orientation": "v",
         "showlegend": true,
         "texttemplate": "%{value}",
         "type": "histogram",
         "x": [
          "Fall",
          "Spring"
         ],
         "xaxis": "x",
         "y": [
          48.415,
          44.446
         ],
         "yaxis": "y"
        },
        {
         "alignmentgroup": "True",
         "bingroup": "x",
         "histfunc": "sum",
         "hovertemplate": "Grade=11<br>School=SA<br>Group=%{x}<br>sum of Score=%{y}<extra></extra>",
         "legendgroup": "11, SA",
         "marker": {
          "color": "#6A76FC",
          "pattern": {
           "shape": "x"
          }
         },
         "name": "11, SA",
         "offsetgroup": "11, SA",
         "orientation": "v",
         "showlegend": true,
         "texttemplate": "%{value}",
         "type": "histogram",
         "x": [
          "Fall",
          "Spring"
         ],
         "xaxis": "x",
         "y": [
          51.12,
          57.467
         ],
         "yaxis": "y"
        },
        {
         "alignmentgroup": "True",
         "bingroup": "x",
         "histfunc": "sum",
         "hovertemplate": "Grade=12<br>School=CA<br>Group=%{x}<br>sum of Score=%{y}<extra></extra>",
         "legendgroup": "12, CA",
         "marker": {
          "color": "#FED4C4",
          "pattern": {
           "shape": ""
          }
         },
         "name": "12, CA",
         "offsetgroup": "12, CA",
         "orientation": "v",
         "showlegend": true,
         "texttemplate": "%{value}",
         "type": "histogram",
         "x": [
          "Fall",
          "Spring"
         ],
         "xaxis": "x",
         "y": [
          51.643,
          58.757
         ],
         "yaxis": "y"
        },
        {
         "alignmentgroup": "True",
         "bingroup": "x",
         "histfunc": "sum",
         "hovertemplate": "Grade=12<br>School=DA<br>Group=%{x}<br>sum of Score=%{y}<extra></extra>",
         "legendgroup": "12, DA",
         "marker": {
          "color": "#FED4C4",
          "pattern": {
           "shape": "/"
          }
         },
         "name": "12, DA",
         "offsetgroup": "12, DA",
         "orientation": "v",
         "showlegend": true,
         "texttemplate": "%{value}",
         "type": "histogram",
         "x": [
          "Fall",
          "Spring"
         ],
         "xaxis": "x",
         "y": [
          50.36,
          48.173
         ],
         "yaxis": "y"
        },
        {
         "alignmentgroup": "True",
         "bingroup": "x",
         "histfunc": "sum",
         "hovertemplate": "Grade=12<br>School=HA<br>Group=%{x}<br>sum of Score=%{y}<extra></extra>",
         "legendgroup": "12, HA",
         "marker": {
          "color": "#FED4C4",
          "pattern": {
           "shape": "\\"
          }
         },
         "name": "12, HA",
         "offsetgroup": "12, HA",
         "orientation": "v",
         "showlegend": true,
         "texttemplate": "%{value}",
         "type": "histogram",
         "x": [
          "Fall",
          "Spring"
         ],
         "xaxis": "x",
         "y": [
          50.829,
          46.086
         ],
         "yaxis": "y"
        },
        {
         "alignmentgroup": "True",
         "bingroup": "x",
         "histfunc": "sum",
         "hovertemplate": "Grade=12<br>School=SA<br>Group=%{x}<br>sum of Score=%{y}<extra></extra>",
         "legendgroup": "12, SA",
         "marker": {
          "color": "#FED4C4",
          "pattern": {
           "shape": "x"
          }
         },
         "name": "12, SA",
         "offsetgroup": "12, SA",
         "orientation": "v",
         "showlegend": true,
         "texttemplate": "%{value}",
         "type": "histogram",
         "x": [
          "Fall",
          "Spring"
         ],
         "xaxis": "x",
         "y": [
          52.108,
          57.928
         ],
         "yaxis": "y"
        },
        {
         "alignmentgroup": "True",
         "bingroup": "x",
         "histfunc": "sum",
         "hovertemplate": "Grade=2<br>School=CA<br>Group=%{x}<br>sum of Score=%{y}<extra></extra>",
         "legendgroup": "2, CA",
         "marker": {
          "color": "#FE00CE",
          "pattern": {
           "shape": ""
          }
         },
         "name": "2, CA",
         "offsetgroup": "2, CA",
         "orientation": "v",
         "showlegend": true,
         "texttemplate": "%{value}",
         "type": "histogram",
         "x": [
          "Fall",
          "Spring"
         ],
         "xaxis": "x",
         "y": [
          51.197,
          56.368
         ],
         "yaxis": "y"
        },
        {
         "alignmentgroup": "True",
         "bingroup": "x",
         "histfunc": "sum",
         "hovertemplate": "Grade=2<br>School=DA<br>Group=%{x}<br>sum of Score=%{y}<extra></extra>",
         "legendgroup": "2, DA",
         "marker": {
          "color": "#FE00CE",
          "pattern": {
           "shape": "/"
          }
         },
         "name": "2, DA",
         "offsetgroup": "2, DA",
         "orientation": "v",
         "showlegend": true,
         "texttemplate": "%{value}",
         "type": "histogram",
         "x": [
          "Fall",
          "Spring"
         ],
         "xaxis": "x",
         "y": [
          51.027,
          47.467
         ],
         "yaxis": "y"
        },
        {
         "alignmentgroup": "True",
         "bingroup": "x",
         "histfunc": "sum",
         "hovertemplate": "Grade=2<br>School=HA<br>Group=%{x}<br>sum of Score=%{y}<extra></extra>",
         "legendgroup": "2, HA",
         "marker": {
          "color": "#FE00CE",
          "pattern": {
           "shape": "\\"
          }
         },
         "name": "2, HA",
         "offsetgroup": "2, HA",
         "orientation": "v",
         "showlegend": true,
         "texttemplate": "%{value}",
         "type": "histogram",
         "x": [
          "Fall",
          "Spring"
         ],
         "xaxis": "x",
         "y": [
          46.538,
          48.774
         ],
         "yaxis": "y"
        },
        {
         "alignmentgroup": "True",
         "bingroup": "x",
         "histfunc": "sum",
         "hovertemplate": "Grade=2<br>School=SA<br>Group=%{x}<br>sum of Score=%{y}<extra></extra>",
         "legendgroup": "2, SA",
         "marker": {
          "color": "#FE00CE",
          "pattern": {
           "shape": "x"
          }
         },
         "name": "2, SA",
         "offsetgroup": "2, SA",
         "orientation": "v",
         "showlegend": true,
         "texttemplate": "%{value}",
         "type": "histogram",
         "x": [
          "Fall",
          "Spring"
         ],
         "xaxis": "x",
         "y": [
          50.688,
          55.712
         ],
         "yaxis": "y"
        },
        {
         "alignmentgroup": "True",
         "bingroup": "x",
         "histfunc": "sum",
         "hovertemplate": "Grade=3<br>School=CA<br>Group=%{x}<br>sum of Score=%{y}<extra></extra>",
         "legendgroup": "3, CA",
         "marker": {
          "color": "#0DF9FF",
          "pattern": {
           "shape": ""
          }
         },
         "name": "3, CA",
         "offsetgroup": "3, CA",
         "orientation": "v",
         "showlegend": true,
         "texttemplate": "%{value}",
         "type": "histogram",
         "x": [
          "Fall",
          "Spring"
         ],
         "xaxis": "x",
         "y": [
          47.82,
          59.475
         ],
         "yaxis": "y"
        },
        {
         "alignmentgroup": "True",
         "bingroup": "x",
         "histfunc": "sum",
         "hovertemplate": "Grade=3<br>School=DA<br>Group=%{x}<br>sum of Score=%{y}<extra></extra>",
         "legendgroup": "3, DA",
         "marker": {
          "color": "#0DF9FF",
          "pattern": {
           "shape": "/"
          }
         },
         "name": "3, DA",
         "offsetgroup": "3, DA",
         "orientation": "v",
         "showlegend": true,
         "texttemplate": "%{value}",
         "type": "histogram",
         "x": [
          "Fall",
          "Spring"
         ],
         "xaxis": "x",
         "y": [
          49.354,
          52.127
         ],
         "yaxis": "y"
        },
        {
         "alignmentgroup": "True",
         "bingroup": "x",
         "histfunc": "sum",
         "hovertemplate": "Grade=3<br>School=HA<br>Group=%{x}<br>sum of Score=%{y}<extra></extra>",
         "legendgroup": "3, HA",
         "marker": {
          "color": "#0DF9FF",
          "pattern": {
           "shape": "\\"
          }
         },
         "name": "3, HA",
         "offsetgroup": "3, HA",
         "orientation": "v",
         "showlegend": true,
         "texttemplate": "%{value}",
         "type": "histogram",
         "x": [
          "Fall",
          "Spring"
         ],
         "xaxis": "x",
         "y": [
          50.366,
          50.07
         ],
         "yaxis": "y"
        },
        {
         "alignmentgroup": "True",
         "bingroup": "x",
         "histfunc": "sum",
         "hovertemplate": "Grade=3<br>School=SA<br>Group=%{x}<br>sum of Score=%{y}<extra></extra>",
         "legendgroup": "3, SA",
         "marker": {
          "color": "#0DF9FF",
          "pattern": {
           "shape": "x"
          }
         },
         "name": "3, SA",
         "offsetgroup": "3, SA",
         "orientation": "v",
         "showlegend": true,
         "texttemplate": "%{value}",
         "type": "histogram",
         "x": [
          "Fall",
          "Spring"
         ],
         "xaxis": "x",
         "y": [
          50.371,
          59.392
         ],
         "yaxis": "y"
        },
        {
         "alignmentgroup": "True",
         "bingroup": "x",
         "histfunc": "sum",
         "hovertemplate": "Grade=4<br>School=CA<br>Group=%{x}<br>sum of Score=%{y}<extra></extra>",
         "legendgroup": "4, CA",
         "marker": {
          "color": "#F6F926",
          "pattern": {
           "shape": ""
          }
         },
         "name": "4, CA",
         "offsetgroup": "4, CA",
         "orientation": "v",
         "showlegend": true,
         "texttemplate": "%{value}",
         "type": "histogram",
         "x": [
          "Fall",
          "Spring"
         ],
         "xaxis": "x",
         "y": [
          49.741,
          55.988
         ],
         "yaxis": "y"
        },
        {
         "alignmentgroup": "True",
         "bingroup": "x",
         "histfunc": "sum",
         "hovertemplate": "Grade=4<br>School=DA<br>Group=%{x}<br>sum of Score=%{y}<extra></extra>",
         "legendgroup": "4, DA",
         "marker": {
          "color": "#F6F926",
          "pattern": {
           "shape": "/"
          }
         },
         "name": "4, DA",
         "offsetgroup": "4, DA",
         "orientation": "v",
         "showlegend": true,
         "texttemplate": "%{value}",
         "type": "histogram",
         "x": [
          "Fall",
          "Spring"
         ],
         "xaxis": "x",
         "y": [
          50.514,
          47.486
         ],
         "yaxis": "y"
        },
        {
         "alignmentgroup": "True",
         "bingroup": "x",
         "histfunc": "sum",
         "hovertemplate": "Grade=4<br>School=HA<br>Group=%{x}<br>sum of Score=%{y}<extra></extra>",
         "legendgroup": "4, HA",
         "marker": {
          "color": "#F6F926",
          "pattern": {
           "shape": "\\"
          }
         },
         "name": "4, HA",
         "offsetgroup": "4, HA",
         "orientation": "v",
         "showlegend": true,
         "texttemplate": "%{value}",
         "type": "histogram",
         "x": [
          "Fall",
          "Spring"
         ],
         "xaxis": "x",
         "y": [
          48.141,
          48.192
         ],
         "yaxis": "y"
        },
        {
         "alignmentgroup": "True",
         "bingroup": "x",
         "histfunc": "sum",
         "hovertemplate": "Grade=4<br>School=SA<br>Group=%{x}<br>sum of Score=%{y}<extra></extra>",
         "legendgroup": "4, SA",
         "marker": {
          "color": "#F6F926",
          "pattern": {
           "shape": "x"
          }
         },
         "name": "4, SA",
         "offsetgroup": "4, SA",
         "orientation": "v",
         "showlegend": true,
         "texttemplate": "%{value}",
         "type": "histogram",
         "x": [
          "Fall",
          "Spring"
         ],
         "xaxis": "x",
         "y": [
          51.416,
          55.191
         ],
         "yaxis": "y"
        },
        {
         "alignmentgroup": "True",
         "bingroup": "x",
         "histfunc": "sum",
         "hovertemplate": "Grade=5<br>School=CA<br>Group=%{x}<br>sum of Score=%{y}<extra></extra>",
         "legendgroup": "5, CA",
         "marker": {
          "color": "#FF9616",
          "pattern": {
           "shape": ""
          }
         },
         "name": "5, CA",
         "offsetgroup": "5, CA",
         "orientation": "v",
         "showlegend": true,
         "texttemplate": "%{value}",
         "type": "histogram",
         "x": [
          "Fall",
          "Spring"
         ],
         "xaxis": "x",
         "y": [
          48.909,
          57.924
         ],
         "yaxis": "y"
        },
        {
         "alignmentgroup": "True",
         "bingroup": "x",
         "histfunc": "sum",
         "hovertemplate": "Grade=5<br>School=DA<br>Group=%{x}<br>sum of Score=%{y}<extra></extra>",
         "legendgroup": "5, DA",
         "marker": {
          "color": "#FF9616",
          "pattern": {
           "shape": "/"
          }
         },
         "name": "5, DA",
         "offsetgroup": "5, DA",
         "orientation": "v",
         "showlegend": true,
         "texttemplate": "%{value}",
         "type": "histogram",
         "x": [
          "Fall",
          "Spring"
         ],
         "xaxis": "x",
         "y": [
          49.64,
          48.213
         ],
         "yaxis": "y"
        },
        {
         "alignmentgroup": "True",
         "bingroup": "x",
         "histfunc": "sum",
         "hovertemplate": "Grade=5<br>School=HA<br>Group=%{x}<br>sum of Score=%{y}<extra></extra>",
         "legendgroup": "5, HA",
         "marker": {
          "color": "#FF9616",
          "pattern": {
           "shape": "\\"
          }
         },
         "name": "5, HA",
         "offsetgroup": "5, HA",
         "orientation": "v",
         "showlegend": true,
         "texttemplate": "%{value}",
         "type": "histogram",
         "x": [
          "Fall",
          "Spring"
         ],
         "xaxis": "x",
         "y": [
          48.974,
          48.859
         ],
         "yaxis": "y"
        },
        {
         "alignmentgroup": "True",
         "bingroup": "x",
         "histfunc": "sum",
         "hovertemplate": "Grade=5<br>School=SA<br>Group=%{x}<br>sum of Score=%{y}<extra></extra>",
         "legendgroup": "5, SA",
         "marker": {
          "color": "#FF9616",
          "pattern": {
           "shape": "x"
          }
         },
         "name": "5, SA",
         "offsetgroup": "5, SA",
         "orientation": "v",
         "showlegend": true,
         "texttemplate": "%{value}",
         "type": "histogram",
         "x": [
          "Fall",
          "Spring"
         ],
         "xaxis": "x",
         "y": [
          49.603,
          57.603
         ],
         "yaxis": "y"
        },
        {
         "alignmentgroup": "True",
         "bingroup": "x",
         "histfunc": "sum",
         "hovertemplate": "Grade=6<br>School=CA<br>Group=%{x}<br>sum of Score=%{y}<extra></extra>",
         "legendgroup": "6, CA",
         "marker": {
          "color": "#479B55",
          "pattern": {
           "shape": ""
          }
         },
         "name": "6, CA",
         "offsetgroup": "6, CA",
         "orientation": "v",
         "showlegend": true,
         "texttemplate": "%{value}",
         "type": "histogram",
         "x": [
          "Fall",
          "Spring"
         ],
         "xaxis": "x",
         "y": [
          50.095,
          60.041
         ],
         "yaxis": "y"
        },
        {
         "alignmentgroup": "True",
         "bingroup": "x",
         "histfunc": "sum",
         "hovertemplate": "Grade=6<br>School=DA<br>Group=%{x}<br>sum of Score=%{y}<extra></extra>",
         "legendgroup": "6, DA",
         "marker": {
          "color": "#479B55",
          "pattern": {
           "shape": "/"
          }
         },
         "name": "6, DA",
         "offsetgroup": "6, DA",
         "orientation": "v",
         "showlegend": true,
         "texttemplate": "%{value}",
         "type": "histogram",
         "x": [
          "Fall",
          "Spring"
         ],
         "xaxis": "x",
         "y": [
          48.114,
          52.171
         ],
         "yaxis": "y"
        },
        {
         "alignmentgroup": "True",
         "bingroup": "x",
         "histfunc": "sum",
         "hovertemplate": "Grade=6<br>School=HA<br>Group=%{x}<br>sum of Score=%{y}<extra></extra>",
         "legendgroup": "6, HA",
         "marker": {
          "color": "#479B55",
          "pattern": {
           "shape": "\\"
          }
         },
         "name": "6, HA",
         "offsetgroup": "6, HA",
         "orientation": "v",
         "showlegend": true,
         "texttemplate": "%{value}",
         "type": "histogram",
         "x": [
          "Fall",
          "Spring"
         ],
         "xaxis": "x",
         "y": [
          51.468,
          49.544
         ],
         "yaxis": "y"
        },
        {
         "alignmentgroup": "True",
         "bingroup": "x",
         "histfunc": "sum",
         "hovertemplate": "Grade=6<br>School=SA<br>Group=%{x}<br>sum of Score=%{y}<extra></extra>",
         "legendgroup": "6, SA",
         "marker": {
          "color": "#479B55",
          "pattern": {
           "shape": "x"
          }
         },
         "name": "6, SA",
         "offsetgroup": "6, SA",
         "orientation": "v",
         "showlegend": true,
         "texttemplate": "%{value}",
         "type": "histogram",
         "x": [
          "Fall",
          "Spring"
         ],
         "xaxis": "x",
         "y": [
          50.671,
          59.129
         ],
         "yaxis": "y"
        },
        {
         "alignmentgroup": "True",
         "bingroup": "x",
         "histfunc": "sum",
         "hovertemplate": "Grade=7<br>School=CA<br>Group=%{x}<br>sum of Score=%{y}<extra></extra>",
         "legendgroup": "7, CA",
         "marker": {
          "color": "#EEA6FB",
          "pattern": {
           "shape": ""
          }
         },
         "name": "7, CA",
         "offsetgroup": "7, CA",
         "orientation": "v",
         "showlegend": true,
         "texttemplate": "%{value}",
         "type": "histogram",
         "x": [
          "Fall",
          "Spring"
         ],
         "xaxis": "x",
         "y": [
          49.292,
          57.908
         ],
         "yaxis": "y"
        },
        {
         "alignmentgroup": "True",
         "bingroup": "x",
         "histfunc": "sum",
         "hovertemplate": "Grade=7<br>School=DA<br>Group=%{x}<br>sum of Score=%{y}<extra></extra>",
         "legendgroup": "7, DA",
         "marker": {
          "color": "#EEA6FB",
          "pattern": {
           "shape": "/"
          }
         },
         "name": "7, DA",
         "offsetgroup": "7, DA",
         "orientation": "v",
         "showlegend": true,
         "texttemplate": "%{value}",
         "type": "histogram",
         "x": [
          "Fall",
          "Spring"
         ],
         "xaxis": "x",
         "y": [
          51.294,
          50.662
         ],
         "yaxis": "y"
        },
        {
         "alignmentgroup": "True",
         "bingroup": "x",
         "histfunc": "sum",
         "hovertemplate": "Grade=7<br>School=HA<br>Group=%{x}<br>sum of Score=%{y}<extra></extra>",
         "legendgroup": "7, HA",
         "marker": {
          "color": "#EEA6FB",
          "pattern": {
           "shape": "\\"
          }
         },
         "name": "7, HA",
         "offsetgroup": "7, HA",
         "orientation": "v",
         "showlegend": true,
         "texttemplate": "%{value}",
         "type": "histogram",
         "x": [
          "Fall",
          "Spring"
         ],
         "xaxis": "x",
         "y": [
          49.882,
          50.323
         ],
         "yaxis": "y"
        },
        {
         "alignmentgroup": "True",
         "bingroup": "x",
         "histfunc": "sum",
         "hovertemplate": "Grade=7<br>School=SA<br>Group=%{x}<br>sum of Score=%{y}<extra></extra>",
         "legendgroup": "7, SA",
         "marker": {
          "color": "#EEA6FB",
          "pattern": {
           "shape": "x"
          }
         },
         "name": "7, SA",
         "offsetgroup": "7, SA",
         "orientation": "v",
         "showlegend": true,
         "texttemplate": "%{value}",
         "type": "histogram",
         "x": [
          "Fall",
          "Spring"
         ],
         "xaxis": "x",
         "y": [
          47.472,
          58.069
         ],
         "yaxis": "y"
        },
        {
         "alignmentgroup": "True",
         "bingroup": "x",
         "histfunc": "sum",
         "hovertemplate": "Grade=8<br>School=CA<br>Group=%{x}<br>sum of Score=%{y}<extra></extra>",
         "legendgroup": "8, CA",
         "marker": {
          "color": "#DC587D",
          "pattern": {
           "shape": ""
          }
         },
         "name": "8, CA",
         "offsetgroup": "8, CA",
         "orientation": "v",
         "showlegend": true,
         "texttemplate": "%{value}",
         "type": "histogram",
         "x": [
          "Fall",
          "Spring"
         ],
         "xaxis": "x",
         "y": [
          49.067,
          60.067
         ],
         "yaxis": "y"
        },
        {
         "alignmentgroup": "True",
         "bingroup": "x",
         "histfunc": "sum",
         "hovertemplate": "Grade=8<br>School=DA<br>Group=%{x}<br>sum of Score=%{y}<extra></extra>",
         "legendgroup": "8, DA",
         "marker": {
          "color": "#DC587D",
          "pattern": {
           "shape": "/"
          }
         },
         "name": "8, DA",
         "offsetgroup": "8, DA",
         "orientation": "v",
         "showlegend": true,
         "texttemplate": "%{value}",
         "type": "histogram",
         "x": [
          "Fall",
          "Spring"
         ],
         "xaxis": "x",
         "y": [
          50.427,
          49.64
         ],
         "yaxis": "y"
        },
        {
         "alignmentgroup": "True",
         "bingroup": "x",
         "histfunc": "sum",
         "hovertemplate": "Grade=8<br>School=HA<br>Group=%{x}<br>sum of Score=%{y}<extra></extra>",
         "legendgroup": "8, HA",
         "marker": {
          "color": "#DC587D",
          "pattern": {
           "shape": "\\"
          }
         },
         "name": "8, HA",
         "offsetgroup": "8, HA",
         "orientation": "v",
         "showlegend": true,
         "texttemplate": "%{value}",
         "type": "histogram",
         "x": [
          "Fall",
          "Spring"
         ],
         "xaxis": "x",
         "y": [
          50.034,
          49.517
         ],
         "yaxis": "y"
        },
        {
         "alignmentgroup": "True",
         "bingroup": "x",
         "histfunc": "sum",
         "hovertemplate": "Grade=8<br>School=SA<br>Group=%{x}<br>sum of Score=%{y}<extra></extra>",
         "legendgroup": "8, SA",
         "marker": {
          "color": "#DC587D",
          "pattern": {
           "shape": "x"
          }
         },
         "name": "8, SA",
         "offsetgroup": "8, SA",
         "orientation": "v",
         "showlegend": true,
         "texttemplate": "%{value}",
         "type": "histogram",
         "x": [
          "Fall",
          "Spring"
         ],
         "xaxis": "x",
         "y": [
          49.147,
          59.368
         ],
         "yaxis": "y"
        },
        {
         "alignmentgroup": "True",
         "bingroup": "x",
         "histfunc": "sum",
         "hovertemplate": "Grade=9<br>School=CA<br>Group=%{x}<br>sum of Score=%{y}<extra></extra>",
         "legendgroup": "9, CA",
         "marker": {
          "color": "#D626FF",
          "pattern": {
           "shape": ""
          }
         },
         "name": "9, CA",
         "offsetgroup": "9, CA",
         "orientation": "v",
         "showlegend": true,
         "texttemplate": "%{value}",
         "type": "histogram",
         "x": [
          "Fall",
          "Spring"
         ],
         "xaxis": "x",
         "y": [
          48.961,
          59.286
         ],
         "yaxis": "y"
        },
        {
         "alignmentgroup": "True",
         "bingroup": "x",
         "histfunc": "sum",
         "hovertemplate": "Grade=9<br>School=DA<br>Group=%{x}<br>sum of Score=%{y}<extra></extra>",
         "legendgroup": "9, DA",
         "marker": {
          "color": "#D626FF",
          "pattern": {
           "shape": "/"
          }
         },
         "name": "9, DA",
         "offsetgroup": "9, DA",
         "orientation": "v",
         "showlegend": true,
         "texttemplate": "%{value}",
         "type": "histogram",
         "x": [
          "Fall",
          "Spring"
         ],
         "xaxis": "x",
         "y": [
          48.016,
          50.27
         ],
         "yaxis": "y"
        },
        {
         "alignmentgroup": "True",
         "bingroup": "x",
         "histfunc": "sum",
         "hovertemplate": "Grade=9<br>School=HA<br>Group=%{x}<br>sum of Score=%{y}<extra></extra>",
         "legendgroup": "9, HA",
         "marker": {
          "color": "#D626FF",
          "pattern": {
           "shape": "\\"
          }
         },
         "name": "9, HA",
         "offsetgroup": "9, HA",
         "orientation": "v",
         "showlegend": true,
         "texttemplate": "%{value}",
         "type": "histogram",
         "x": [
          "Fall",
          "Spring"
         ],
         "xaxis": "x",
         "y": [
          52.452,
          51.667
         ],
         "yaxis": "y"
        },
        {
         "alignmentgroup": "True",
         "bingroup": "x",
         "histfunc": "sum",
         "hovertemplate": "Grade=9<br>School=SA<br>Group=%{x}<br>sum of Score=%{y}<extra></extra>",
         "legendgroup": "9, SA",
         "marker": {
          "color": "#D626FF",
          "pattern": {
           "shape": "x"
          }
         },
         "name": "9, SA",
         "offsetgroup": "9, SA",
         "orientation": "v",
         "showlegend": true,
         "texttemplate": "%{value}",
         "type": "histogram",
         "x": [
          "Fall",
          "Spring"
         ],
         "xaxis": "x",
         "y": [
          50.042,
          58.704
         ],
         "yaxis": "y"
        },
        {
         "alignmentgroup": "True",
         "bingroup": "x",
         "histfunc": "sum",
         "hovertemplate": "Grade=K<br>School=CA<br>Group=%{x}<br>sum of Score=%{y}<extra></extra>",
         "legendgroup": "K, CA",
         "marker": {
          "color": "#6E899C",
          "pattern": {
           "shape": ""
          }
         },
         "name": "K, CA",
         "offsetgroup": "K, CA",
         "orientation": "v",
         "showlegend": true,
         "texttemplate": "%{value}",
         "type": "histogram",
         "x": [
          "Fall",
          "Spring"
         ],
         "xaxis": "x",
         "y": [
          49.244,
          58.033
         ],
         "yaxis": "y"
        },
        {
         "alignmentgroup": "True",
         "bingroup": "x",
         "histfunc": "sum",
         "hovertemplate": "Grade=K<br>School=DA<br>Group=%{x}<br>sum of Score=%{y}<extra></extra>",
         "legendgroup": "K, DA",
         "marker": {
          "color": "#6E899C",
          "pattern": {
           "shape": "/"
          }
         },
         "name": "K, DA",
         "offsetgroup": "K, DA",
         "orientation": "v",
         "showlegend": true,
         "texttemplate": "%{value}",
         "type": "histogram",
         "x": [
          "Fall",
          "Spring"
         ],
         "xaxis": "x",
         "y": [
          48.817,
          49.237
         ],
         "yaxis": "y"
        },
        {
         "alignmentgroup": "True",
         "bingroup": "x",
         "histfunc": "sum",
         "hovertemplate": "Grade=K<br>School=HA<br>Group=%{x}<br>sum of Score=%{y}<extra></extra>",
         "legendgroup": "K, HA",
         "marker": {
          "color": "#6E899C",
          "pattern": {
           "shape": "\\"
          }
         },
         "name": "K, HA",
         "offsetgroup": "K, HA",
         "orientation": "v",
         "showlegend": true,
         "texttemplate": "%{value}",
         "type": "histogram",
         "x": [
          "Fall",
          "Spring"
         ],
         "xaxis": "x",
         "y": [
          50.297,
          49.649
         ],
         "yaxis": "y"
        },
        {
         "alignmentgroup": "True",
         "bingroup": "x",
         "histfunc": "sum",
         "hovertemplate": "Grade=K<br>School=SA<br>Group=%{x}<br>sum of Score=%{y}<extra></extra>",
         "legendgroup": "K, SA",
         "marker": {
          "color": "#6E899C",
          "pattern": {
           "shape": "x"
          }
         },
         "name": "K, SA",
         "offsetgroup": "K, SA",
         "orientation": "v",
         "showlegend": true,
         "texttemplate": "%{value}",
         "type": "histogram",
         "x": [
          "Fall",
          "Spring"
         ],
         "xaxis": "x",
         "y": [
          48.861,
          57.597
         ],
         "yaxis": "y"
        }
       ],
       "layout": {
        "barmode": "group",
        "legend": {
         "title": {
          "text": "Grade, School"
         },
         "tracegroupgap": 0
        },
        "margin": {
         "t": 60
        },
        "template": {
         "data": {
          "bar": [
           {
            "error_x": {
             "color": "#2a3f5f"
            },
            "error_y": {
             "color": "#2a3f5f"
            },
            "marker": {
             "line": {
              "color": "#E5ECF6",
              "width": 0.5
             },
             "pattern": {
              "fillmode": "overlay",
              "size": 10,
              "solidity": 0.2
             }
            },
            "type": "bar"
           }
          ],
          "barpolar": [
           {
            "marker": {
             "line": {
              "color": "#E5ECF6",
              "width": 0.5
             },
             "pattern": {
              "fillmode": "overlay",
              "size": 10,
              "solidity": 0.2
             }
            },
            "type": "barpolar"
           }
          ],
          "carpet": [
           {
            "aaxis": {
             "endlinecolor": "#2a3f5f",
             "gridcolor": "white",
             "linecolor": "white",
             "minorgridcolor": "white",
             "startlinecolor": "#2a3f5f"
            },
            "baxis": {
             "endlinecolor": "#2a3f5f",
             "gridcolor": "white",
             "linecolor": "white",
             "minorgridcolor": "white",
             "startlinecolor": "#2a3f5f"
            },
            "type": "carpet"
           }
          ],
          "choropleth": [
           {
            "colorbar": {
             "outlinewidth": 0,
             "ticks": ""
            },
            "type": "choropleth"
           }
          ],
          "contour": [
           {
            "colorbar": {
             "outlinewidth": 0,
             "ticks": ""
            },
            "colorscale": [
             [
              0,
              "#0d0887"
             ],
             [
              0.1111111111111111,
              "#46039f"
             ],
             [
              0.2222222222222222,
              "#7201a8"
             ],
             [
              0.3333333333333333,
              "#9c179e"
             ],
             [
              0.4444444444444444,
              "#bd3786"
             ],
             [
              0.5555555555555556,
              "#d8576b"
             ],
             [
              0.6666666666666666,
              "#ed7953"
             ],
             [
              0.7777777777777778,
              "#fb9f3a"
             ],
             [
              0.8888888888888888,
              "#fdca26"
             ],
             [
              1,
              "#f0f921"
             ]
            ],
            "type": "contour"
           }
          ],
          "contourcarpet": [
           {
            "colorbar": {
             "outlinewidth": 0,
             "ticks": ""
            },
            "type": "contourcarpet"
           }
          ],
          "heatmap": [
           {
            "colorbar": {
             "outlinewidth": 0,
             "ticks": ""
            },
            "colorscale": [
             [
              0,
              "#0d0887"
             ],
             [
              0.1111111111111111,
              "#46039f"
             ],
             [
              0.2222222222222222,
              "#7201a8"
             ],
             [
              0.3333333333333333,
              "#9c179e"
             ],
             [
              0.4444444444444444,
              "#bd3786"
             ],
             [
              0.5555555555555556,
              "#d8576b"
             ],
             [
              0.6666666666666666,
              "#ed7953"
             ],
             [
              0.7777777777777778,
              "#fb9f3a"
             ],
             [
              0.8888888888888888,
              "#fdca26"
             ],
             [
              1,
              "#f0f921"
             ]
            ],
            "type": "heatmap"
           }
          ],
          "heatmapgl": [
           {
            "colorbar": {
             "outlinewidth": 0,
             "ticks": ""
            },
            "colorscale": [
             [
              0,
              "#0d0887"
             ],
             [
              0.1111111111111111,
              "#46039f"
             ],
             [
              0.2222222222222222,
              "#7201a8"
             ],
             [
              0.3333333333333333,
              "#9c179e"
             ],
             [
              0.4444444444444444,
              "#bd3786"
             ],
             [
              0.5555555555555556,
              "#d8576b"
             ],
             [
              0.6666666666666666,
              "#ed7953"
             ],
             [
              0.7777777777777778,
              "#fb9f3a"
             ],
             [
              0.8888888888888888,
              "#fdca26"
             ],
             [
              1,
              "#f0f921"
             ]
            ],
            "type": "heatmapgl"
           }
          ],
          "histogram": [
           {
            "marker": {
             "pattern": {
              "fillmode": "overlay",
              "size": 10,
              "solidity": 0.2
             }
            },
            "type": "histogram"
           }
          ],
          "histogram2d": [
           {
            "colorbar": {
             "outlinewidth": 0,
             "ticks": ""
            },
            "colorscale": [
             [
              0,
              "#0d0887"
             ],
             [
              0.1111111111111111,
              "#46039f"
             ],
             [
              0.2222222222222222,
              "#7201a8"
             ],
             [
              0.3333333333333333,
              "#9c179e"
             ],
             [
              0.4444444444444444,
              "#bd3786"
             ],
             [
              0.5555555555555556,
              "#d8576b"
             ],
             [
              0.6666666666666666,
              "#ed7953"
             ],
             [
              0.7777777777777778,
              "#fb9f3a"
             ],
             [
              0.8888888888888888,
              "#fdca26"
             ],
             [
              1,
              "#f0f921"
             ]
            ],
            "type": "histogram2d"
           }
          ],
          "histogram2dcontour": [
           {
            "colorbar": {
             "outlinewidth": 0,
             "ticks": ""
            },
            "colorscale": [
             [
              0,
              "#0d0887"
             ],
             [
              0.1111111111111111,
              "#46039f"
             ],
             [
              0.2222222222222222,
              "#7201a8"
             ],
             [
              0.3333333333333333,
              "#9c179e"
             ],
             [
              0.4444444444444444,
              "#bd3786"
             ],
             [
              0.5555555555555556,
              "#d8576b"
             ],
             [
              0.6666666666666666,
              "#ed7953"
             ],
             [
              0.7777777777777778,
              "#fb9f3a"
             ],
             [
              0.8888888888888888,
              "#fdca26"
             ],
             [
              1,
              "#f0f921"
             ]
            ],
            "type": "histogram2dcontour"
           }
          ],
          "mesh3d": [
           {
            "colorbar": {
             "outlinewidth": 0,
             "ticks": ""
            },
            "type": "mesh3d"
           }
          ],
          "parcoords": [
           {
            "line": {
             "colorbar": {
              "outlinewidth": 0,
              "ticks": ""
             }
            },
            "type": "parcoords"
           }
          ],
          "pie": [
           {
            "automargin": true,
            "type": "pie"
           }
          ],
          "scatter": [
           {
            "fillpattern": {
             "fillmode": "overlay",
             "size": 10,
             "solidity": 0.2
            },
            "type": "scatter"
           }
          ],
          "scatter3d": [
           {
            "line": {
             "colorbar": {
              "outlinewidth": 0,
              "ticks": ""
             }
            },
            "marker": {
             "colorbar": {
              "outlinewidth": 0,
              "ticks": ""
             }
            },
            "type": "scatter3d"
           }
          ],
          "scattercarpet": [
           {
            "marker": {
             "colorbar": {
              "outlinewidth": 0,
              "ticks": ""
             }
            },
            "type": "scattercarpet"
           }
          ],
          "scattergeo": [
           {
            "marker": {
             "colorbar": {
              "outlinewidth": 0,
              "ticks": ""
             }
            },
            "type": "scattergeo"
           }
          ],
          "scattergl": [
           {
            "marker": {
             "colorbar": {
              "outlinewidth": 0,
              "ticks": ""
             }
            },
            "type": "scattergl"
           }
          ],
          "scattermapbox": [
           {
            "marker": {
             "colorbar": {
              "outlinewidth": 0,
              "ticks": ""
             }
            },
            "type": "scattermapbox"
           }
          ],
          "scatterpolar": [
           {
            "marker": {
             "colorbar": {
              "outlinewidth": 0,
              "ticks": ""
             }
            },
            "type": "scatterpolar"
           }
          ],
          "scatterpolargl": [
           {
            "marker": {
             "colorbar": {
              "outlinewidth": 0,
              "ticks": ""
             }
            },
            "type": "scatterpolargl"
           }
          ],
          "scatterternary": [
           {
            "marker": {
             "colorbar": {
              "outlinewidth": 0,
              "ticks": ""
             }
            },
            "type": "scatterternary"
           }
          ],
          "surface": [
           {
            "colorbar": {
             "outlinewidth": 0,
             "ticks": ""
            },
            "colorscale": [
             [
              0,
              "#0d0887"
             ],
             [
              0.1111111111111111,
              "#46039f"
             ],
             [
              0.2222222222222222,
              "#7201a8"
             ],
             [
              0.3333333333333333,
              "#9c179e"
             ],
             [
              0.4444444444444444,
              "#bd3786"
             ],
             [
              0.5555555555555556,
              "#d8576b"
             ],
             [
              0.6666666666666666,
              "#ed7953"
             ],
             [
              0.7777777777777778,
              "#fb9f3a"
             ],
             [
              0.8888888888888888,
              "#fdca26"
             ],
             [
              1,
              "#f0f921"
             ]
            ],
            "type": "surface"
           }
          ],
          "table": [
           {
            "cells": {
             "fill": {
              "color": "#EBF0F8"
             },
             "line": {
              "color": "white"
             }
            },
            "header": {
             "fill": {
              "color": "#C8D4E3"
             },
             "line": {
              "color": "white"
             }
            },
            "type": "table"
           }
          ]
         },
         "layout": {
          "annotationdefaults": {
           "arrowcolor": "#2a3f5f",
           "arrowhead": 0,
           "arrowwidth": 1
          },
          "autotypenumbers": "strict",
          "coloraxis": {
           "colorbar": {
            "outlinewidth": 0,
            "ticks": ""
           }
          },
          "colorscale": {
           "diverging": [
            [
             0,
             "#8e0152"
            ],
            [
             0.1,
             "#c51b7d"
            ],
            [
             0.2,
             "#de77ae"
            ],
            [
             0.3,
             "#f1b6da"
            ],
            [
             0.4,
             "#fde0ef"
            ],
            [
             0.5,
             "#f7f7f7"
            ],
            [
             0.6,
             "#e6f5d0"
            ],
            [
             0.7,
             "#b8e186"
            ],
            [
             0.8,
             "#7fbc41"
            ],
            [
             0.9,
             "#4d9221"
            ],
            [
             1,
             "#276419"
            ]
           ],
           "sequential": [
            [
             0,
             "#0d0887"
            ],
            [
             0.1111111111111111,
             "#46039f"
            ],
            [
             0.2222222222222222,
             "#7201a8"
            ],
            [
             0.3333333333333333,
             "#9c179e"
            ],
            [
             0.4444444444444444,
             "#bd3786"
            ],
            [
             0.5555555555555556,
             "#d8576b"
            ],
            [
             0.6666666666666666,
             "#ed7953"
            ],
            [
             0.7777777777777778,
             "#fb9f3a"
            ],
            [
             0.8888888888888888,
             "#fdca26"
            ],
            [
             1,
             "#f0f921"
            ]
           ],
           "sequentialminus": [
            [
             0,
             "#0d0887"
            ],
            [
             0.1111111111111111,
             "#46039f"
            ],
            [
             0.2222222222222222,
             "#7201a8"
            ],
            [
             0.3333333333333333,
             "#9c179e"
            ],
            [
             0.4444444444444444,
             "#bd3786"
            ],
            [
             0.5555555555555556,
             "#d8576b"
            ],
            [
             0.6666666666666666,
             "#ed7953"
            ],
            [
             0.7777777777777778,
             "#fb9f3a"
            ],
            [
             0.8888888888888888,
             "#fdca26"
            ],
            [
             1,
             "#f0f921"
            ]
           ]
          },
          "colorway": [
           "#636efa",
           "#EF553B",
           "#00cc96",
           "#ab63fa",
           "#FFA15A",
           "#19d3f3",
           "#FF6692",
           "#B6E880",
           "#FF97FF",
           "#FECB52"
          ],
          "font": {
           "color": "#2a3f5f"
          },
          "geo": {
           "bgcolor": "white",
           "lakecolor": "white",
           "landcolor": "#E5ECF6",
           "showlakes": true,
           "showland": true,
           "subunitcolor": "white"
          },
          "hoverlabel": {
           "align": "left"
          },
          "hovermode": "closest",
          "mapbox": {
           "style": "light"
          },
          "paper_bgcolor": "white",
          "plot_bgcolor": "#E5ECF6",
          "polar": {
           "angularaxis": {
            "gridcolor": "white",
            "linecolor": "white",
            "ticks": ""
           },
           "bgcolor": "#E5ECF6",
           "radialaxis": {
            "gridcolor": "white",
            "linecolor": "white",
            "ticks": ""
           }
          },
          "scene": {
           "xaxis": {
            "backgroundcolor": "#E5ECF6",
            "gridcolor": "white",
            "gridwidth": 2,
            "linecolor": "white",
            "showbackground": true,
            "ticks": "",
            "zerolinecolor": "white"
           },
           "yaxis": {
            "backgroundcolor": "#E5ECF6",
            "gridcolor": "white",
            "gridwidth": 2,
            "linecolor": "white",
            "showbackground": true,
            "ticks": "",
            "zerolinecolor": "white"
           },
           "zaxis": {
            "backgroundcolor": "#E5ECF6",
            "gridcolor": "white",
            "gridwidth": 2,
            "linecolor": "white",
            "showbackground": true,
            "ticks": "",
            "zerolinecolor": "white"
           }
          },
          "shapedefaults": {
           "line": {
            "color": "#2a3f5f"
           }
          },
          "ternary": {
           "aaxis": {
            "gridcolor": "white",
            "linecolor": "white",
            "ticks": ""
           },
           "baxis": {
            "gridcolor": "white",
            "linecolor": "white",
            "ticks": ""
           },
           "bgcolor": "#E5ECF6",
           "caxis": {
            "gridcolor": "white",
            "linecolor": "white",
            "ticks": ""
           }
          },
          "title": {
           "x": 0.05
          },
          "xaxis": {
           "automargin": true,
           "gridcolor": "white",
           "linecolor": "white",
           "ticks": "",
           "title": {
            "standoff": 15
           },
           "zerolinecolor": "white",
           "zerolinewidth": 2
          },
          "yaxis": {
           "automargin": true,
           "gridcolor": "white",
           "linecolor": "white",
           "ticks": "",
           "title": {
            "standoff": 15
           },
           "zerolinecolor": "white",
           "zerolinewidth": 2
          }
         }
        },
        "xaxis": {
         "anchor": "y",
         "domain": [
          0,
          1
         ],
         "title": {
          "text": "Group"
         }
        },
        "yaxis": {
         "anchor": "x",
         "domain": [
          0,
          1
         ],
         "title": {
          "text": "sum of Score"
         }
        }
       }
      }
     },
     "metadata": {},
     "output_type": "display_data"
    }
   ],
   "source": [
    "test_results_bar_chart, test_results_table = create_interactive_bar_chart_and_table(data_source_pivot = df_results_pivot, y_value = 'Score',\n",
    "comparison_values = ['Period', 'Grade', 'School'], color_value = 'Grade', color_discrete_map = None, barmode = 'group',\n",
    "color_discrete_sequence = px.colors.qualitative.Light24, secondary_differentiator = 'School', text_auto = True, label_round_precision = 3, table_round_precision = 3)\n",
    "\n",
    "test_results_bar_chart"
   ]
  },
  {
   "cell_type": "code",
   "execution_count": 13,
   "metadata": {},
   "outputs": [],
   "source": [
    "# test_results_table"
   ]
  },
  {
   "cell_type": "code",
   "execution_count": 17,
   "metadata": {},
   "outputs": [
    {
     "data": {
      "application/vnd.plotly.v1+json": {
       "config": {
        "plotlyServerURL": "https://plot.ly"
       },
       "data": [
        {
         "hovertemplate": "Grade=1<br>School=CA<br>Group=%{x}<br>Score=%{text}<extra></extra>",
         "legendgroup": "1, CA",
         "line": {
          "color": "#FD3216",
          "dash": "solid"
         },
         "marker": {
          "symbol": "circle"
         },
         "mode": "markers+lines+text",
         "name": "1, CA",
         "orientation": "v",
         "showlegend": true,
         "text": [
          49.45,
          59.08
         ],
         "type": "scatter",
         "x": [
          "Fall",
          "Spring"
         ],
         "xaxis": "x",
         "y": [
          49.45,
          59.08
         ],
         "yaxis": "y"
        },
        {
         "hovertemplate": "Grade=1<br>School=DA<br>Group=%{x}<br>Score=%{text}<extra></extra>",
         "legendgroup": "1, DA",
         "line": {
          "color": "#FD3216",
          "dash": "dot"
         },
         "marker": {
          "symbol": "circle"
         },
         "mode": "markers+lines+text",
         "name": "1, DA",
         "orientation": "v",
         "showlegend": true,
         "text": [
          50.64,
          47.8
         ],
         "type": "scatter",
         "x": [
          "Fall",
          "Spring"
         ],
         "xaxis": "x",
         "y": [
          50.64,
          47.8
         ],
         "yaxis": "y"
        },
        {
         "hovertemplate": "Grade=1<br>School=HA<br>Group=%{x}<br>Score=%{text}<extra></extra>",
         "legendgroup": "1, HA",
         "line": {
          "color": "#FD3216",
          "dash": "dash"
         },
         "marker": {
          "symbol": "circle"
         },
         "mode": "markers+lines+text",
         "name": "1, HA",
         "orientation": "v",
         "showlegend": true,
         "text": [
          50.62,
          50.49
         ],
         "type": "scatter",
         "x": [
          "Fall",
          "Spring"
         ],
         "xaxis": "x",
         "y": [
          50.62,
          50.49
         ],
         "yaxis": "y"
        },
        {
         "hovertemplate": "Grade=1<br>School=SA<br>Group=%{x}<br>Score=%{text}<extra></extra>",
         "legendgroup": "1, SA",
         "line": {
          "color": "#FD3216",
          "dash": "longdash"
         },
         "marker": {
          "symbol": "circle"
         },
         "mode": "markers+lines+text",
         "name": "1, SA",
         "orientation": "v",
         "showlegend": true,
         "text": [
          51.34,
          60.53
         ],
         "type": "scatter",
         "x": [
          "Fall",
          "Spring"
         ],
         "xaxis": "x",
         "y": [
          51.34,
          60.53
         ],
         "yaxis": "y"
        },
        {
         "hovertemplate": "Grade=10<br>School=CA<br>Group=%{x}<br>Score=%{text}<extra></extra>",
         "legendgroup": "10, CA",
         "line": {
          "color": "#00FE35",
          "dash": "solid"
         },
         "marker": {
          "symbol": "circle"
         },
         "mode": "markers+lines+text",
         "name": "10, CA",
         "orientation": "v",
         "showlegend": true,
         "text": [
          50.27,
          61.23
         ],
         "type": "scatter",
         "x": [
          "Fall",
          "Spring"
         ],
         "xaxis": "x",
         "y": [
          50.27,
          61.23
         ],
         "yaxis": "y"
        },
        {
         "hovertemplate": "Grade=10<br>School=DA<br>Group=%{x}<br>Score=%{text}<extra></extra>",
         "legendgroup": "10, DA",
         "line": {
          "color": "#00FE35",
          "dash": "dot"
         },
         "marker": {
          "symbol": "circle"
         },
         "mode": "markers+lines+text",
         "name": "10, DA",
         "orientation": "v",
         "showlegend": true,
         "text": [
          48.73,
          49.12
         ],
         "type": "scatter",
         "x": [
          "Fall",
          "Spring"
         ],
         "xaxis": "x",
         "y": [
          48.73,
          49.12
         ],
         "yaxis": "y"
        },
        {
         "hovertemplate": "Grade=10<br>School=HA<br>Group=%{x}<br>Score=%{text}<extra></extra>",
         "legendgroup": "10, HA",
         "line": {
          "color": "#00FE35",
          "dash": "dash"
         },
         "marker": {
          "symbol": "circle"
         },
         "mode": "markers+lines+text",
         "name": "10, HA",
         "orientation": "v",
         "showlegend": true,
         "text": [
          52.34,
          50.3
         ],
         "type": "scatter",
         "x": [
          "Fall",
          "Spring"
         ],
         "xaxis": "x",
         "y": [
          52.34,
          50.3
         ],
         "yaxis": "y"
        },
        {
         "hovertemplate": "Grade=10<br>School=SA<br>Group=%{x}<br>Score=%{text}<extra></extra>",
         "legendgroup": "10, SA",
         "line": {
          "color": "#00FE35",
          "dash": "longdash"
         },
         "marker": {
          "symbol": "circle"
         },
         "mode": "markers+lines+text",
         "name": "10, SA",
         "orientation": "v",
         "showlegend": true,
         "text": [
          48.29,
          58.57
         ],
         "type": "scatter",
         "x": [
          "Fall",
          "Spring"
         ],
         "xaxis": "x",
         "y": [
          48.29,
          58.57
         ],
         "yaxis": "y"
        },
        {
         "hovertemplate": "Grade=11<br>School=CA<br>Group=%{x}<br>Score=%{text}<extra></extra>",
         "legendgroup": "11, CA",
         "line": {
          "color": "#6A76FC",
          "dash": "solid"
         },
         "marker": {
          "symbol": "circle"
         },
         "mode": "markers+lines+text",
         "name": "11, CA",
         "orientation": "v",
         "showlegend": true,
         "text": [
          48.99,
          55.99
         ],
         "type": "scatter",
         "x": [
          "Fall",
          "Spring"
         ],
         "xaxis": "x",
         "y": [
          48.99,
          55.99
         ],
         "yaxis": "y"
        },
        {
         "hovertemplate": "Grade=11<br>School=DA<br>Group=%{x}<br>Score=%{text}<extra></extra>",
         "legendgroup": "11, DA",
         "line": {
          "color": "#6A76FC",
          "dash": "dot"
         },
         "marker": {
          "symbol": "circle"
         },
         "mode": "markers+lines+text",
         "name": "11, DA",
         "orientation": "v",
         "showlegend": true,
         "text": [
          49.76,
          48.17
         ],
         "type": "scatter",
         "x": [
          "Fall",
          "Spring"
         ],
         "xaxis": "x",
         "y": [
          49.76,
          48.17
         ],
         "yaxis": "y"
        },
        {
         "hovertemplate": "Grade=11<br>School=HA<br>Group=%{x}<br>Score=%{text}<extra></extra>",
         "legendgroup": "11, HA",
         "line": {
          "color": "#6A76FC",
          "dash": "dash"
         },
         "marker": {
          "symbol": "circle"
         },
         "mode": "markers+lines+text",
         "name": "11, HA",
         "orientation": "v",
         "showlegend": true,
         "text": [
          48.42,
          44.45
         ],
         "type": "scatter",
         "x": [
          "Fall",
          "Spring"
         ],
         "xaxis": "x",
         "y": [
          48.42,
          44.45
         ],
         "yaxis": "y"
        },
        {
         "hovertemplate": "Grade=11<br>School=SA<br>Group=%{x}<br>Score=%{text}<extra></extra>",
         "legendgroup": "11, SA",
         "line": {
          "color": "#6A76FC",
          "dash": "longdash"
         },
         "marker": {
          "symbol": "circle"
         },
         "mode": "markers+lines+text",
         "name": "11, SA",
         "orientation": "v",
         "showlegend": true,
         "text": [
          51.12,
          57.47
         ],
         "type": "scatter",
         "x": [
          "Fall",
          "Spring"
         ],
         "xaxis": "x",
         "y": [
          51.12,
          57.47
         ],
         "yaxis": "y"
        },
        {
         "hovertemplate": "Grade=12<br>School=CA<br>Group=%{x}<br>Score=%{text}<extra></extra>",
         "legendgroup": "12, CA",
         "line": {
          "color": "#FED4C4",
          "dash": "solid"
         },
         "marker": {
          "symbol": "circle"
         },
         "mode": "markers+lines+text",
         "name": "12, CA",
         "orientation": "v",
         "showlegend": true,
         "text": [
          51.64,
          58.76
         ],
         "type": "scatter",
         "x": [
          "Fall",
          "Spring"
         ],
         "xaxis": "x",
         "y": [
          51.64,
          58.76
         ],
         "yaxis": "y"
        },
        {
         "hovertemplate": "Grade=12<br>School=DA<br>Group=%{x}<br>Score=%{text}<extra></extra>",
         "legendgroup": "12, DA",
         "line": {
          "color": "#FED4C4",
          "dash": "dot"
         },
         "marker": {
          "symbol": "circle"
         },
         "mode": "markers+lines+text",
         "name": "12, DA",
         "orientation": "v",
         "showlegend": true,
         "text": [
          50.36,
          48.17
         ],
         "type": "scatter",
         "x": [
          "Fall",
          "Spring"
         ],
         "xaxis": "x",
         "y": [
          50.36,
          48.17
         ],
         "yaxis": "y"
        },
        {
         "hovertemplate": "Grade=12<br>School=HA<br>Group=%{x}<br>Score=%{text}<extra></extra>",
         "legendgroup": "12, HA",
         "line": {
          "color": "#FED4C4",
          "dash": "dash"
         },
         "marker": {
          "symbol": "circle"
         },
         "mode": "markers+lines+text",
         "name": "12, HA",
         "orientation": "v",
         "showlegend": true,
         "text": [
          50.83,
          46.09
         ],
         "type": "scatter",
         "x": [
          "Fall",
          "Spring"
         ],
         "xaxis": "x",
         "y": [
          50.83,
          46.09
         ],
         "yaxis": "y"
        },
        {
         "hovertemplate": "Grade=12<br>School=SA<br>Group=%{x}<br>Score=%{text}<extra></extra>",
         "legendgroup": "12, SA",
         "line": {
          "color": "#FED4C4",
          "dash": "longdash"
         },
         "marker": {
          "symbol": "circle"
         },
         "mode": "markers+lines+text",
         "name": "12, SA",
         "orientation": "v",
         "showlegend": true,
         "text": [
          52.11,
          57.93
         ],
         "type": "scatter",
         "x": [
          "Fall",
          "Spring"
         ],
         "xaxis": "x",
         "y": [
          52.11,
          57.93
         ],
         "yaxis": "y"
        },
        {
         "hovertemplate": "Grade=2<br>School=CA<br>Group=%{x}<br>Score=%{text}<extra></extra>",
         "legendgroup": "2, CA",
         "line": {
          "color": "#FE00CE",
          "dash": "solid"
         },
         "marker": {
          "symbol": "circle"
         },
         "mode": "markers+lines+text",
         "name": "2, CA",
         "orientation": "v",
         "showlegend": true,
         "text": [
          51.2,
          56.37
         ],
         "type": "scatter",
         "x": [
          "Fall",
          "Spring"
         ],
         "xaxis": "x",
         "y": [
          51.2,
          56.37
         ],
         "yaxis": "y"
        },
        {
         "hovertemplate": "Grade=2<br>School=DA<br>Group=%{x}<br>Score=%{text}<extra></extra>",
         "legendgroup": "2, DA",
         "line": {
          "color": "#FE00CE",
          "dash": "dot"
         },
         "marker": {
          "symbol": "circle"
         },
         "mode": "markers+lines+text",
         "name": "2, DA",
         "orientation": "v",
         "showlegend": true,
         "text": [
          51.03,
          47.47
         ],
         "type": "scatter",
         "x": [
          "Fall",
          "Spring"
         ],
         "xaxis": "x",
         "y": [
          51.03,
          47.47
         ],
         "yaxis": "y"
        },
        {
         "hovertemplate": "Grade=2<br>School=HA<br>Group=%{x}<br>Score=%{text}<extra></extra>",
         "legendgroup": "2, HA",
         "line": {
          "color": "#FE00CE",
          "dash": "dash"
         },
         "marker": {
          "symbol": "circle"
         },
         "mode": "markers+lines+text",
         "name": "2, HA",
         "orientation": "v",
         "showlegend": true,
         "text": [
          46.54,
          48.77
         ],
         "type": "scatter",
         "x": [
          "Fall",
          "Spring"
         ],
         "xaxis": "x",
         "y": [
          46.54,
          48.77
         ],
         "yaxis": "y"
        },
        {
         "hovertemplate": "Grade=2<br>School=SA<br>Group=%{x}<br>Score=%{text}<extra></extra>",
         "legendgroup": "2, SA",
         "line": {
          "color": "#FE00CE",
          "dash": "longdash"
         },
         "marker": {
          "symbol": "circle"
         },
         "mode": "markers+lines+text",
         "name": "2, SA",
         "orientation": "v",
         "showlegend": true,
         "text": [
          50.69,
          55.71
         ],
         "type": "scatter",
         "x": [
          "Fall",
          "Spring"
         ],
         "xaxis": "x",
         "y": [
          50.69,
          55.71
         ],
         "yaxis": "y"
        },
        {
         "hovertemplate": "Grade=3<br>School=CA<br>Group=%{x}<br>Score=%{text}<extra></extra>",
         "legendgroup": "3, CA",
         "line": {
          "color": "#0DF9FF",
          "dash": "solid"
         },
         "marker": {
          "symbol": "circle"
         },
         "mode": "markers+lines+text",
         "name": "3, CA",
         "orientation": "v",
         "showlegend": true,
         "text": [
          47.82,
          59.48
         ],
         "type": "scatter",
         "x": [
          "Fall",
          "Spring"
         ],
         "xaxis": "x",
         "y": [
          47.82,
          59.48
         ],
         "yaxis": "y"
        },
        {
         "hovertemplate": "Grade=3<br>School=DA<br>Group=%{x}<br>Score=%{text}<extra></extra>",
         "legendgroup": "3, DA",
         "line": {
          "color": "#0DF9FF",
          "dash": "dot"
         },
         "marker": {
          "symbol": "circle"
         },
         "mode": "markers+lines+text",
         "name": "3, DA",
         "orientation": "v",
         "showlegend": true,
         "text": [
          49.35,
          52.13
         ],
         "type": "scatter",
         "x": [
          "Fall",
          "Spring"
         ],
         "xaxis": "x",
         "y": [
          49.35,
          52.13
         ],
         "yaxis": "y"
        },
        {
         "hovertemplate": "Grade=3<br>School=HA<br>Group=%{x}<br>Score=%{text}<extra></extra>",
         "legendgroup": "3, HA",
         "line": {
          "color": "#0DF9FF",
          "dash": "dash"
         },
         "marker": {
          "symbol": "circle"
         },
         "mode": "markers+lines+text",
         "name": "3, HA",
         "orientation": "v",
         "showlegend": true,
         "text": [
          50.37,
          50.07
         ],
         "type": "scatter",
         "x": [
          "Fall",
          "Spring"
         ],
         "xaxis": "x",
         "y": [
          50.37,
          50.07
         ],
         "yaxis": "y"
        },
        {
         "hovertemplate": "Grade=3<br>School=SA<br>Group=%{x}<br>Score=%{text}<extra></extra>",
         "legendgroup": "3, SA",
         "line": {
          "color": "#0DF9FF",
          "dash": "longdash"
         },
         "marker": {
          "symbol": "circle"
         },
         "mode": "markers+lines+text",
         "name": "3, SA",
         "orientation": "v",
         "showlegend": true,
         "text": [
          50.37,
          59.39
         ],
         "type": "scatter",
         "x": [
          "Fall",
          "Spring"
         ],
         "xaxis": "x",
         "y": [
          50.37,
          59.39
         ],
         "yaxis": "y"
        },
        {
         "hovertemplate": "Grade=4<br>School=CA<br>Group=%{x}<br>Score=%{text}<extra></extra>",
         "legendgroup": "4, CA",
         "line": {
          "color": "#F6F926",
          "dash": "solid"
         },
         "marker": {
          "symbol": "circle"
         },
         "mode": "markers+lines+text",
         "name": "4, CA",
         "orientation": "v",
         "showlegend": true,
         "text": [
          49.74,
          55.99
         ],
         "type": "scatter",
         "x": [
          "Fall",
          "Spring"
         ],
         "xaxis": "x",
         "y": [
          49.74,
          55.99
         ],
         "yaxis": "y"
        },
        {
         "hovertemplate": "Grade=4<br>School=DA<br>Group=%{x}<br>Score=%{text}<extra></extra>",
         "legendgroup": "4, DA",
         "line": {
          "color": "#F6F926",
          "dash": "dot"
         },
         "marker": {
          "symbol": "circle"
         },
         "mode": "markers+lines+text",
         "name": "4, DA",
         "orientation": "v",
         "showlegend": true,
         "text": [
          50.51,
          47.49
         ],
         "type": "scatter",
         "x": [
          "Fall",
          "Spring"
         ],
         "xaxis": "x",
         "y": [
          50.51,
          47.49
         ],
         "yaxis": "y"
        },
        {
         "hovertemplate": "Grade=4<br>School=HA<br>Group=%{x}<br>Score=%{text}<extra></extra>",
         "legendgroup": "4, HA",
         "line": {
          "color": "#F6F926",
          "dash": "dash"
         },
         "marker": {
          "symbol": "circle"
         },
         "mode": "markers+lines+text",
         "name": "4, HA",
         "orientation": "v",
         "showlegend": true,
         "text": [
          48.14,
          48.19
         ],
         "type": "scatter",
         "x": [
          "Fall",
          "Spring"
         ],
         "xaxis": "x",
         "y": [
          48.14,
          48.19
         ],
         "yaxis": "y"
        },
        {
         "hovertemplate": "Grade=4<br>School=SA<br>Group=%{x}<br>Score=%{text}<extra></extra>",
         "legendgroup": "4, SA",
         "line": {
          "color": "#F6F926",
          "dash": "longdash"
         },
         "marker": {
          "symbol": "circle"
         },
         "mode": "markers+lines+text",
         "name": "4, SA",
         "orientation": "v",
         "showlegend": true,
         "text": [
          51.42,
          55.19
         ],
         "type": "scatter",
         "x": [
          "Fall",
          "Spring"
         ],
         "xaxis": "x",
         "y": [
          51.42,
          55.19
         ],
         "yaxis": "y"
        },
        {
         "hovertemplate": "Grade=5<br>School=CA<br>Group=%{x}<br>Score=%{text}<extra></extra>",
         "legendgroup": "5, CA",
         "line": {
          "color": "#FF9616",
          "dash": "solid"
         },
         "marker": {
          "symbol": "circle"
         },
         "mode": "markers+lines+text",
         "name": "5, CA",
         "orientation": "v",
         "showlegend": true,
         "text": [
          48.91,
          57.92
         ],
         "type": "scatter",
         "x": [
          "Fall",
          "Spring"
         ],
         "xaxis": "x",
         "y": [
          48.91,
          57.92
         ],
         "yaxis": "y"
        },
        {
         "hovertemplate": "Grade=5<br>School=DA<br>Group=%{x}<br>Score=%{text}<extra></extra>",
         "legendgroup": "5, DA",
         "line": {
          "color": "#FF9616",
          "dash": "dot"
         },
         "marker": {
          "symbol": "circle"
         },
         "mode": "markers+lines+text",
         "name": "5, DA",
         "orientation": "v",
         "showlegend": true,
         "text": [
          49.64,
          48.21
         ],
         "type": "scatter",
         "x": [
          "Fall",
          "Spring"
         ],
         "xaxis": "x",
         "y": [
          49.64,
          48.21
         ],
         "yaxis": "y"
        },
        {
         "hovertemplate": "Grade=5<br>School=HA<br>Group=%{x}<br>Score=%{text}<extra></extra>",
         "legendgroup": "5, HA",
         "line": {
          "color": "#FF9616",
          "dash": "dash"
         },
         "marker": {
          "symbol": "circle"
         },
         "mode": "markers+lines+text",
         "name": "5, HA",
         "orientation": "v",
         "showlegend": true,
         "text": [
          48.97,
          48.86
         ],
         "type": "scatter",
         "x": [
          "Fall",
          "Spring"
         ],
         "xaxis": "x",
         "y": [
          48.97,
          48.86
         ],
         "yaxis": "y"
        },
        {
         "hovertemplate": "Grade=5<br>School=SA<br>Group=%{x}<br>Score=%{text}<extra></extra>",
         "legendgroup": "5, SA",
         "line": {
          "color": "#FF9616",
          "dash": "longdash"
         },
         "marker": {
          "symbol": "circle"
         },
         "mode": "markers+lines+text",
         "name": "5, SA",
         "orientation": "v",
         "showlegend": true,
         "text": [
          49.6,
          57.6
         ],
         "type": "scatter",
         "x": [
          "Fall",
          "Spring"
         ],
         "xaxis": "x",
         "y": [
          49.6,
          57.6
         ],
         "yaxis": "y"
        },
        {
         "hovertemplate": "Grade=6<br>School=CA<br>Group=%{x}<br>Score=%{text}<extra></extra>",
         "legendgroup": "6, CA",
         "line": {
          "color": "#479B55",
          "dash": "solid"
         },
         "marker": {
          "symbol": "circle"
         },
         "mode": "markers+lines+text",
         "name": "6, CA",
         "orientation": "v",
         "showlegend": true,
         "text": [
          50.09,
          60.04
         ],
         "type": "scatter",
         "x": [
          "Fall",
          "Spring"
         ],
         "xaxis": "x",
         "y": [
          50.09,
          60.04
         ],
         "yaxis": "y"
        },
        {
         "hovertemplate": "Grade=6<br>School=DA<br>Group=%{x}<br>Score=%{text}<extra></extra>",
         "legendgroup": "6, DA",
         "line": {
          "color": "#479B55",
          "dash": "dot"
         },
         "marker": {
          "symbol": "circle"
         },
         "mode": "markers+lines+text",
         "name": "6, DA",
         "orientation": "v",
         "showlegend": true,
         "text": [
          48.11,
          52.17
         ],
         "type": "scatter",
         "x": [
          "Fall",
          "Spring"
         ],
         "xaxis": "x",
         "y": [
          48.11,
          52.17
         ],
         "yaxis": "y"
        },
        {
         "hovertemplate": "Grade=6<br>School=HA<br>Group=%{x}<br>Score=%{text}<extra></extra>",
         "legendgroup": "6, HA",
         "line": {
          "color": "#479B55",
          "dash": "dash"
         },
         "marker": {
          "symbol": "circle"
         },
         "mode": "markers+lines+text",
         "name": "6, HA",
         "orientation": "v",
         "showlegend": true,
         "text": [
          51.47,
          49.54
         ],
         "type": "scatter",
         "x": [
          "Fall",
          "Spring"
         ],
         "xaxis": "x",
         "y": [
          51.47,
          49.54
         ],
         "yaxis": "y"
        },
        {
         "hovertemplate": "Grade=6<br>School=SA<br>Group=%{x}<br>Score=%{text}<extra></extra>",
         "legendgroup": "6, SA",
         "line": {
          "color": "#479B55",
          "dash": "longdash"
         },
         "marker": {
          "symbol": "circle"
         },
         "mode": "markers+lines+text",
         "name": "6, SA",
         "orientation": "v",
         "showlegend": true,
         "text": [
          50.67,
          59.13
         ],
         "type": "scatter",
         "x": [
          "Fall",
          "Spring"
         ],
         "xaxis": "x",
         "y": [
          50.67,
          59.13
         ],
         "yaxis": "y"
        },
        {
         "hovertemplate": "Grade=7<br>School=CA<br>Group=%{x}<br>Score=%{text}<extra></extra>",
         "legendgroup": "7, CA",
         "line": {
          "color": "#EEA6FB",
          "dash": "solid"
         },
         "marker": {
          "symbol": "circle"
         },
         "mode": "markers+lines+text",
         "name": "7, CA",
         "orientation": "v",
         "showlegend": true,
         "text": [
          49.29,
          57.91
         ],
         "type": "scatter",
         "x": [
          "Fall",
          "Spring"
         ],
         "xaxis": "x",
         "y": [
          49.29,
          57.91
         ],
         "yaxis": "y"
        },
        {
         "hovertemplate": "Grade=7<br>School=DA<br>Group=%{x}<br>Score=%{text}<extra></extra>",
         "legendgroup": "7, DA",
         "line": {
          "color": "#EEA6FB",
          "dash": "dot"
         },
         "marker": {
          "symbol": "circle"
         },
         "mode": "markers+lines+text",
         "name": "7, DA",
         "orientation": "v",
         "showlegend": true,
         "text": [
          51.29,
          50.66
         ],
         "type": "scatter",
         "x": [
          "Fall",
          "Spring"
         ],
         "xaxis": "x",
         "y": [
          51.29,
          50.66
         ],
         "yaxis": "y"
        },
        {
         "hovertemplate": "Grade=7<br>School=HA<br>Group=%{x}<br>Score=%{text}<extra></extra>",
         "legendgroup": "7, HA",
         "line": {
          "color": "#EEA6FB",
          "dash": "dash"
         },
         "marker": {
          "symbol": "circle"
         },
         "mode": "markers+lines+text",
         "name": "7, HA",
         "orientation": "v",
         "showlegend": true,
         "text": [
          49.88,
          50.32
         ],
         "type": "scatter",
         "x": [
          "Fall",
          "Spring"
         ],
         "xaxis": "x",
         "y": [
          49.88,
          50.32
         ],
         "yaxis": "y"
        },
        {
         "hovertemplate": "Grade=7<br>School=SA<br>Group=%{x}<br>Score=%{text}<extra></extra>",
         "legendgroup": "7, SA",
         "line": {
          "color": "#EEA6FB",
          "dash": "longdash"
         },
         "marker": {
          "symbol": "circle"
         },
         "mode": "markers+lines+text",
         "name": "7, SA",
         "orientation": "v",
         "showlegend": true,
         "text": [
          47.47,
          58.07
         ],
         "type": "scatter",
         "x": [
          "Fall",
          "Spring"
         ],
         "xaxis": "x",
         "y": [
          47.47,
          58.07
         ],
         "yaxis": "y"
        },
        {
         "hovertemplate": "Grade=8<br>School=CA<br>Group=%{x}<br>Score=%{text}<extra></extra>",
         "legendgroup": "8, CA",
         "line": {
          "color": "#DC587D",
          "dash": "solid"
         },
         "marker": {
          "symbol": "circle"
         },
         "mode": "markers+lines+text",
         "name": "8, CA",
         "orientation": "v",
         "showlegend": true,
         "text": [
          49.07,
          60.07
         ],
         "type": "scatter",
         "x": [
          "Fall",
          "Spring"
         ],
         "xaxis": "x",
         "y": [
          49.07,
          60.07
         ],
         "yaxis": "y"
        },
        {
         "hovertemplate": "Grade=8<br>School=DA<br>Group=%{x}<br>Score=%{text}<extra></extra>",
         "legendgroup": "8, DA",
         "line": {
          "color": "#DC587D",
          "dash": "dot"
         },
         "marker": {
          "symbol": "circle"
         },
         "mode": "markers+lines+text",
         "name": "8, DA",
         "orientation": "v",
         "showlegend": true,
         "text": [
          50.43,
          49.64
         ],
         "type": "scatter",
         "x": [
          "Fall",
          "Spring"
         ],
         "xaxis": "x",
         "y": [
          50.43,
          49.64
         ],
         "yaxis": "y"
        },
        {
         "hovertemplate": "Grade=8<br>School=HA<br>Group=%{x}<br>Score=%{text}<extra></extra>",
         "legendgroup": "8, HA",
         "line": {
          "color": "#DC587D",
          "dash": "dash"
         },
         "marker": {
          "symbol": "circle"
         },
         "mode": "markers+lines+text",
         "name": "8, HA",
         "orientation": "v",
         "showlegend": true,
         "text": [
          50.03,
          49.52
         ],
         "type": "scatter",
         "x": [
          "Fall",
          "Spring"
         ],
         "xaxis": "x",
         "y": [
          50.03,
          49.52
         ],
         "yaxis": "y"
        },
        {
         "hovertemplate": "Grade=8<br>School=SA<br>Group=%{x}<br>Score=%{text}<extra></extra>",
         "legendgroup": "8, SA",
         "line": {
          "color": "#DC587D",
          "dash": "longdash"
         },
         "marker": {
          "symbol": "circle"
         },
         "mode": "markers+lines+text",
         "name": "8, SA",
         "orientation": "v",
         "showlegend": true,
         "text": [
          49.15,
          59.37
         ],
         "type": "scatter",
         "x": [
          "Fall",
          "Spring"
         ],
         "xaxis": "x",
         "y": [
          49.15,
          59.37
         ],
         "yaxis": "y"
        },
        {
         "hovertemplate": "Grade=9<br>School=CA<br>Group=%{x}<br>Score=%{text}<extra></extra>",
         "legendgroup": "9, CA",
         "line": {
          "color": "#D626FF",
          "dash": "solid"
         },
         "marker": {
          "symbol": "circle"
         },
         "mode": "markers+lines+text",
         "name": "9, CA",
         "orientation": "v",
         "showlegend": true,
         "text": [
          48.96,
          59.29
         ],
         "type": "scatter",
         "x": [
          "Fall",
          "Spring"
         ],
         "xaxis": "x",
         "y": [
          48.96,
          59.29
         ],
         "yaxis": "y"
        },
        {
         "hovertemplate": "Grade=9<br>School=DA<br>Group=%{x}<br>Score=%{text}<extra></extra>",
         "legendgroup": "9, DA",
         "line": {
          "color": "#D626FF",
          "dash": "dot"
         },
         "marker": {
          "symbol": "circle"
         },
         "mode": "markers+lines+text",
         "name": "9, DA",
         "orientation": "v",
         "showlegend": true,
         "text": [
          48.02,
          50.27
         ],
         "type": "scatter",
         "x": [
          "Fall",
          "Spring"
         ],
         "xaxis": "x",
         "y": [
          48.02,
          50.27
         ],
         "yaxis": "y"
        },
        {
         "hovertemplate": "Grade=9<br>School=HA<br>Group=%{x}<br>Score=%{text}<extra></extra>",
         "legendgroup": "9, HA",
         "line": {
          "color": "#D626FF",
          "dash": "dash"
         },
         "marker": {
          "symbol": "circle"
         },
         "mode": "markers+lines+text",
         "name": "9, HA",
         "orientation": "v",
         "showlegend": true,
         "text": [
          52.45,
          51.67
         ],
         "type": "scatter",
         "x": [
          "Fall",
          "Spring"
         ],
         "xaxis": "x",
         "y": [
          52.45,
          51.67
         ],
         "yaxis": "y"
        },
        {
         "hovertemplate": "Grade=9<br>School=SA<br>Group=%{x}<br>Score=%{text}<extra></extra>",
         "legendgroup": "9, SA",
         "line": {
          "color": "#D626FF",
          "dash": "longdash"
         },
         "marker": {
          "symbol": "circle"
         },
         "mode": "markers+lines+text",
         "name": "9, SA",
         "orientation": "v",
         "showlegend": true,
         "text": [
          50.04,
          58.7
         ],
         "type": "scatter",
         "x": [
          "Fall",
          "Spring"
         ],
         "xaxis": "x",
         "y": [
          50.04,
          58.7
         ],
         "yaxis": "y"
        },
        {
         "hovertemplate": "Grade=K<br>School=CA<br>Group=%{x}<br>Score=%{text}<extra></extra>",
         "legendgroup": "K, CA",
         "line": {
          "color": "#6E899C",
          "dash": "solid"
         },
         "marker": {
          "symbol": "circle"
         },
         "mode": "markers+lines+text",
         "name": "K, CA",
         "orientation": "v",
         "showlegend": true,
         "text": [
          49.24,
          58.03
         ],
         "type": "scatter",
         "x": [
          "Fall",
          "Spring"
         ],
         "xaxis": "x",
         "y": [
          49.24,
          58.03
         ],
         "yaxis": "y"
        },
        {
         "hovertemplate": "Grade=K<br>School=DA<br>Group=%{x}<br>Score=%{text}<extra></extra>",
         "legendgroup": "K, DA",
         "line": {
          "color": "#6E899C",
          "dash": "dot"
         },
         "marker": {
          "symbol": "circle"
         },
         "mode": "markers+lines+text",
         "name": "K, DA",
         "orientation": "v",
         "showlegend": true,
         "text": [
          48.82,
          49.24
         ],
         "type": "scatter",
         "x": [
          "Fall",
          "Spring"
         ],
         "xaxis": "x",
         "y": [
          48.82,
          49.24
         ],
         "yaxis": "y"
        },
        {
         "hovertemplate": "Grade=K<br>School=HA<br>Group=%{x}<br>Score=%{text}<extra></extra>",
         "legendgroup": "K, HA",
         "line": {
          "color": "#6E899C",
          "dash": "dash"
         },
         "marker": {
          "symbol": "circle"
         },
         "mode": "markers+lines+text",
         "name": "K, HA",
         "orientation": "v",
         "showlegend": true,
         "text": [
          50.3,
          49.65
         ],
         "type": "scatter",
         "x": [
          "Fall",
          "Spring"
         ],
         "xaxis": "x",
         "y": [
          50.3,
          49.65
         ],
         "yaxis": "y"
        },
        {
         "hovertemplate": "Grade=K<br>School=SA<br>Group=%{x}<br>Score=%{text}<extra></extra>",
         "legendgroup": "K, SA",
         "line": {
          "color": "#6E899C",
          "dash": "longdash"
         },
         "marker": {
          "symbol": "circle"
         },
         "mode": "markers+lines+text",
         "name": "K, SA",
         "orientation": "v",
         "showlegend": true,
         "text": [
          48.86,
          57.6
         ],
         "type": "scatter",
         "x": [
          "Fall",
          "Spring"
         ],
         "xaxis": "x",
         "y": [
          48.86,
          57.6
         ],
         "yaxis": "y"
        }
       ],
       "layout": {
        "legend": {
         "title": {
          "text": "Grade, School"
         },
         "tracegroupgap": 0
        },
        "margin": {
         "t": 60
        },
        "template": {
         "data": {
          "bar": [
           {
            "error_x": {
             "color": "#2a3f5f"
            },
            "error_y": {
             "color": "#2a3f5f"
            },
            "marker": {
             "line": {
              "color": "#E5ECF6",
              "width": 0.5
             },
             "pattern": {
              "fillmode": "overlay",
              "size": 10,
              "solidity": 0.2
             }
            },
            "type": "bar"
           }
          ],
          "barpolar": [
           {
            "marker": {
             "line": {
              "color": "#E5ECF6",
              "width": 0.5
             },
             "pattern": {
              "fillmode": "overlay",
              "size": 10,
              "solidity": 0.2
             }
            },
            "type": "barpolar"
           }
          ],
          "carpet": [
           {
            "aaxis": {
             "endlinecolor": "#2a3f5f",
             "gridcolor": "white",
             "linecolor": "white",
             "minorgridcolor": "white",
             "startlinecolor": "#2a3f5f"
            },
            "baxis": {
             "endlinecolor": "#2a3f5f",
             "gridcolor": "white",
             "linecolor": "white",
             "minorgridcolor": "white",
             "startlinecolor": "#2a3f5f"
            },
            "type": "carpet"
           }
          ],
          "choropleth": [
           {
            "colorbar": {
             "outlinewidth": 0,
             "ticks": ""
            },
            "type": "choropleth"
           }
          ],
          "contour": [
           {
            "colorbar": {
             "outlinewidth": 0,
             "ticks": ""
            },
            "colorscale": [
             [
              0,
              "#0d0887"
             ],
             [
              0.1111111111111111,
              "#46039f"
             ],
             [
              0.2222222222222222,
              "#7201a8"
             ],
             [
              0.3333333333333333,
              "#9c179e"
             ],
             [
              0.4444444444444444,
              "#bd3786"
             ],
             [
              0.5555555555555556,
              "#d8576b"
             ],
             [
              0.6666666666666666,
              "#ed7953"
             ],
             [
              0.7777777777777778,
              "#fb9f3a"
             ],
             [
              0.8888888888888888,
              "#fdca26"
             ],
             [
              1,
              "#f0f921"
             ]
            ],
            "type": "contour"
           }
          ],
          "contourcarpet": [
           {
            "colorbar": {
             "outlinewidth": 0,
             "ticks": ""
            },
            "type": "contourcarpet"
           }
          ],
          "heatmap": [
           {
            "colorbar": {
             "outlinewidth": 0,
             "ticks": ""
            },
            "colorscale": [
             [
              0,
              "#0d0887"
             ],
             [
              0.1111111111111111,
              "#46039f"
             ],
             [
              0.2222222222222222,
              "#7201a8"
             ],
             [
              0.3333333333333333,
              "#9c179e"
             ],
             [
              0.4444444444444444,
              "#bd3786"
             ],
             [
              0.5555555555555556,
              "#d8576b"
             ],
             [
              0.6666666666666666,
              "#ed7953"
             ],
             [
              0.7777777777777778,
              "#fb9f3a"
             ],
             [
              0.8888888888888888,
              "#fdca26"
             ],
             [
              1,
              "#f0f921"
             ]
            ],
            "type": "heatmap"
           }
          ],
          "heatmapgl": [
           {
            "colorbar": {
             "outlinewidth": 0,
             "ticks": ""
            },
            "colorscale": [
             [
              0,
              "#0d0887"
             ],
             [
              0.1111111111111111,
              "#46039f"
             ],
             [
              0.2222222222222222,
              "#7201a8"
             ],
             [
              0.3333333333333333,
              "#9c179e"
             ],
             [
              0.4444444444444444,
              "#bd3786"
             ],
             [
              0.5555555555555556,
              "#d8576b"
             ],
             [
              0.6666666666666666,
              "#ed7953"
             ],
             [
              0.7777777777777778,
              "#fb9f3a"
             ],
             [
              0.8888888888888888,
              "#fdca26"
             ],
             [
              1,
              "#f0f921"
             ]
            ],
            "type": "heatmapgl"
           }
          ],
          "histogram": [
           {
            "marker": {
             "pattern": {
              "fillmode": "overlay",
              "size": 10,
              "solidity": 0.2
             }
            },
            "type": "histogram"
           }
          ],
          "histogram2d": [
           {
            "colorbar": {
             "outlinewidth": 0,
             "ticks": ""
            },
            "colorscale": [
             [
              0,
              "#0d0887"
             ],
             [
              0.1111111111111111,
              "#46039f"
             ],
             [
              0.2222222222222222,
              "#7201a8"
             ],
             [
              0.3333333333333333,
              "#9c179e"
             ],
             [
              0.4444444444444444,
              "#bd3786"
             ],
             [
              0.5555555555555556,
              "#d8576b"
             ],
             [
              0.6666666666666666,
              "#ed7953"
             ],
             [
              0.7777777777777778,
              "#fb9f3a"
             ],
             [
              0.8888888888888888,
              "#fdca26"
             ],
             [
              1,
              "#f0f921"
             ]
            ],
            "type": "histogram2d"
           }
          ],
          "histogram2dcontour": [
           {
            "colorbar": {
             "outlinewidth": 0,
             "ticks": ""
            },
            "colorscale": [
             [
              0,
              "#0d0887"
             ],
             [
              0.1111111111111111,
              "#46039f"
             ],
             [
              0.2222222222222222,
              "#7201a8"
             ],
             [
              0.3333333333333333,
              "#9c179e"
             ],
             [
              0.4444444444444444,
              "#bd3786"
             ],
             [
              0.5555555555555556,
              "#d8576b"
             ],
             [
              0.6666666666666666,
              "#ed7953"
             ],
             [
              0.7777777777777778,
              "#fb9f3a"
             ],
             [
              0.8888888888888888,
              "#fdca26"
             ],
             [
              1,
              "#f0f921"
             ]
            ],
            "type": "histogram2dcontour"
           }
          ],
          "mesh3d": [
           {
            "colorbar": {
             "outlinewidth": 0,
             "ticks": ""
            },
            "type": "mesh3d"
           }
          ],
          "parcoords": [
           {
            "line": {
             "colorbar": {
              "outlinewidth": 0,
              "ticks": ""
             }
            },
            "type": "parcoords"
           }
          ],
          "pie": [
           {
            "automargin": true,
            "type": "pie"
           }
          ],
          "scatter": [
           {
            "fillpattern": {
             "fillmode": "overlay",
             "size": 10,
             "solidity": 0.2
            },
            "type": "scatter"
           }
          ],
          "scatter3d": [
           {
            "line": {
             "colorbar": {
              "outlinewidth": 0,
              "ticks": ""
             }
            },
            "marker": {
             "colorbar": {
              "outlinewidth": 0,
              "ticks": ""
             }
            },
            "type": "scatter3d"
           }
          ],
          "scattercarpet": [
           {
            "marker": {
             "colorbar": {
              "outlinewidth": 0,
              "ticks": ""
             }
            },
            "type": "scattercarpet"
           }
          ],
          "scattergeo": [
           {
            "marker": {
             "colorbar": {
              "outlinewidth": 0,
              "ticks": ""
             }
            },
            "type": "scattergeo"
           }
          ],
          "scattergl": [
           {
            "marker": {
             "colorbar": {
              "outlinewidth": 0,
              "ticks": ""
             }
            },
            "type": "scattergl"
           }
          ],
          "scattermapbox": [
           {
            "marker": {
             "colorbar": {
              "outlinewidth": 0,
              "ticks": ""
             }
            },
            "type": "scattermapbox"
           }
          ],
          "scatterpolar": [
           {
            "marker": {
             "colorbar": {
              "outlinewidth": 0,
              "ticks": ""
             }
            },
            "type": "scatterpolar"
           }
          ],
          "scatterpolargl": [
           {
            "marker": {
             "colorbar": {
              "outlinewidth": 0,
              "ticks": ""
             }
            },
            "type": "scatterpolargl"
           }
          ],
          "scatterternary": [
           {
            "marker": {
             "colorbar": {
              "outlinewidth": 0,
              "ticks": ""
             }
            },
            "type": "scatterternary"
           }
          ],
          "surface": [
           {
            "colorbar": {
             "outlinewidth": 0,
             "ticks": ""
            },
            "colorscale": [
             [
              0,
              "#0d0887"
             ],
             [
              0.1111111111111111,
              "#46039f"
             ],
             [
              0.2222222222222222,
              "#7201a8"
             ],
             [
              0.3333333333333333,
              "#9c179e"
             ],
             [
              0.4444444444444444,
              "#bd3786"
             ],
             [
              0.5555555555555556,
              "#d8576b"
             ],
             [
              0.6666666666666666,
              "#ed7953"
             ],
             [
              0.7777777777777778,
              "#fb9f3a"
             ],
             [
              0.8888888888888888,
              "#fdca26"
             ],
             [
              1,
              "#f0f921"
             ]
            ],
            "type": "surface"
           }
          ],
          "table": [
           {
            "cells": {
             "fill": {
              "color": "#EBF0F8"
             },
             "line": {
              "color": "white"
             }
            },
            "header": {
             "fill": {
              "color": "#C8D4E3"
             },
             "line": {
              "color": "white"
             }
            },
            "type": "table"
           }
          ]
         },
         "layout": {
          "annotationdefaults": {
           "arrowcolor": "#2a3f5f",
           "arrowhead": 0,
           "arrowwidth": 1
          },
          "autotypenumbers": "strict",
          "coloraxis": {
           "colorbar": {
            "outlinewidth": 0,
            "ticks": ""
           }
          },
          "colorscale": {
           "diverging": [
            [
             0,
             "#8e0152"
            ],
            [
             0.1,
             "#c51b7d"
            ],
            [
             0.2,
             "#de77ae"
            ],
            [
             0.3,
             "#f1b6da"
            ],
            [
             0.4,
             "#fde0ef"
            ],
            [
             0.5,
             "#f7f7f7"
            ],
            [
             0.6,
             "#e6f5d0"
            ],
            [
             0.7,
             "#b8e186"
            ],
            [
             0.8,
             "#7fbc41"
            ],
            [
             0.9,
             "#4d9221"
            ],
            [
             1,
             "#276419"
            ]
           ],
           "sequential": [
            [
             0,
             "#0d0887"
            ],
            [
             0.1111111111111111,
             "#46039f"
            ],
            [
             0.2222222222222222,
             "#7201a8"
            ],
            [
             0.3333333333333333,
             "#9c179e"
            ],
            [
             0.4444444444444444,
             "#bd3786"
            ],
            [
             0.5555555555555556,
             "#d8576b"
            ],
            [
             0.6666666666666666,
             "#ed7953"
            ],
            [
             0.7777777777777778,
             "#fb9f3a"
            ],
            [
             0.8888888888888888,
             "#fdca26"
            ],
            [
             1,
             "#f0f921"
            ]
           ],
           "sequentialminus": [
            [
             0,
             "#0d0887"
            ],
            [
             0.1111111111111111,
             "#46039f"
            ],
            [
             0.2222222222222222,
             "#7201a8"
            ],
            [
             0.3333333333333333,
             "#9c179e"
            ],
            [
             0.4444444444444444,
             "#bd3786"
            ],
            [
             0.5555555555555556,
             "#d8576b"
            ],
            [
             0.6666666666666666,
             "#ed7953"
            ],
            [
             0.7777777777777778,
             "#fb9f3a"
            ],
            [
             0.8888888888888888,
             "#fdca26"
            ],
            [
             1,
             "#f0f921"
            ]
           ]
          },
          "colorway": [
           "#636efa",
           "#EF553B",
           "#00cc96",
           "#ab63fa",
           "#FFA15A",
           "#19d3f3",
           "#FF6692",
           "#B6E880",
           "#FF97FF",
           "#FECB52"
          ],
          "font": {
           "color": "#2a3f5f"
          },
          "geo": {
           "bgcolor": "white",
           "lakecolor": "white",
           "landcolor": "#E5ECF6",
           "showlakes": true,
           "showland": true,
           "subunitcolor": "white"
          },
          "hoverlabel": {
           "align": "left"
          },
          "hovermode": "closest",
          "mapbox": {
           "style": "light"
          },
          "paper_bgcolor": "white",
          "plot_bgcolor": "#E5ECF6",
          "polar": {
           "angularaxis": {
            "gridcolor": "white",
            "linecolor": "white",
            "ticks": ""
           },
           "bgcolor": "#E5ECF6",
           "radialaxis": {
            "gridcolor": "white",
            "linecolor": "white",
            "ticks": ""
           }
          },
          "scene": {
           "xaxis": {
            "backgroundcolor": "#E5ECF6",
            "gridcolor": "white",
            "gridwidth": 2,
            "linecolor": "white",
            "showbackground": true,
            "ticks": "",
            "zerolinecolor": "white"
           },
           "yaxis": {
            "backgroundcolor": "#E5ECF6",
            "gridcolor": "white",
            "gridwidth": 2,
            "linecolor": "white",
            "showbackground": true,
            "ticks": "",
            "zerolinecolor": "white"
           },
           "zaxis": {
            "backgroundcolor": "#E5ECF6",
            "gridcolor": "white",
            "gridwidth": 2,
            "linecolor": "white",
            "showbackground": true,
            "ticks": "",
            "zerolinecolor": "white"
           }
          },
          "shapedefaults": {
           "line": {
            "color": "#2a3f5f"
           }
          },
          "ternary": {
           "aaxis": {
            "gridcolor": "white",
            "linecolor": "white",
            "ticks": ""
           },
           "baxis": {
            "gridcolor": "white",
            "linecolor": "white",
            "ticks": ""
           },
           "bgcolor": "#E5ECF6",
           "caxis": {
            "gridcolor": "white",
            "linecolor": "white",
            "ticks": ""
           }
          },
          "title": {
           "x": 0.05
          },
          "xaxis": {
           "automargin": true,
           "gridcolor": "white",
           "linecolor": "white",
           "ticks": "",
           "title": {
            "standoff": 15
           },
           "zerolinecolor": "white",
           "zerolinewidth": 2
          },
          "yaxis": {
           "automargin": true,
           "gridcolor": "white",
           "linecolor": "white",
           "ticks": "",
           "title": {
            "standoff": 15
           },
           "zerolinecolor": "white",
           "zerolinewidth": 2
          }
         }
        },
        "xaxis": {
         "anchor": "y",
         "domain": [
          0,
          1
         ],
         "title": {
          "text": "Group"
         }
        },
        "yaxis": {
         "anchor": "x",
         "domain": [
          0,
          1
         ],
         "title": {
          "text": "Score"
         }
        }
       }
      }
     },
     "metadata": {},
     "output_type": "display_data"
    }
   ],
   "source": [
    "output_chart, table_data = create_interactive_line_chart_and_table(data_source_pivot = df_results_pivot, y_value = 'Score',\n",
    "comparison_values = ['Period', 'Grade', 'School'], color_value = 'Grade', color_discrete_map = None, color_discrete_sequence = px.colors.qualitative.Light24, secondary_differentiator = 'School', label_round_precision = 2, table_round_precision = 2)\n",
    "\n",
    "output_chart\n"
   ]
  },
  {
   "cell_type": "code",
   "execution_count": 18,
   "metadata": {},
   "outputs": [
    {
     "data": {
      "text/plain": [
       "[{'Period': 'Fall',\n",
       "  'School': 'CA',\n",
       "  'Grade': '1',\n",
       "  'Score': 49.45,\n",
       "  'Group': 'Fall'},\n",
       " {'Period': 'Fall',\n",
       "  'School': 'CA',\n",
       "  'Grade': '10',\n",
       "  'Score': 50.27,\n",
       "  'Group': 'Fall'},\n",
       " {'Period': 'Fall',\n",
       "  'School': 'CA',\n",
       "  'Grade': '11',\n",
       "  'Score': 48.99,\n",
       "  'Group': 'Fall'},\n",
       " {'Period': 'Fall',\n",
       "  'School': 'CA',\n",
       "  'Grade': '12',\n",
       "  'Score': 51.64,\n",
       "  'Group': 'Fall'},\n",
       " {'Period': 'Fall',\n",
       "  'School': 'CA',\n",
       "  'Grade': '2',\n",
       "  'Score': 51.2,\n",
       "  'Group': 'Fall'},\n",
       " {'Period': 'Fall',\n",
       "  'School': 'CA',\n",
       "  'Grade': '3',\n",
       "  'Score': 47.82,\n",
       "  'Group': 'Fall'},\n",
       " {'Period': 'Fall',\n",
       "  'School': 'CA',\n",
       "  'Grade': '4',\n",
       "  'Score': 49.74,\n",
       "  'Group': 'Fall'},\n",
       " {'Period': 'Fall',\n",
       "  'School': 'CA',\n",
       "  'Grade': '5',\n",
       "  'Score': 48.91,\n",
       "  'Group': 'Fall'},\n",
       " {'Period': 'Fall',\n",
       "  'School': 'CA',\n",
       "  'Grade': '6',\n",
       "  'Score': 50.09,\n",
       "  'Group': 'Fall'},\n",
       " {'Period': 'Fall',\n",
       "  'School': 'CA',\n",
       "  'Grade': '7',\n",
       "  'Score': 49.29,\n",
       "  'Group': 'Fall'},\n",
       " {'Period': 'Fall',\n",
       "  'School': 'CA',\n",
       "  'Grade': '8',\n",
       "  'Score': 49.07,\n",
       "  'Group': 'Fall'},\n",
       " {'Period': 'Fall',\n",
       "  'School': 'CA',\n",
       "  'Grade': '9',\n",
       "  'Score': 48.96,\n",
       "  'Group': 'Fall'},\n",
       " {'Period': 'Fall',\n",
       "  'School': 'CA',\n",
       "  'Grade': 'K',\n",
       "  'Score': 49.24,\n",
       "  'Group': 'Fall'},\n",
       " {'Period': 'Fall',\n",
       "  'School': 'DA',\n",
       "  'Grade': '1',\n",
       "  'Score': 50.64,\n",
       "  'Group': 'Fall'},\n",
       " {'Period': 'Fall',\n",
       "  'School': 'DA',\n",
       "  'Grade': '10',\n",
       "  'Score': 48.73,\n",
       "  'Group': 'Fall'},\n",
       " {'Period': 'Fall',\n",
       "  'School': 'DA',\n",
       "  'Grade': '11',\n",
       "  'Score': 49.76,\n",
       "  'Group': 'Fall'},\n",
       " {'Period': 'Fall',\n",
       "  'School': 'DA',\n",
       "  'Grade': '12',\n",
       "  'Score': 50.36,\n",
       "  'Group': 'Fall'},\n",
       " {'Period': 'Fall',\n",
       "  'School': 'DA',\n",
       "  'Grade': '2',\n",
       "  'Score': 51.03,\n",
       "  'Group': 'Fall'},\n",
       " {'Period': 'Fall',\n",
       "  'School': 'DA',\n",
       "  'Grade': '3',\n",
       "  'Score': 49.35,\n",
       "  'Group': 'Fall'},\n",
       " {'Period': 'Fall',\n",
       "  'School': 'DA',\n",
       "  'Grade': '4',\n",
       "  'Score': 50.51,\n",
       "  'Group': 'Fall'},\n",
       " {'Period': 'Fall',\n",
       "  'School': 'DA',\n",
       "  'Grade': '5',\n",
       "  'Score': 49.64,\n",
       "  'Group': 'Fall'},\n",
       " {'Period': 'Fall',\n",
       "  'School': 'DA',\n",
       "  'Grade': '6',\n",
       "  'Score': 48.11,\n",
       "  'Group': 'Fall'},\n",
       " {'Period': 'Fall',\n",
       "  'School': 'DA',\n",
       "  'Grade': '7',\n",
       "  'Score': 51.29,\n",
       "  'Group': 'Fall'},\n",
       " {'Period': 'Fall',\n",
       "  'School': 'DA',\n",
       "  'Grade': '8',\n",
       "  'Score': 50.43,\n",
       "  'Group': 'Fall'},\n",
       " {'Period': 'Fall',\n",
       "  'School': 'DA',\n",
       "  'Grade': '9',\n",
       "  'Score': 48.02,\n",
       "  'Group': 'Fall'},\n",
       " {'Period': 'Fall',\n",
       "  'School': 'DA',\n",
       "  'Grade': 'K',\n",
       "  'Score': 48.82,\n",
       "  'Group': 'Fall'},\n",
       " {'Period': 'Fall',\n",
       "  'School': 'HA',\n",
       "  'Grade': '1',\n",
       "  'Score': 50.62,\n",
       "  'Group': 'Fall'},\n",
       " {'Period': 'Fall',\n",
       "  'School': 'HA',\n",
       "  'Grade': '10',\n",
       "  'Score': 52.34,\n",
       "  'Group': 'Fall'},\n",
       " {'Period': 'Fall',\n",
       "  'School': 'HA',\n",
       "  'Grade': '11',\n",
       "  'Score': 48.42,\n",
       "  'Group': 'Fall'},\n",
       " {'Period': 'Fall',\n",
       "  'School': 'HA',\n",
       "  'Grade': '12',\n",
       "  'Score': 50.83,\n",
       "  'Group': 'Fall'},\n",
       " {'Period': 'Fall',\n",
       "  'School': 'HA',\n",
       "  'Grade': '2',\n",
       "  'Score': 46.54,\n",
       "  'Group': 'Fall'},\n",
       " {'Period': 'Fall',\n",
       "  'School': 'HA',\n",
       "  'Grade': '3',\n",
       "  'Score': 50.37,\n",
       "  'Group': 'Fall'},\n",
       " {'Period': 'Fall',\n",
       "  'School': 'HA',\n",
       "  'Grade': '4',\n",
       "  'Score': 48.14,\n",
       "  'Group': 'Fall'},\n",
       " {'Period': 'Fall',\n",
       "  'School': 'HA',\n",
       "  'Grade': '5',\n",
       "  'Score': 48.97,\n",
       "  'Group': 'Fall'},\n",
       " {'Period': 'Fall',\n",
       "  'School': 'HA',\n",
       "  'Grade': '6',\n",
       "  'Score': 51.47,\n",
       "  'Group': 'Fall'},\n",
       " {'Period': 'Fall',\n",
       "  'School': 'HA',\n",
       "  'Grade': '7',\n",
       "  'Score': 49.88,\n",
       "  'Group': 'Fall'},\n",
       " {'Period': 'Fall',\n",
       "  'School': 'HA',\n",
       "  'Grade': '8',\n",
       "  'Score': 50.03,\n",
       "  'Group': 'Fall'},\n",
       " {'Period': 'Fall',\n",
       "  'School': 'HA',\n",
       "  'Grade': '9',\n",
       "  'Score': 52.45,\n",
       "  'Group': 'Fall'},\n",
       " {'Period': 'Fall',\n",
       "  'School': 'HA',\n",
       "  'Grade': 'K',\n",
       "  'Score': 50.3,\n",
       "  'Group': 'Fall'},\n",
       " {'Period': 'Fall',\n",
       "  'School': 'SA',\n",
       "  'Grade': '1',\n",
       "  'Score': 51.34,\n",
       "  'Group': 'Fall'},\n",
       " {'Period': 'Fall',\n",
       "  'School': 'SA',\n",
       "  'Grade': '10',\n",
       "  'Score': 48.29,\n",
       "  'Group': 'Fall'},\n",
       " {'Period': 'Fall',\n",
       "  'School': 'SA',\n",
       "  'Grade': '11',\n",
       "  'Score': 51.12,\n",
       "  'Group': 'Fall'},\n",
       " {'Period': 'Fall',\n",
       "  'School': 'SA',\n",
       "  'Grade': '12',\n",
       "  'Score': 52.11,\n",
       "  'Group': 'Fall'},\n",
       " {'Period': 'Fall',\n",
       "  'School': 'SA',\n",
       "  'Grade': '2',\n",
       "  'Score': 50.69,\n",
       "  'Group': 'Fall'},\n",
       " {'Period': 'Fall',\n",
       "  'School': 'SA',\n",
       "  'Grade': '3',\n",
       "  'Score': 50.37,\n",
       "  'Group': 'Fall'},\n",
       " {'Period': 'Fall',\n",
       "  'School': 'SA',\n",
       "  'Grade': '4',\n",
       "  'Score': 51.42,\n",
       "  'Group': 'Fall'},\n",
       " {'Period': 'Fall',\n",
       "  'School': 'SA',\n",
       "  'Grade': '5',\n",
       "  'Score': 49.6,\n",
       "  'Group': 'Fall'},\n",
       " {'Period': 'Fall',\n",
       "  'School': 'SA',\n",
       "  'Grade': '6',\n",
       "  'Score': 50.67,\n",
       "  'Group': 'Fall'},\n",
       " {'Period': 'Fall',\n",
       "  'School': 'SA',\n",
       "  'Grade': '7',\n",
       "  'Score': 47.47,\n",
       "  'Group': 'Fall'},\n",
       " {'Period': 'Fall',\n",
       "  'School': 'SA',\n",
       "  'Grade': '8',\n",
       "  'Score': 49.15,\n",
       "  'Group': 'Fall'},\n",
       " {'Period': 'Fall',\n",
       "  'School': 'SA',\n",
       "  'Grade': '9',\n",
       "  'Score': 50.04,\n",
       "  'Group': 'Fall'},\n",
       " {'Period': 'Fall',\n",
       "  'School': 'SA',\n",
       "  'Grade': 'K',\n",
       "  'Score': 48.86,\n",
       "  'Group': 'Fall'},\n",
       " {'Period': 'Spring',\n",
       "  'School': 'CA',\n",
       "  'Grade': '1',\n",
       "  'Score': 59.08,\n",
       "  'Group': 'Spring'},\n",
       " {'Period': 'Spring',\n",
       "  'School': 'CA',\n",
       "  'Grade': '10',\n",
       "  'Score': 61.23,\n",
       "  'Group': 'Spring'},\n",
       " {'Period': 'Spring',\n",
       "  'School': 'CA',\n",
       "  'Grade': '11',\n",
       "  'Score': 55.99,\n",
       "  'Group': 'Spring'},\n",
       " {'Period': 'Spring',\n",
       "  'School': 'CA',\n",
       "  'Grade': '12',\n",
       "  'Score': 58.76,\n",
       "  'Group': 'Spring'},\n",
       " {'Period': 'Spring',\n",
       "  'School': 'CA',\n",
       "  'Grade': '2',\n",
       "  'Score': 56.37,\n",
       "  'Group': 'Spring'},\n",
       " {'Period': 'Spring',\n",
       "  'School': 'CA',\n",
       "  'Grade': '3',\n",
       "  'Score': 59.48,\n",
       "  'Group': 'Spring'},\n",
       " {'Period': 'Spring',\n",
       "  'School': 'CA',\n",
       "  'Grade': '4',\n",
       "  'Score': 55.99,\n",
       "  'Group': 'Spring'},\n",
       " {'Period': 'Spring',\n",
       "  'School': 'CA',\n",
       "  'Grade': '5',\n",
       "  'Score': 57.92,\n",
       "  'Group': 'Spring'},\n",
       " {'Period': 'Spring',\n",
       "  'School': 'CA',\n",
       "  'Grade': '6',\n",
       "  'Score': 60.04,\n",
       "  'Group': 'Spring'},\n",
       " {'Period': 'Spring',\n",
       "  'School': 'CA',\n",
       "  'Grade': '7',\n",
       "  'Score': 57.91,\n",
       "  'Group': 'Spring'},\n",
       " {'Period': 'Spring',\n",
       "  'School': 'CA',\n",
       "  'Grade': '8',\n",
       "  'Score': 60.07,\n",
       "  'Group': 'Spring'},\n",
       " {'Period': 'Spring',\n",
       "  'School': 'CA',\n",
       "  'Grade': '9',\n",
       "  'Score': 59.29,\n",
       "  'Group': 'Spring'},\n",
       " {'Period': 'Spring',\n",
       "  'School': 'CA',\n",
       "  'Grade': 'K',\n",
       "  'Score': 58.03,\n",
       "  'Group': 'Spring'},\n",
       " {'Period': 'Spring',\n",
       "  'School': 'DA',\n",
       "  'Grade': '1',\n",
       "  'Score': 47.8,\n",
       "  'Group': 'Spring'},\n",
       " {'Period': 'Spring',\n",
       "  'School': 'DA',\n",
       "  'Grade': '10',\n",
       "  'Score': 49.12,\n",
       "  'Group': 'Spring'},\n",
       " {'Period': 'Spring',\n",
       "  'School': 'DA',\n",
       "  'Grade': '11',\n",
       "  'Score': 48.17,\n",
       "  'Group': 'Spring'},\n",
       " {'Period': 'Spring',\n",
       "  'School': 'DA',\n",
       "  'Grade': '12',\n",
       "  'Score': 48.17,\n",
       "  'Group': 'Spring'},\n",
       " {'Period': 'Spring',\n",
       "  'School': 'DA',\n",
       "  'Grade': '2',\n",
       "  'Score': 47.47,\n",
       "  'Group': 'Spring'},\n",
       " {'Period': 'Spring',\n",
       "  'School': 'DA',\n",
       "  'Grade': '3',\n",
       "  'Score': 52.13,\n",
       "  'Group': 'Spring'},\n",
       " {'Period': 'Spring',\n",
       "  'School': 'DA',\n",
       "  'Grade': '4',\n",
       "  'Score': 47.49,\n",
       "  'Group': 'Spring'},\n",
       " {'Period': 'Spring',\n",
       "  'School': 'DA',\n",
       "  'Grade': '5',\n",
       "  'Score': 48.21,\n",
       "  'Group': 'Spring'},\n",
       " {'Period': 'Spring',\n",
       "  'School': 'DA',\n",
       "  'Grade': '6',\n",
       "  'Score': 52.17,\n",
       "  'Group': 'Spring'},\n",
       " {'Period': 'Spring',\n",
       "  'School': 'DA',\n",
       "  'Grade': '7',\n",
       "  'Score': 50.66,\n",
       "  'Group': 'Spring'},\n",
       " {'Period': 'Spring',\n",
       "  'School': 'DA',\n",
       "  'Grade': '8',\n",
       "  'Score': 49.64,\n",
       "  'Group': 'Spring'},\n",
       " {'Period': 'Spring',\n",
       "  'School': 'DA',\n",
       "  'Grade': '9',\n",
       "  'Score': 50.27,\n",
       "  'Group': 'Spring'},\n",
       " {'Period': 'Spring',\n",
       "  'School': 'DA',\n",
       "  'Grade': 'K',\n",
       "  'Score': 49.24,\n",
       "  'Group': 'Spring'},\n",
       " {'Period': 'Spring',\n",
       "  'School': 'HA',\n",
       "  'Grade': '1',\n",
       "  'Score': 50.49,\n",
       "  'Group': 'Spring'},\n",
       " {'Period': 'Spring',\n",
       "  'School': 'HA',\n",
       "  'Grade': '10',\n",
       "  'Score': 50.3,\n",
       "  'Group': 'Spring'},\n",
       " {'Period': 'Spring',\n",
       "  'School': 'HA',\n",
       "  'Grade': '11',\n",
       "  'Score': 44.45,\n",
       "  'Group': 'Spring'},\n",
       " {'Period': 'Spring',\n",
       "  'School': 'HA',\n",
       "  'Grade': '12',\n",
       "  'Score': 46.09,\n",
       "  'Group': 'Spring'},\n",
       " {'Period': 'Spring',\n",
       "  'School': 'HA',\n",
       "  'Grade': '2',\n",
       "  'Score': 48.77,\n",
       "  'Group': 'Spring'},\n",
       " {'Period': 'Spring',\n",
       "  'School': 'HA',\n",
       "  'Grade': '3',\n",
       "  'Score': 50.07,\n",
       "  'Group': 'Spring'},\n",
       " {'Period': 'Spring',\n",
       "  'School': 'HA',\n",
       "  'Grade': '4',\n",
       "  'Score': 48.19,\n",
       "  'Group': 'Spring'},\n",
       " {'Period': 'Spring',\n",
       "  'School': 'HA',\n",
       "  'Grade': '5',\n",
       "  'Score': 48.86,\n",
       "  'Group': 'Spring'},\n",
       " {'Period': 'Spring',\n",
       "  'School': 'HA',\n",
       "  'Grade': '6',\n",
       "  'Score': 49.54,\n",
       "  'Group': 'Spring'},\n",
       " {'Period': 'Spring',\n",
       "  'School': 'HA',\n",
       "  'Grade': '7',\n",
       "  'Score': 50.32,\n",
       "  'Group': 'Spring'},\n",
       " {'Period': 'Spring',\n",
       "  'School': 'HA',\n",
       "  'Grade': '8',\n",
       "  'Score': 49.52,\n",
       "  'Group': 'Spring'},\n",
       " {'Period': 'Spring',\n",
       "  'School': 'HA',\n",
       "  'Grade': '9',\n",
       "  'Score': 51.67,\n",
       "  'Group': 'Spring'},\n",
       " {'Period': 'Spring',\n",
       "  'School': 'HA',\n",
       "  'Grade': 'K',\n",
       "  'Score': 49.65,\n",
       "  'Group': 'Spring'},\n",
       " {'Period': 'Spring',\n",
       "  'School': 'SA',\n",
       "  'Grade': '1',\n",
       "  'Score': 60.53,\n",
       "  'Group': 'Spring'},\n",
       " {'Period': 'Spring',\n",
       "  'School': 'SA',\n",
       "  'Grade': '10',\n",
       "  'Score': 58.57,\n",
       "  'Group': 'Spring'},\n",
       " {'Period': 'Spring',\n",
       "  'School': 'SA',\n",
       "  'Grade': '11',\n",
       "  'Score': 57.47,\n",
       "  'Group': 'Spring'},\n",
       " {'Period': 'Spring',\n",
       "  'School': 'SA',\n",
       "  'Grade': '12',\n",
       "  'Score': 57.93,\n",
       "  'Group': 'Spring'},\n",
       " {'Period': 'Spring',\n",
       "  'School': 'SA',\n",
       "  'Grade': '2',\n",
       "  'Score': 55.71,\n",
       "  'Group': 'Spring'},\n",
       " {'Period': 'Spring',\n",
       "  'School': 'SA',\n",
       "  'Grade': '3',\n",
       "  'Score': 59.39,\n",
       "  'Group': 'Spring'},\n",
       " {'Period': 'Spring',\n",
       "  'School': 'SA',\n",
       "  'Grade': '4',\n",
       "  'Score': 55.19,\n",
       "  'Group': 'Spring'},\n",
       " {'Period': 'Spring',\n",
       "  'School': 'SA',\n",
       "  'Grade': '5',\n",
       "  'Score': 57.6,\n",
       "  'Group': 'Spring'},\n",
       " {'Period': 'Spring',\n",
       "  'School': 'SA',\n",
       "  'Grade': '6',\n",
       "  'Score': 59.13,\n",
       "  'Group': 'Spring'},\n",
       " {'Period': 'Spring',\n",
       "  'School': 'SA',\n",
       "  'Grade': '7',\n",
       "  'Score': 58.07,\n",
       "  'Group': 'Spring'},\n",
       " {'Period': 'Spring',\n",
       "  'School': 'SA',\n",
       "  'Grade': '8',\n",
       "  'Score': 59.37,\n",
       "  'Group': 'Spring'},\n",
       " {'Period': 'Spring',\n",
       "  'School': 'SA',\n",
       "  'Grade': '9',\n",
       "  'Score': 58.7,\n",
       "  'Group': 'Spring'},\n",
       " {'Period': 'Spring',\n",
       "  'School': 'SA',\n",
       "  'Grade': 'K',\n",
       "  'Score': 57.6,\n",
       "  'Group': 'Spring'}]"
      ]
     },
     "execution_count": 18,
     "metadata": {},
     "output_type": "execute_result"
    }
   ],
   "source": [
    "# table_data"
   ]
  }
 ],
 "metadata": {
  "kernelspec": {
   "display_name": "ga15pyd",
   "language": "python",
   "name": "python3"
  },
  "language_info": {
   "codemirror_mode": {
    "name": "ipython",
    "version": 3
   },
   "file_extension": ".py",
   "mimetype": "text/x-python",
   "name": "python",
   "nbconvert_exporter": "python",
   "pygments_lexer": "ipython3",
   "version": "3.10.9"
  },
  "orig_nbformat": 4
 },
 "nbformat": 4,
 "nbformat_minor": 2
}
